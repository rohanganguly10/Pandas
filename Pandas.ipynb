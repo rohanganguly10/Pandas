{
 "cells": [
  {
   "cell_type": "code",
   "execution_count": 2,
   "id": "8d1b57ad",
   "metadata": {},
   "outputs": [],
   "source": [
    "import pandas as pd"
   ]
  },
  {
   "cell_type": "code",
   "execution_count": 3,
   "id": "0de57205",
   "metadata": {},
   "outputs": [],
   "source": [
    "import numpy as np"
   ]
  },
  {
   "cell_type": "code",
   "execution_count": 180,
   "id": "dea80617",
   "metadata": {},
   "outputs": [],
   "source": [
    "#### creating dataframe"
   ]
  },
  {
   "cell_type": "code",
   "execution_count": 4,
   "id": "81d5ab3a",
   "metadata": {},
   "outputs": [],
   "source": [
    "df = pd.DataFrame({'Name' : ['rohan', 'sunita', 'avni', 'komal'], 'age' : [28, 33, 18, 28], 'gender' : ['M', 'F', 'F', 'F']})"
   ]
  },
  {
   "cell_type": "code",
   "execution_count": 5,
   "id": "bad24dde",
   "metadata": {},
   "outputs": [
    {
     "data": {
      "text/html": [
       "<div>\n",
       "<style scoped>\n",
       "    .dataframe tbody tr th:only-of-type {\n",
       "        vertical-align: middle;\n",
       "    }\n",
       "\n",
       "    .dataframe tbody tr th {\n",
       "        vertical-align: top;\n",
       "    }\n",
       "\n",
       "    .dataframe thead th {\n",
       "        text-align: right;\n",
       "    }\n",
       "</style>\n",
       "<table border=\"1\" class=\"dataframe\">\n",
       "  <thead>\n",
       "    <tr style=\"text-align: right;\">\n",
       "      <th></th>\n",
       "      <th>Name</th>\n",
       "      <th>age</th>\n",
       "      <th>gender</th>\n",
       "    </tr>\n",
       "  </thead>\n",
       "  <tbody>\n",
       "    <tr>\n",
       "      <th>0</th>\n",
       "      <td>rohan</td>\n",
       "      <td>28</td>\n",
       "      <td>M</td>\n",
       "    </tr>\n",
       "    <tr>\n",
       "      <th>1</th>\n",
       "      <td>sunita</td>\n",
       "      <td>33</td>\n",
       "      <td>F</td>\n",
       "    </tr>\n",
       "    <tr>\n",
       "      <th>2</th>\n",
       "      <td>avni</td>\n",
       "      <td>18</td>\n",
       "      <td>F</td>\n",
       "    </tr>\n",
       "    <tr>\n",
       "      <th>3</th>\n",
       "      <td>komal</td>\n",
       "      <td>28</td>\n",
       "      <td>F</td>\n",
       "    </tr>\n",
       "  </tbody>\n",
       "</table>\n",
       "</div>"
      ],
      "text/plain": [
       "     Name  age gender\n",
       "0   rohan   28      M\n",
       "1  sunita   33      F\n",
       "2    avni   18      F\n",
       "3   komal   28      F"
      ]
     },
     "execution_count": 5,
     "metadata": {},
     "output_type": "execute_result"
    }
   ],
   "source": [
    "df"
   ]
  },
  {
   "cell_type": "code",
   "execution_count": 6,
   "id": "b70a5349",
   "metadata": {},
   "outputs": [
    {
     "data": {
      "text/plain": [
       "<bound method DataFrame.info of      Name  age gender\n",
       "0   rohan   28      M\n",
       "1  sunita   33      F\n",
       "2    avni   18      F\n",
       "3   komal   28      F>"
      ]
     },
     "execution_count": 6,
     "metadata": {},
     "output_type": "execute_result"
    }
   ],
   "source": [
    "df.info"
   ]
  },
  {
   "cell_type": "code",
   "execution_count": 7,
   "id": "af52c2c7",
   "metadata": {},
   "outputs": [
    {
     "data": {
      "text/html": [
       "<div>\n",
       "<style scoped>\n",
       "    .dataframe tbody tr th:only-of-type {\n",
       "        vertical-align: middle;\n",
       "    }\n",
       "\n",
       "    .dataframe tbody tr th {\n",
       "        vertical-align: top;\n",
       "    }\n",
       "\n",
       "    .dataframe thead th {\n",
       "        text-align: right;\n",
       "    }\n",
       "</style>\n",
       "<table border=\"1\" class=\"dataframe\">\n",
       "  <thead>\n",
       "    <tr style=\"text-align: right;\">\n",
       "      <th></th>\n",
       "      <th>age</th>\n",
       "    </tr>\n",
       "  </thead>\n",
       "  <tbody>\n",
       "    <tr>\n",
       "      <th>count</th>\n",
       "      <td>4.000000</td>\n",
       "    </tr>\n",
       "    <tr>\n",
       "      <th>mean</th>\n",
       "      <td>26.750000</td>\n",
       "    </tr>\n",
       "    <tr>\n",
       "      <th>std</th>\n",
       "      <td>6.291529</td>\n",
       "    </tr>\n",
       "    <tr>\n",
       "      <th>min</th>\n",
       "      <td>18.000000</td>\n",
       "    </tr>\n",
       "    <tr>\n",
       "      <th>25%</th>\n",
       "      <td>25.500000</td>\n",
       "    </tr>\n",
       "    <tr>\n",
       "      <th>50%</th>\n",
       "      <td>28.000000</td>\n",
       "    </tr>\n",
       "    <tr>\n",
       "      <th>75%</th>\n",
       "      <td>29.250000</td>\n",
       "    </tr>\n",
       "    <tr>\n",
       "      <th>max</th>\n",
       "      <td>33.000000</td>\n",
       "    </tr>\n",
       "  </tbody>\n",
       "</table>\n",
       "</div>"
      ],
      "text/plain": [
       "             age\n",
       "count   4.000000\n",
       "mean   26.750000\n",
       "std     6.291529\n",
       "min    18.000000\n",
       "25%    25.500000\n",
       "50%    28.000000\n",
       "75%    29.250000\n",
       "max    33.000000"
      ]
     },
     "execution_count": 7,
     "metadata": {},
     "output_type": "execute_result"
    }
   ],
   "source": [
    "df.describe()"
   ]
  },
  {
   "cell_type": "code",
   "execution_count": 8,
   "id": "c120e8e4",
   "metadata": {},
   "outputs": [],
   "source": [
    "#### to know the column names"
   ]
  },
  {
   "cell_type": "code",
   "execution_count": 9,
   "id": "633a1967",
   "metadata": {},
   "outputs": [
    {
     "data": {
      "text/plain": [
       "Index(['Name', 'age', 'gender'], dtype='object')"
      ]
     },
     "execution_count": 9,
     "metadata": {},
     "output_type": "execute_result"
    }
   ],
   "source": [
    "df.columns"
   ]
  },
  {
   "cell_type": "code",
   "execution_count": 10,
   "id": "aac821e4",
   "metadata": {},
   "outputs": [
    {
     "data": {
      "text/plain": [
       "Index(['Name', 'age', 'gender'], dtype='object')"
      ]
     },
     "execution_count": 10,
     "metadata": {},
     "output_type": "execute_result"
    }
   ],
   "source": [
    "df.keys()"
   ]
  },
  {
   "cell_type": "code",
   "execution_count": 11,
   "id": "9afdb0e9",
   "metadata": {},
   "outputs": [],
   "source": [
    "#### to know values of specific column names"
   ]
  },
  {
   "cell_type": "code",
   "execution_count": 12,
   "id": "90dd997d",
   "metadata": {},
   "outputs": [
    {
     "data": {
      "text/plain": [
       "0     rohan\n",
       "1    sunita\n",
       "2      avni\n",
       "3     komal\n",
       "Name: Name, dtype: object"
      ]
     },
     "execution_count": 12,
     "metadata": {},
     "output_type": "execute_result"
    }
   ],
   "source": [
    "df['Name']"
   ]
  },
  {
   "cell_type": "code",
   "execution_count": 13,
   "id": "4e85ff16",
   "metadata": {},
   "outputs": [],
   "source": [
    "#### unique values of a column"
   ]
  },
  {
   "cell_type": "code",
   "execution_count": 14,
   "id": "30b245cd",
   "metadata": {},
   "outputs": [
    {
     "data": {
      "text/plain": [
       "array([28, 33, 18], dtype=int64)"
      ]
     },
     "execution_count": 14,
     "metadata": {},
     "output_type": "execute_result"
    }
   ],
   "source": [
    "df['age'].unique()"
   ]
  },
  {
   "cell_type": "code",
   "execution_count": 15,
   "id": "50e22768",
   "metadata": {},
   "outputs": [],
   "source": [
    "#### value counts"
   ]
  },
  {
   "cell_type": "code",
   "execution_count": 16,
   "id": "839e5b48",
   "metadata": {},
   "outputs": [
    {
     "data": {
      "text/plain": [
       "age\n",
       "28    2\n",
       "33    1\n",
       "18    1\n",
       "Name: count, dtype: int64"
      ]
     },
     "execution_count": 16,
     "metadata": {},
     "output_type": "execute_result"
    }
   ],
   "source": [
    "df['age'].value_counts()"
   ]
  },
  {
   "cell_type": "code",
   "execution_count": 17,
   "id": "a4a75083",
   "metadata": {},
   "outputs": [],
   "source": [
    "#### renaming column name"
   ]
  },
  {
   "cell_type": "code",
   "execution_count": 18,
   "id": "cc1d01e1",
   "metadata": {},
   "outputs": [],
   "source": [
    "df.rename({'Name': 'name'}, axis=1,inplace = True)"
   ]
  },
  {
   "cell_type": "code",
   "execution_count": 19,
   "id": "254d3a03",
   "metadata": {},
   "outputs": [
    {
     "data": {
      "text/html": [
       "<div>\n",
       "<style scoped>\n",
       "    .dataframe tbody tr th:only-of-type {\n",
       "        vertical-align: middle;\n",
       "    }\n",
       "\n",
       "    .dataframe tbody tr th {\n",
       "        vertical-align: top;\n",
       "    }\n",
       "\n",
       "    .dataframe thead th {\n",
       "        text-align: right;\n",
       "    }\n",
       "</style>\n",
       "<table border=\"1\" class=\"dataframe\">\n",
       "  <thead>\n",
       "    <tr style=\"text-align: right;\">\n",
       "      <th></th>\n",
       "      <th>name</th>\n",
       "      <th>age</th>\n",
       "      <th>gender</th>\n",
       "    </tr>\n",
       "  </thead>\n",
       "  <tbody>\n",
       "    <tr>\n",
       "      <th>0</th>\n",
       "      <td>rohan</td>\n",
       "      <td>28</td>\n",
       "      <td>M</td>\n",
       "    </tr>\n",
       "    <tr>\n",
       "      <th>1</th>\n",
       "      <td>sunita</td>\n",
       "      <td>33</td>\n",
       "      <td>F</td>\n",
       "    </tr>\n",
       "    <tr>\n",
       "      <th>2</th>\n",
       "      <td>avni</td>\n",
       "      <td>18</td>\n",
       "      <td>F</td>\n",
       "    </tr>\n",
       "    <tr>\n",
       "      <th>3</th>\n",
       "      <td>komal</td>\n",
       "      <td>28</td>\n",
       "      <td>F</td>\n",
       "    </tr>\n",
       "  </tbody>\n",
       "</table>\n",
       "</div>"
      ],
      "text/plain": [
       "     name  age gender\n",
       "0   rohan   28      M\n",
       "1  sunita   33      F\n",
       "2    avni   18      F\n",
       "3   komal   28      F"
      ]
     },
     "execution_count": 19,
     "metadata": {},
     "output_type": "execute_result"
    }
   ],
   "source": [
    "df"
   ]
  },
  {
   "cell_type": "code",
   "execution_count": 20,
   "id": "253f5fee",
   "metadata": {},
   "outputs": [],
   "source": [
    "#### Adding new column"
   ]
  },
  {
   "cell_type": "code",
   "execution_count": 21,
   "id": "f4e685a8",
   "metadata": {},
   "outputs": [],
   "source": [
    "df['city'] = ['Jdp', 'Bkn', 'Jpr', 'Ggn']"
   ]
  },
  {
   "cell_type": "code",
   "execution_count": 22,
   "id": "c3752e71",
   "metadata": {},
   "outputs": [
    {
     "data": {
      "text/html": [
       "<div>\n",
       "<style scoped>\n",
       "    .dataframe tbody tr th:only-of-type {\n",
       "        vertical-align: middle;\n",
       "    }\n",
       "\n",
       "    .dataframe tbody tr th {\n",
       "        vertical-align: top;\n",
       "    }\n",
       "\n",
       "    .dataframe thead th {\n",
       "        text-align: right;\n",
       "    }\n",
       "</style>\n",
       "<table border=\"1\" class=\"dataframe\">\n",
       "  <thead>\n",
       "    <tr style=\"text-align: right;\">\n",
       "      <th></th>\n",
       "      <th>name</th>\n",
       "      <th>age</th>\n",
       "      <th>gender</th>\n",
       "      <th>city</th>\n",
       "    </tr>\n",
       "  </thead>\n",
       "  <tbody>\n",
       "    <tr>\n",
       "      <th>0</th>\n",
       "      <td>rohan</td>\n",
       "      <td>28</td>\n",
       "      <td>M</td>\n",
       "      <td>Jdp</td>\n",
       "    </tr>\n",
       "    <tr>\n",
       "      <th>1</th>\n",
       "      <td>sunita</td>\n",
       "      <td>33</td>\n",
       "      <td>F</td>\n",
       "      <td>Bkn</td>\n",
       "    </tr>\n",
       "    <tr>\n",
       "      <th>2</th>\n",
       "      <td>avni</td>\n",
       "      <td>18</td>\n",
       "      <td>F</td>\n",
       "      <td>Jpr</td>\n",
       "    </tr>\n",
       "    <tr>\n",
       "      <th>3</th>\n",
       "      <td>komal</td>\n",
       "      <td>28</td>\n",
       "      <td>F</td>\n",
       "      <td>Ggn</td>\n",
       "    </tr>\n",
       "  </tbody>\n",
       "</table>\n",
       "</div>"
      ],
      "text/plain": [
       "     name  age gender city\n",
       "0   rohan   28      M  Jdp\n",
       "1  sunita   33      F  Bkn\n",
       "2    avni   18      F  Jpr\n",
       "3   komal   28      F  Ggn"
      ]
     },
     "execution_count": 22,
     "metadata": {},
     "output_type": "execute_result"
    }
   ],
   "source": [
    "df"
   ]
  },
  {
   "cell_type": "code",
   "execution_count": 23,
   "id": "5dd51a4f",
   "metadata": {},
   "outputs": [],
   "source": [
    "#### droping a column"
   ]
  },
  {
   "cell_type": "code",
   "execution_count": 24,
   "id": "d7cba069",
   "metadata": {},
   "outputs": [],
   "source": [
    "df.drop('city', axis= 1, inplace = True)"
   ]
  },
  {
   "cell_type": "code",
   "execution_count": 25,
   "id": "18313f4c",
   "metadata": {},
   "outputs": [
    {
     "data": {
      "text/html": [
       "<div>\n",
       "<style scoped>\n",
       "    .dataframe tbody tr th:only-of-type {\n",
       "        vertical-align: middle;\n",
       "    }\n",
       "\n",
       "    .dataframe tbody tr th {\n",
       "        vertical-align: top;\n",
       "    }\n",
       "\n",
       "    .dataframe thead th {\n",
       "        text-align: right;\n",
       "    }\n",
       "</style>\n",
       "<table border=\"1\" class=\"dataframe\">\n",
       "  <thead>\n",
       "    <tr style=\"text-align: right;\">\n",
       "      <th></th>\n",
       "      <th>name</th>\n",
       "      <th>age</th>\n",
       "      <th>gender</th>\n",
       "    </tr>\n",
       "  </thead>\n",
       "  <tbody>\n",
       "    <tr>\n",
       "      <th>0</th>\n",
       "      <td>rohan</td>\n",
       "      <td>28</td>\n",
       "      <td>M</td>\n",
       "    </tr>\n",
       "    <tr>\n",
       "      <th>1</th>\n",
       "      <td>sunita</td>\n",
       "      <td>33</td>\n",
       "      <td>F</td>\n",
       "    </tr>\n",
       "    <tr>\n",
       "      <th>2</th>\n",
       "      <td>avni</td>\n",
       "      <td>18</td>\n",
       "      <td>F</td>\n",
       "    </tr>\n",
       "    <tr>\n",
       "      <th>3</th>\n",
       "      <td>komal</td>\n",
       "      <td>28</td>\n",
       "      <td>F</td>\n",
       "    </tr>\n",
       "  </tbody>\n",
       "</table>\n",
       "</div>"
      ],
      "text/plain": [
       "     name  age gender\n",
       "0   rohan   28      M\n",
       "1  sunita   33      F\n",
       "2    avni   18      F\n",
       "3   komal   28      F"
      ]
     },
     "execution_count": 25,
     "metadata": {},
     "output_type": "execute_result"
    }
   ],
   "source": [
    "df"
   ]
  },
  {
   "cell_type": "code",
   "execution_count": 26,
   "id": "663fc4f7",
   "metadata": {},
   "outputs": [],
   "source": [
    "#### adding new column"
   ]
  },
  {
   "cell_type": "code",
   "execution_count": 27,
   "id": "a7edc112",
   "metadata": {},
   "outputs": [],
   "source": [
    "def get_age_group(age):\n",
    "    if age > 20:\n",
    "        return 'A'\n",
    "    else:\n",
    "        return 'S'"
   ]
  },
  {
   "cell_type": "code",
   "execution_count": 28,
   "id": "96c75dbe",
   "metadata": {},
   "outputs": [],
   "source": [
    "df['age_group'] = df['age'].apply(get_age_group)"
   ]
  },
  {
   "cell_type": "code",
   "execution_count": 29,
   "id": "5f30a953",
   "metadata": {},
   "outputs": [
    {
     "data": {
      "text/html": [
       "<div>\n",
       "<style scoped>\n",
       "    .dataframe tbody tr th:only-of-type {\n",
       "        vertical-align: middle;\n",
       "    }\n",
       "\n",
       "    .dataframe tbody tr th {\n",
       "        vertical-align: top;\n",
       "    }\n",
       "\n",
       "    .dataframe thead th {\n",
       "        text-align: right;\n",
       "    }\n",
       "</style>\n",
       "<table border=\"1\" class=\"dataframe\">\n",
       "  <thead>\n",
       "    <tr style=\"text-align: right;\">\n",
       "      <th></th>\n",
       "      <th>name</th>\n",
       "      <th>age</th>\n",
       "      <th>gender</th>\n",
       "      <th>age_group</th>\n",
       "    </tr>\n",
       "  </thead>\n",
       "  <tbody>\n",
       "    <tr>\n",
       "      <th>0</th>\n",
       "      <td>rohan</td>\n",
       "      <td>28</td>\n",
       "      <td>M</td>\n",
       "      <td>A</td>\n",
       "    </tr>\n",
       "    <tr>\n",
       "      <th>1</th>\n",
       "      <td>sunita</td>\n",
       "      <td>33</td>\n",
       "      <td>F</td>\n",
       "      <td>A</td>\n",
       "    </tr>\n",
       "    <tr>\n",
       "      <th>2</th>\n",
       "      <td>avni</td>\n",
       "      <td>18</td>\n",
       "      <td>F</td>\n",
       "      <td>S</td>\n",
       "    </tr>\n",
       "    <tr>\n",
       "      <th>3</th>\n",
       "      <td>komal</td>\n",
       "      <td>28</td>\n",
       "      <td>F</td>\n",
       "      <td>A</td>\n",
       "    </tr>\n",
       "  </tbody>\n",
       "</table>\n",
       "</div>"
      ],
      "text/plain": [
       "     name  age gender age_group\n",
       "0   rohan   28      M         A\n",
       "1  sunita   33      F         A\n",
       "2    avni   18      F         S\n",
       "3   komal   28      F         A"
      ]
     },
     "execution_count": 29,
     "metadata": {},
     "output_type": "execute_result"
    }
   ],
   "source": [
    "df"
   ]
  },
  {
   "cell_type": "code",
   "execution_count": 30,
   "id": "0548a117",
   "metadata": {},
   "outputs": [],
   "source": [
    "def name_length(name):\n",
    "    return len(name)"
   ]
  },
  {
   "cell_type": "code",
   "execution_count": 31,
   "id": "7a153046",
   "metadata": {},
   "outputs": [],
   "source": [
    "df['name_length'] = df['name'].apply(name_length)"
   ]
  },
  {
   "cell_type": "code",
   "execution_count": 32,
   "id": "50f721dd",
   "metadata": {},
   "outputs": [
    {
     "data": {
      "text/html": [
       "<div>\n",
       "<style scoped>\n",
       "    .dataframe tbody tr th:only-of-type {\n",
       "        vertical-align: middle;\n",
       "    }\n",
       "\n",
       "    .dataframe tbody tr th {\n",
       "        vertical-align: top;\n",
       "    }\n",
       "\n",
       "    .dataframe thead th {\n",
       "        text-align: right;\n",
       "    }\n",
       "</style>\n",
       "<table border=\"1\" class=\"dataframe\">\n",
       "  <thead>\n",
       "    <tr style=\"text-align: right;\">\n",
       "      <th></th>\n",
       "      <th>name</th>\n",
       "      <th>age</th>\n",
       "      <th>gender</th>\n",
       "      <th>age_group</th>\n",
       "      <th>name_length</th>\n",
       "    </tr>\n",
       "  </thead>\n",
       "  <tbody>\n",
       "    <tr>\n",
       "      <th>0</th>\n",
       "      <td>rohan</td>\n",
       "      <td>28</td>\n",
       "      <td>M</td>\n",
       "      <td>A</td>\n",
       "      <td>5</td>\n",
       "    </tr>\n",
       "    <tr>\n",
       "      <th>1</th>\n",
       "      <td>sunita</td>\n",
       "      <td>33</td>\n",
       "      <td>F</td>\n",
       "      <td>A</td>\n",
       "      <td>6</td>\n",
       "    </tr>\n",
       "    <tr>\n",
       "      <th>2</th>\n",
       "      <td>avni</td>\n",
       "      <td>18</td>\n",
       "      <td>F</td>\n",
       "      <td>S</td>\n",
       "      <td>4</td>\n",
       "    </tr>\n",
       "    <tr>\n",
       "      <th>3</th>\n",
       "      <td>komal</td>\n",
       "      <td>28</td>\n",
       "      <td>F</td>\n",
       "      <td>A</td>\n",
       "      <td>5</td>\n",
       "    </tr>\n",
       "  </tbody>\n",
       "</table>\n",
       "</div>"
      ],
      "text/plain": [
       "     name  age gender age_group  name_length\n",
       "0   rohan   28      M         A            5\n",
       "1  sunita   33      F         A            6\n",
       "2    avni   18      F         S            4\n",
       "3   komal   28      F         A            5"
      ]
     },
     "execution_count": 32,
     "metadata": {},
     "output_type": "execute_result"
    }
   ],
   "source": [
    "df"
   ]
  },
  {
   "cell_type": "code",
   "execution_count": 33,
   "id": "f6501bc5",
   "metadata": {},
   "outputs": [],
   "source": [
    "#### changing index"
   ]
  },
  {
   "cell_type": "code",
   "execution_count": 34,
   "id": "19d2737e",
   "metadata": {},
   "outputs": [
    {
     "data": {
      "text/plain": [
       "array([0, 1, 2, 3], dtype=int64)"
      ]
     },
     "execution_count": 34,
     "metadata": {},
     "output_type": "execute_result"
    }
   ],
   "source": [
    "df.index.values"
   ]
  },
  {
   "cell_type": "code",
   "execution_count": 35,
   "id": "b4c7de1c",
   "metadata": {},
   "outputs": [],
   "source": [
    "df.index = range(1, df.shape[0]+1)  # changing range of index"
   ]
  },
  {
   "cell_type": "code",
   "execution_count": 36,
   "id": "da7e5534",
   "metadata": {},
   "outputs": [
    {
     "data": {
      "text/html": [
       "<div>\n",
       "<style scoped>\n",
       "    .dataframe tbody tr th:only-of-type {\n",
       "        vertical-align: middle;\n",
       "    }\n",
       "\n",
       "    .dataframe tbody tr th {\n",
       "        vertical-align: top;\n",
       "    }\n",
       "\n",
       "    .dataframe thead th {\n",
       "        text-align: right;\n",
       "    }\n",
       "</style>\n",
       "<table border=\"1\" class=\"dataframe\">\n",
       "  <thead>\n",
       "    <tr style=\"text-align: right;\">\n",
       "      <th></th>\n",
       "      <th>name</th>\n",
       "      <th>age</th>\n",
       "      <th>gender</th>\n",
       "      <th>age_group</th>\n",
       "      <th>name_length</th>\n",
       "    </tr>\n",
       "  </thead>\n",
       "  <tbody>\n",
       "    <tr>\n",
       "      <th>1</th>\n",
       "      <td>rohan</td>\n",
       "      <td>28</td>\n",
       "      <td>M</td>\n",
       "      <td>A</td>\n",
       "      <td>5</td>\n",
       "    </tr>\n",
       "    <tr>\n",
       "      <th>2</th>\n",
       "      <td>sunita</td>\n",
       "      <td>33</td>\n",
       "      <td>F</td>\n",
       "      <td>A</td>\n",
       "      <td>6</td>\n",
       "    </tr>\n",
       "    <tr>\n",
       "      <th>3</th>\n",
       "      <td>avni</td>\n",
       "      <td>18</td>\n",
       "      <td>F</td>\n",
       "      <td>S</td>\n",
       "      <td>4</td>\n",
       "    </tr>\n",
       "    <tr>\n",
       "      <th>4</th>\n",
       "      <td>komal</td>\n",
       "      <td>28</td>\n",
       "      <td>F</td>\n",
       "      <td>A</td>\n",
       "      <td>5</td>\n",
       "    </tr>\n",
       "  </tbody>\n",
       "</table>\n",
       "</div>"
      ],
      "text/plain": [
       "     name  age gender age_group  name_length\n",
       "1   rohan   28      M         A            5\n",
       "2  sunita   33      F         A            6\n",
       "3    avni   18      F         S            4\n",
       "4   komal   28      F         A            5"
      ]
     },
     "execution_count": 36,
     "metadata": {},
     "output_type": "execute_result"
    }
   ],
   "source": [
    "df"
   ]
  },
  {
   "cell_type": "code",
   "execution_count": 37,
   "id": "e5cb2f3c",
   "metadata": {},
   "outputs": [
    {
     "data": {
      "text/plain": [
       "array(['rohan', 'sunita', 'avni', 'komal'], dtype=object)"
      ]
     },
     "execution_count": 37,
     "metadata": {},
     "output_type": "execute_result"
    }
   ],
   "source": [
    "df.set_index('name').index.values   # setting a column as index"
   ]
  },
  {
   "cell_type": "code",
   "execution_count": 38,
   "id": "437ace73",
   "metadata": {},
   "outputs": [],
   "source": [
    "df.reset_index(inplace = True)    # resetting index"
   ]
  },
  {
   "cell_type": "code",
   "execution_count": 39,
   "id": "885e58bb",
   "metadata": {},
   "outputs": [
    {
     "data": {
      "text/html": [
       "<div>\n",
       "<style scoped>\n",
       "    .dataframe tbody tr th:only-of-type {\n",
       "        vertical-align: middle;\n",
       "    }\n",
       "\n",
       "    .dataframe tbody tr th {\n",
       "        vertical-align: top;\n",
       "    }\n",
       "\n",
       "    .dataframe thead th {\n",
       "        text-align: right;\n",
       "    }\n",
       "</style>\n",
       "<table border=\"1\" class=\"dataframe\">\n",
       "  <thead>\n",
       "    <tr style=\"text-align: right;\">\n",
       "      <th></th>\n",
       "      <th>index</th>\n",
       "      <th>name</th>\n",
       "      <th>age</th>\n",
       "      <th>gender</th>\n",
       "      <th>age_group</th>\n",
       "      <th>name_length</th>\n",
       "    </tr>\n",
       "  </thead>\n",
       "  <tbody>\n",
       "    <tr>\n",
       "      <th>0</th>\n",
       "      <td>1</td>\n",
       "      <td>rohan</td>\n",
       "      <td>28</td>\n",
       "      <td>M</td>\n",
       "      <td>A</td>\n",
       "      <td>5</td>\n",
       "    </tr>\n",
       "    <tr>\n",
       "      <th>1</th>\n",
       "      <td>2</td>\n",
       "      <td>sunita</td>\n",
       "      <td>33</td>\n",
       "      <td>F</td>\n",
       "      <td>A</td>\n",
       "      <td>6</td>\n",
       "    </tr>\n",
       "    <tr>\n",
       "      <th>2</th>\n",
       "      <td>3</td>\n",
       "      <td>avni</td>\n",
       "      <td>18</td>\n",
       "      <td>F</td>\n",
       "      <td>S</td>\n",
       "      <td>4</td>\n",
       "    </tr>\n",
       "    <tr>\n",
       "      <th>3</th>\n",
       "      <td>4</td>\n",
       "      <td>komal</td>\n",
       "      <td>28</td>\n",
       "      <td>F</td>\n",
       "      <td>A</td>\n",
       "      <td>5</td>\n",
       "    </tr>\n",
       "  </tbody>\n",
       "</table>\n",
       "</div>"
      ],
      "text/plain": [
       "   index    name  age gender age_group  name_length\n",
       "0      1   rohan   28      M         A            5\n",
       "1      2  sunita   33      F         A            6\n",
       "2      3    avni   18      F         S            4\n",
       "3      4   komal   28      F         A            5"
      ]
     },
     "execution_count": 39,
     "metadata": {},
     "output_type": "execute_result"
    }
   ],
   "source": [
    "df"
   ]
  },
  {
   "cell_type": "code",
   "execution_count": 40,
   "id": "165cb066",
   "metadata": {},
   "outputs": [],
   "source": [
    "df.drop('index', axis = 1, inplace = True)"
   ]
  },
  {
   "cell_type": "code",
   "execution_count": 41,
   "id": "2775ba9e",
   "metadata": {},
   "outputs": [
    {
     "data": {
      "text/html": [
       "<div>\n",
       "<style scoped>\n",
       "    .dataframe tbody tr th:only-of-type {\n",
       "        vertical-align: middle;\n",
       "    }\n",
       "\n",
       "    .dataframe tbody tr th {\n",
       "        vertical-align: top;\n",
       "    }\n",
       "\n",
       "    .dataframe thead th {\n",
       "        text-align: right;\n",
       "    }\n",
       "</style>\n",
       "<table border=\"1\" class=\"dataframe\">\n",
       "  <thead>\n",
       "    <tr style=\"text-align: right;\">\n",
       "      <th></th>\n",
       "      <th>name</th>\n",
       "      <th>age</th>\n",
       "      <th>gender</th>\n",
       "      <th>age_group</th>\n",
       "      <th>name_length</th>\n",
       "    </tr>\n",
       "  </thead>\n",
       "  <tbody>\n",
       "    <tr>\n",
       "      <th>0</th>\n",
       "      <td>rohan</td>\n",
       "      <td>28</td>\n",
       "      <td>M</td>\n",
       "      <td>A</td>\n",
       "      <td>5</td>\n",
       "    </tr>\n",
       "    <tr>\n",
       "      <th>1</th>\n",
       "      <td>sunita</td>\n",
       "      <td>33</td>\n",
       "      <td>F</td>\n",
       "      <td>A</td>\n",
       "      <td>6</td>\n",
       "    </tr>\n",
       "    <tr>\n",
       "      <th>2</th>\n",
       "      <td>avni</td>\n",
       "      <td>18</td>\n",
       "      <td>F</td>\n",
       "      <td>S</td>\n",
       "      <td>4</td>\n",
       "    </tr>\n",
       "    <tr>\n",
       "      <th>3</th>\n",
       "      <td>komal</td>\n",
       "      <td>28</td>\n",
       "      <td>F</td>\n",
       "      <td>A</td>\n",
       "      <td>5</td>\n",
       "    </tr>\n",
       "  </tbody>\n",
       "</table>\n",
       "</div>"
      ],
      "text/plain": [
       "     name  age gender age_group  name_length\n",
       "0   rohan   28      M         A            5\n",
       "1  sunita   33      F         A            6\n",
       "2    avni   18      F         S            4\n",
       "3   komal   28      F         A            5"
      ]
     },
     "execution_count": 41,
     "metadata": {},
     "output_type": "execute_result"
    }
   ],
   "source": [
    "df"
   ]
  },
  {
   "cell_type": "code",
   "execution_count": 42,
   "id": "805a006a",
   "metadata": {},
   "outputs": [],
   "source": [
    "#### fetching values from index -- iloc vs loc"
   ]
  },
  {
   "cell_type": "code",
   "execution_count": 43,
   "id": "08eeb14a",
   "metadata": {},
   "outputs": [],
   "source": [
    "df.index = range(1, df.shape[0]+1)"
   ]
  },
  {
   "cell_type": "code",
   "execution_count": 44,
   "id": "38ca4263",
   "metadata": {},
   "outputs": [
    {
     "ename": "KeyError",
     "evalue": "\"['index'] not found in axis\"",
     "output_type": "error",
     "traceback": [
      "\u001b[1;31m---------------------------------------------------------------------------\u001b[0m",
      "\u001b[1;31mKeyError\u001b[0m                                  Traceback (most recent call last)",
      "Cell \u001b[1;32mIn[44], line 1\u001b[0m\n\u001b[1;32m----> 1\u001b[0m df\u001b[38;5;241m.\u001b[39mdrop(\u001b[38;5;124m'\u001b[39m\u001b[38;5;124mindex\u001b[39m\u001b[38;5;124m'\u001b[39m, axis\u001b[38;5;241m=\u001b[39m\u001b[38;5;241m1\u001b[39m, inplace\u001b[38;5;241m=\u001b[39m\u001b[38;5;28;01mTrue\u001b[39;00m)\n",
      "File \u001b[1;32m~\\anaconda_new\\Lib\\site-packages\\pandas\\core\\frame.py:5258\u001b[0m, in \u001b[0;36mDataFrame.drop\u001b[1;34m(self, labels, axis, index, columns, level, inplace, errors)\u001b[0m\n\u001b[0;32m   5110\u001b[0m \u001b[38;5;28;01mdef\u001b[39;00m \u001b[38;5;21mdrop\u001b[39m(\n\u001b[0;32m   5111\u001b[0m     \u001b[38;5;28mself\u001b[39m,\n\u001b[0;32m   5112\u001b[0m     labels: IndexLabel \u001b[38;5;241m=\u001b[39m \u001b[38;5;28;01mNone\u001b[39;00m,\n\u001b[1;32m   (...)\u001b[0m\n\u001b[0;32m   5119\u001b[0m     errors: IgnoreRaise \u001b[38;5;241m=\u001b[39m \u001b[38;5;124m\"\u001b[39m\u001b[38;5;124mraise\u001b[39m\u001b[38;5;124m\"\u001b[39m,\n\u001b[0;32m   5120\u001b[0m ) \u001b[38;5;241m-\u001b[39m\u001b[38;5;241m>\u001b[39m DataFrame \u001b[38;5;241m|\u001b[39m \u001b[38;5;28;01mNone\u001b[39;00m:\n\u001b[0;32m   5121\u001b[0m \u001b[38;5;250m    \u001b[39m\u001b[38;5;124;03m\"\"\"\u001b[39;00m\n\u001b[0;32m   5122\u001b[0m \u001b[38;5;124;03m    Drop specified labels from rows or columns.\u001b[39;00m\n\u001b[0;32m   5123\u001b[0m \n\u001b[1;32m   (...)\u001b[0m\n\u001b[0;32m   5256\u001b[0m \u001b[38;5;124;03m            weight  1.0     0.8\u001b[39;00m\n\u001b[0;32m   5257\u001b[0m \u001b[38;5;124;03m    \"\"\"\u001b[39;00m\n\u001b[1;32m-> 5258\u001b[0m     \u001b[38;5;28;01mreturn\u001b[39;00m \u001b[38;5;28msuper\u001b[39m()\u001b[38;5;241m.\u001b[39mdrop(\n\u001b[0;32m   5259\u001b[0m         labels\u001b[38;5;241m=\u001b[39mlabels,\n\u001b[0;32m   5260\u001b[0m         axis\u001b[38;5;241m=\u001b[39maxis,\n\u001b[0;32m   5261\u001b[0m         index\u001b[38;5;241m=\u001b[39mindex,\n\u001b[0;32m   5262\u001b[0m         columns\u001b[38;5;241m=\u001b[39mcolumns,\n\u001b[0;32m   5263\u001b[0m         level\u001b[38;5;241m=\u001b[39mlevel,\n\u001b[0;32m   5264\u001b[0m         inplace\u001b[38;5;241m=\u001b[39minplace,\n\u001b[0;32m   5265\u001b[0m         errors\u001b[38;5;241m=\u001b[39merrors,\n\u001b[0;32m   5266\u001b[0m     )\n",
      "File \u001b[1;32m~\\anaconda_new\\Lib\\site-packages\\pandas\\core\\generic.py:4549\u001b[0m, in \u001b[0;36mNDFrame.drop\u001b[1;34m(self, labels, axis, index, columns, level, inplace, errors)\u001b[0m\n\u001b[0;32m   4547\u001b[0m \u001b[38;5;28;01mfor\u001b[39;00m axis, labels \u001b[38;5;129;01min\u001b[39;00m axes\u001b[38;5;241m.\u001b[39mitems():\n\u001b[0;32m   4548\u001b[0m     \u001b[38;5;28;01mif\u001b[39;00m labels \u001b[38;5;129;01mis\u001b[39;00m \u001b[38;5;129;01mnot\u001b[39;00m \u001b[38;5;28;01mNone\u001b[39;00m:\n\u001b[1;32m-> 4549\u001b[0m         obj \u001b[38;5;241m=\u001b[39m obj\u001b[38;5;241m.\u001b[39m_drop_axis(labels, axis, level\u001b[38;5;241m=\u001b[39mlevel, errors\u001b[38;5;241m=\u001b[39merrors)\n\u001b[0;32m   4551\u001b[0m \u001b[38;5;28;01mif\u001b[39;00m inplace:\n\u001b[0;32m   4552\u001b[0m     \u001b[38;5;28mself\u001b[39m\u001b[38;5;241m.\u001b[39m_update_inplace(obj)\n",
      "File \u001b[1;32m~\\anaconda_new\\Lib\\site-packages\\pandas\\core\\generic.py:4591\u001b[0m, in \u001b[0;36mNDFrame._drop_axis\u001b[1;34m(self, labels, axis, level, errors, only_slice)\u001b[0m\n\u001b[0;32m   4589\u001b[0m         new_axis \u001b[38;5;241m=\u001b[39m axis\u001b[38;5;241m.\u001b[39mdrop(labels, level\u001b[38;5;241m=\u001b[39mlevel, errors\u001b[38;5;241m=\u001b[39merrors)\n\u001b[0;32m   4590\u001b[0m     \u001b[38;5;28;01melse\u001b[39;00m:\n\u001b[1;32m-> 4591\u001b[0m         new_axis \u001b[38;5;241m=\u001b[39m axis\u001b[38;5;241m.\u001b[39mdrop(labels, errors\u001b[38;5;241m=\u001b[39merrors)\n\u001b[0;32m   4592\u001b[0m     indexer \u001b[38;5;241m=\u001b[39m axis\u001b[38;5;241m.\u001b[39mget_indexer(new_axis)\n\u001b[0;32m   4594\u001b[0m \u001b[38;5;66;03m# Case for non-unique axis\u001b[39;00m\n\u001b[0;32m   4595\u001b[0m \u001b[38;5;28;01melse\u001b[39;00m:\n",
      "File \u001b[1;32m~\\anaconda_new\\Lib\\site-packages\\pandas\\core\\indexes\\base.py:6699\u001b[0m, in \u001b[0;36mIndex.drop\u001b[1;34m(self, labels, errors)\u001b[0m\n\u001b[0;32m   6697\u001b[0m \u001b[38;5;28;01mif\u001b[39;00m mask\u001b[38;5;241m.\u001b[39many():\n\u001b[0;32m   6698\u001b[0m     \u001b[38;5;28;01mif\u001b[39;00m errors \u001b[38;5;241m!=\u001b[39m \u001b[38;5;124m\"\u001b[39m\u001b[38;5;124mignore\u001b[39m\u001b[38;5;124m\"\u001b[39m:\n\u001b[1;32m-> 6699\u001b[0m         \u001b[38;5;28;01mraise\u001b[39;00m \u001b[38;5;167;01mKeyError\u001b[39;00m(\u001b[38;5;124mf\u001b[39m\u001b[38;5;124m\"\u001b[39m\u001b[38;5;132;01m{\u001b[39;00m\u001b[38;5;28mlist\u001b[39m(labels[mask])\u001b[38;5;132;01m}\u001b[39;00m\u001b[38;5;124m not found in axis\u001b[39m\u001b[38;5;124m\"\u001b[39m)\n\u001b[0;32m   6700\u001b[0m     indexer \u001b[38;5;241m=\u001b[39m indexer[\u001b[38;5;241m~\u001b[39mmask]\n\u001b[0;32m   6701\u001b[0m \u001b[38;5;28;01mreturn\u001b[39;00m \u001b[38;5;28mself\u001b[39m\u001b[38;5;241m.\u001b[39mdelete(indexer)\n",
      "\u001b[1;31mKeyError\u001b[0m: \"['index'] not found in axis\""
     ]
    }
   ],
   "source": [
    "df.drop('index', axis=1, inplace=True)"
   ]
  },
  {
   "cell_type": "code",
   "execution_count": 45,
   "id": "2a2f32e6",
   "metadata": {},
   "outputs": [
    {
     "data": {
      "text/html": [
       "<div>\n",
       "<style scoped>\n",
       "    .dataframe tbody tr th:only-of-type {\n",
       "        vertical-align: middle;\n",
       "    }\n",
       "\n",
       "    .dataframe tbody tr th {\n",
       "        vertical-align: top;\n",
       "    }\n",
       "\n",
       "    .dataframe thead th {\n",
       "        text-align: right;\n",
       "    }\n",
       "</style>\n",
       "<table border=\"1\" class=\"dataframe\">\n",
       "  <thead>\n",
       "    <tr style=\"text-align: right;\">\n",
       "      <th></th>\n",
       "      <th>name</th>\n",
       "      <th>age</th>\n",
       "      <th>gender</th>\n",
       "      <th>age_group</th>\n",
       "      <th>name_length</th>\n",
       "    </tr>\n",
       "  </thead>\n",
       "  <tbody>\n",
       "    <tr>\n",
       "      <th>1</th>\n",
       "      <td>rohan</td>\n",
       "      <td>28</td>\n",
       "      <td>M</td>\n",
       "      <td>A</td>\n",
       "      <td>5</td>\n",
       "    </tr>\n",
       "    <tr>\n",
       "      <th>2</th>\n",
       "      <td>sunita</td>\n",
       "      <td>33</td>\n",
       "      <td>F</td>\n",
       "      <td>A</td>\n",
       "      <td>6</td>\n",
       "    </tr>\n",
       "    <tr>\n",
       "      <th>3</th>\n",
       "      <td>avni</td>\n",
       "      <td>18</td>\n",
       "      <td>F</td>\n",
       "      <td>S</td>\n",
       "      <td>4</td>\n",
       "    </tr>\n",
       "    <tr>\n",
       "      <th>4</th>\n",
       "      <td>komal</td>\n",
       "      <td>28</td>\n",
       "      <td>F</td>\n",
       "      <td>A</td>\n",
       "      <td>5</td>\n",
       "    </tr>\n",
       "  </tbody>\n",
       "</table>\n",
       "</div>"
      ],
      "text/plain": [
       "     name  age gender age_group  name_length\n",
       "1   rohan   28      M         A            5\n",
       "2  sunita   33      F         A            6\n",
       "3    avni   18      F         S            4\n",
       "4   komal   28      F         A            5"
      ]
     },
     "execution_count": 45,
     "metadata": {},
     "output_type": "execute_result"
    }
   ],
   "source": [
    "df"
   ]
  },
  {
   "cell_type": "code",
   "execution_count": 46,
   "id": "d31af6ca",
   "metadata": {},
   "outputs": [
    {
     "data": {
      "text/plain": [
       "name           rohan\n",
       "age               28\n",
       "gender             M\n",
       "age_group          A\n",
       "name_length        5\n",
       "Name: 1, dtype: object"
      ]
     },
     "execution_count": 46,
     "metadata": {},
     "output_type": "execute_result"
    }
   ],
   "source": [
    "df.iloc[0] # fetches data from original index"
   ]
  },
  {
   "cell_type": "code",
   "execution_count": 47,
   "id": "a83d1c29",
   "metadata": {},
   "outputs": [
    {
     "data": {
      "text/plain": [
       "name           rohan\n",
       "age               28\n",
       "gender             M\n",
       "age_group          A\n",
       "name_length        5\n",
       "Name: 1, dtype: object"
      ]
     },
     "execution_count": 47,
     "metadata": {},
     "output_type": "execute_result"
    }
   ],
   "source": [
    "df.loc[1]  # fetches data from new index"
   ]
  },
  {
   "cell_type": "code",
   "execution_count": 48,
   "id": "d55f43c9",
   "metadata": {},
   "outputs": [],
   "source": [
    "df.set_index('name',inplace = True)"
   ]
  },
  {
   "cell_type": "code",
   "execution_count": 49,
   "id": "b9553634",
   "metadata": {},
   "outputs": [
    {
     "data": {
      "text/html": [
       "<div>\n",
       "<style scoped>\n",
       "    .dataframe tbody tr th:only-of-type {\n",
       "        vertical-align: middle;\n",
       "    }\n",
       "\n",
       "    .dataframe tbody tr th {\n",
       "        vertical-align: top;\n",
       "    }\n",
       "\n",
       "    .dataframe thead th {\n",
       "        text-align: right;\n",
       "    }\n",
       "</style>\n",
       "<table border=\"1\" class=\"dataframe\">\n",
       "  <thead>\n",
       "    <tr style=\"text-align: right;\">\n",
       "      <th></th>\n",
       "      <th>age</th>\n",
       "      <th>gender</th>\n",
       "      <th>age_group</th>\n",
       "      <th>name_length</th>\n",
       "    </tr>\n",
       "    <tr>\n",
       "      <th>name</th>\n",
       "      <th></th>\n",
       "      <th></th>\n",
       "      <th></th>\n",
       "      <th></th>\n",
       "    </tr>\n",
       "  </thead>\n",
       "  <tbody>\n",
       "    <tr>\n",
       "      <th>rohan</th>\n",
       "      <td>28</td>\n",
       "      <td>M</td>\n",
       "      <td>A</td>\n",
       "      <td>5</td>\n",
       "    </tr>\n",
       "    <tr>\n",
       "      <th>sunita</th>\n",
       "      <td>33</td>\n",
       "      <td>F</td>\n",
       "      <td>A</td>\n",
       "      <td>6</td>\n",
       "    </tr>\n",
       "    <tr>\n",
       "      <th>avni</th>\n",
       "      <td>18</td>\n",
       "      <td>F</td>\n",
       "      <td>S</td>\n",
       "      <td>4</td>\n",
       "    </tr>\n",
       "    <tr>\n",
       "      <th>komal</th>\n",
       "      <td>28</td>\n",
       "      <td>F</td>\n",
       "      <td>A</td>\n",
       "      <td>5</td>\n",
       "    </tr>\n",
       "  </tbody>\n",
       "</table>\n",
       "</div>"
      ],
      "text/plain": [
       "        age gender age_group  name_length\n",
       "name                                     \n",
       "rohan    28      M         A            5\n",
       "sunita   33      F         A            6\n",
       "avni     18      F         S            4\n",
       "komal    28      F         A            5"
      ]
     },
     "execution_count": 49,
     "metadata": {},
     "output_type": "execute_result"
    }
   ],
   "source": [
    "df"
   ]
  },
  {
   "cell_type": "code",
   "execution_count": 50,
   "id": "a9a75b3d",
   "metadata": {},
   "outputs": [
    {
     "data": {
      "text/plain": [
       "age            28\n",
       "gender          M\n",
       "age_group       A\n",
       "name_length     5\n",
       "Name: rohan, dtype: object"
      ]
     },
     "execution_count": 50,
     "metadata": {},
     "output_type": "execute_result"
    }
   ],
   "source": [
    "df.iloc[0]  # values at 0 index ie values of rohan"
   ]
  },
  {
   "cell_type": "code",
   "execution_count": 51,
   "id": "98d4ace3",
   "metadata": {},
   "outputs": [
    {
     "data": {
      "text/plain": [
       "age            28\n",
       "gender          M\n",
       "age_group       A\n",
       "name_length     5\n",
       "Name: rohan, dtype: object"
      ]
     },
     "execution_count": 51,
     "metadata": {},
     "output_type": "execute_result"
    }
   ],
   "source": [
    "df.loc['rohan']"
   ]
  },
  {
   "cell_type": "code",
   "execution_count": 52,
   "id": "50789fe2",
   "metadata": {},
   "outputs": [],
   "source": [
    "df.reset_index(inplace = True)"
   ]
  },
  {
   "cell_type": "code",
   "execution_count": 53,
   "id": "c27dcdcb",
   "metadata": {},
   "outputs": [
    {
     "data": {
      "text/html": [
       "<div>\n",
       "<style scoped>\n",
       "    .dataframe tbody tr th:only-of-type {\n",
       "        vertical-align: middle;\n",
       "    }\n",
       "\n",
       "    .dataframe tbody tr th {\n",
       "        vertical-align: top;\n",
       "    }\n",
       "\n",
       "    .dataframe thead th {\n",
       "        text-align: right;\n",
       "    }\n",
       "</style>\n",
       "<table border=\"1\" class=\"dataframe\">\n",
       "  <thead>\n",
       "    <tr style=\"text-align: right;\">\n",
       "      <th></th>\n",
       "      <th>name</th>\n",
       "      <th>age</th>\n",
       "      <th>gender</th>\n",
       "      <th>age_group</th>\n",
       "      <th>name_length</th>\n",
       "    </tr>\n",
       "  </thead>\n",
       "  <tbody>\n",
       "    <tr>\n",
       "      <th>0</th>\n",
       "      <td>rohan</td>\n",
       "      <td>28</td>\n",
       "      <td>M</td>\n",
       "      <td>A</td>\n",
       "      <td>5</td>\n",
       "    </tr>\n",
       "    <tr>\n",
       "      <th>1</th>\n",
       "      <td>sunita</td>\n",
       "      <td>33</td>\n",
       "      <td>F</td>\n",
       "      <td>A</td>\n",
       "      <td>6</td>\n",
       "    </tr>\n",
       "    <tr>\n",
       "      <th>2</th>\n",
       "      <td>avni</td>\n",
       "      <td>18</td>\n",
       "      <td>F</td>\n",
       "      <td>S</td>\n",
       "      <td>4</td>\n",
       "    </tr>\n",
       "    <tr>\n",
       "      <th>3</th>\n",
       "      <td>komal</td>\n",
       "      <td>28</td>\n",
       "      <td>F</td>\n",
       "      <td>A</td>\n",
       "      <td>5</td>\n",
       "    </tr>\n",
       "  </tbody>\n",
       "</table>\n",
       "</div>"
      ],
      "text/plain": [
       "     name  age gender age_group  name_length\n",
       "0   rohan   28      M         A            5\n",
       "1  sunita   33      F         A            6\n",
       "2    avni   18      F         S            4\n",
       "3   komal   28      F         A            5"
      ]
     },
     "execution_count": 53,
     "metadata": {},
     "output_type": "execute_result"
    }
   ],
   "source": [
    "df"
   ]
  },
  {
   "cell_type": "code",
   "execution_count": 54,
   "id": "44e75187",
   "metadata": {},
   "outputs": [],
   "source": [
    "#### Adding new rows"
   ]
  },
  {
   "cell_type": "code",
   "execution_count": 57,
   "id": "8ead8db1",
   "metadata": {},
   "outputs": [],
   "source": [
    "df.iloc[len(df.index)-1] = ['sagar', '29', 'M', 'A', '5']"
   ]
  },
  {
   "cell_type": "code",
   "execution_count": 58,
   "id": "fdd4a813",
   "metadata": {},
   "outputs": [
    {
     "data": {
      "text/html": [
       "<div>\n",
       "<style scoped>\n",
       "    .dataframe tbody tr th:only-of-type {\n",
       "        vertical-align: middle;\n",
       "    }\n",
       "\n",
       "    .dataframe tbody tr th {\n",
       "        vertical-align: top;\n",
       "    }\n",
       "\n",
       "    .dataframe thead th {\n",
       "        text-align: right;\n",
       "    }\n",
       "</style>\n",
       "<table border=\"1\" class=\"dataframe\">\n",
       "  <thead>\n",
       "    <tr style=\"text-align: right;\">\n",
       "      <th></th>\n",
       "      <th>name</th>\n",
       "      <th>age</th>\n",
       "      <th>gender</th>\n",
       "      <th>age_group</th>\n",
       "      <th>name_length</th>\n",
       "    </tr>\n",
       "  </thead>\n",
       "  <tbody>\n",
       "    <tr>\n",
       "      <th>0</th>\n",
       "      <td>rohan</td>\n",
       "      <td>28</td>\n",
       "      <td>M</td>\n",
       "      <td>A</td>\n",
       "      <td>5</td>\n",
       "    </tr>\n",
       "    <tr>\n",
       "      <th>1</th>\n",
       "      <td>sunita</td>\n",
       "      <td>33</td>\n",
       "      <td>F</td>\n",
       "      <td>A</td>\n",
       "      <td>6</td>\n",
       "    </tr>\n",
       "    <tr>\n",
       "      <th>2</th>\n",
       "      <td>avni</td>\n",
       "      <td>18</td>\n",
       "      <td>F</td>\n",
       "      <td>S</td>\n",
       "      <td>4</td>\n",
       "    </tr>\n",
       "    <tr>\n",
       "      <th>3</th>\n",
       "      <td>sagar</td>\n",
       "      <td>29</td>\n",
       "      <td>M</td>\n",
       "      <td>A</td>\n",
       "      <td>5</td>\n",
       "    </tr>\n",
       "  </tbody>\n",
       "</table>\n",
       "</div>"
      ],
      "text/plain": [
       "     name age gender age_group name_length\n",
       "0   rohan  28      M         A           5\n",
       "1  sunita  33      F         A           6\n",
       "2    avni  18      F         S           4\n",
       "3   sagar  29      M         A           5"
      ]
     },
     "execution_count": 58,
     "metadata": {},
     "output_type": "execute_result"
    }
   ],
   "source": [
    "df"
   ]
  },
  {
   "cell_type": "code",
   "execution_count": 60,
   "id": "f106199b",
   "metadata": {},
   "outputs": [],
   "source": [
    "df.loc[len(df.index)] = ['komal', '28', 'F', 'A', '5']"
   ]
  },
  {
   "cell_type": "code",
   "execution_count": 61,
   "id": "92c97379",
   "metadata": {},
   "outputs": [
    {
     "data": {
      "text/html": [
       "<div>\n",
       "<style scoped>\n",
       "    .dataframe tbody tr th:only-of-type {\n",
       "        vertical-align: middle;\n",
       "    }\n",
       "\n",
       "    .dataframe tbody tr th {\n",
       "        vertical-align: top;\n",
       "    }\n",
       "\n",
       "    .dataframe thead th {\n",
       "        text-align: right;\n",
       "    }\n",
       "</style>\n",
       "<table border=\"1\" class=\"dataframe\">\n",
       "  <thead>\n",
       "    <tr style=\"text-align: right;\">\n",
       "      <th></th>\n",
       "      <th>name</th>\n",
       "      <th>age</th>\n",
       "      <th>gender</th>\n",
       "      <th>age_group</th>\n",
       "      <th>name_length</th>\n",
       "    </tr>\n",
       "  </thead>\n",
       "  <tbody>\n",
       "    <tr>\n",
       "      <th>0</th>\n",
       "      <td>rohan</td>\n",
       "      <td>28</td>\n",
       "      <td>M</td>\n",
       "      <td>A</td>\n",
       "      <td>5</td>\n",
       "    </tr>\n",
       "    <tr>\n",
       "      <th>1</th>\n",
       "      <td>sunita</td>\n",
       "      <td>33</td>\n",
       "      <td>F</td>\n",
       "      <td>A</td>\n",
       "      <td>6</td>\n",
       "    </tr>\n",
       "    <tr>\n",
       "      <th>2</th>\n",
       "      <td>avni</td>\n",
       "      <td>18</td>\n",
       "      <td>F</td>\n",
       "      <td>S</td>\n",
       "      <td>4</td>\n",
       "    </tr>\n",
       "    <tr>\n",
       "      <th>3</th>\n",
       "      <td>sagar</td>\n",
       "      <td>29</td>\n",
       "      <td>M</td>\n",
       "      <td>A</td>\n",
       "      <td>5</td>\n",
       "    </tr>\n",
       "    <tr>\n",
       "      <th>4</th>\n",
       "      <td>komal</td>\n",
       "      <td>28</td>\n",
       "      <td>F</td>\n",
       "      <td>A</td>\n",
       "      <td>5</td>\n",
       "    </tr>\n",
       "  </tbody>\n",
       "</table>\n",
       "</div>"
      ],
      "text/plain": [
       "     name age gender age_group name_length\n",
       "0   rohan  28      M         A           5\n",
       "1  sunita  33      F         A           6\n",
       "2    avni  18      F         S           4\n",
       "3   sagar  29      M         A           5\n",
       "4   komal  28      F         A           5"
      ]
     },
     "execution_count": 61,
     "metadata": {},
     "output_type": "execute_result"
    }
   ],
   "source": [
    "df"
   ]
  },
  {
   "cell_type": "code",
   "execution_count": 66,
   "id": "7991bfed",
   "metadata": {},
   "outputs": [
    {
     "data": {
      "text/plain": [
       "name           komal\n",
       "age               28\n",
       "gender             F\n",
       "age_group          A\n",
       "name_length        5\n",
       "Name: 4, dtype: object"
      ]
     },
     "execution_count": 66,
     "metadata": {},
     "output_type": "execute_result"
    }
   ],
   "source": [
    "df.iloc[len(df.index)-1]"
   ]
  },
  {
   "cell_type": "code",
   "execution_count": 67,
   "id": "c977af9b",
   "metadata": {},
   "outputs": [],
   "source": [
    "#### Finding duplicate values"
   ]
  },
  {
   "cell_type": "code",
   "execution_count": 68,
   "id": "78154b93",
   "metadata": {},
   "outputs": [],
   "source": [
    "df.loc[len(df.index)-1] = ['sagar', '29', 'M', 'A', '5']"
   ]
  },
  {
   "cell_type": "code",
   "execution_count": 69,
   "id": "54b45f25",
   "metadata": {},
   "outputs": [],
   "source": [
    "df.loc[len(df.index)] = ['komal', '28', 'F', 'A', '5']"
   ]
  },
  {
   "cell_type": "code",
   "execution_count": 71,
   "id": "4c45cf53",
   "metadata": {},
   "outputs": [],
   "source": [
    "df.loc[len(df.index)] = ['komal', '28', 'F', 'A', '5']"
   ]
  },
  {
   "cell_type": "code",
   "execution_count": 72,
   "id": "2bc89976",
   "metadata": {},
   "outputs": [
    {
     "data": {
      "text/html": [
       "<div>\n",
       "<style scoped>\n",
       "    .dataframe tbody tr th:only-of-type {\n",
       "        vertical-align: middle;\n",
       "    }\n",
       "\n",
       "    .dataframe tbody tr th {\n",
       "        vertical-align: top;\n",
       "    }\n",
       "\n",
       "    .dataframe thead th {\n",
       "        text-align: right;\n",
       "    }\n",
       "</style>\n",
       "<table border=\"1\" class=\"dataframe\">\n",
       "  <thead>\n",
       "    <tr style=\"text-align: right;\">\n",
       "      <th></th>\n",
       "      <th>name</th>\n",
       "      <th>age</th>\n",
       "      <th>gender</th>\n",
       "      <th>age_group</th>\n",
       "      <th>name_length</th>\n",
       "    </tr>\n",
       "  </thead>\n",
       "  <tbody>\n",
       "    <tr>\n",
       "      <th>0</th>\n",
       "      <td>rohan</td>\n",
       "      <td>28</td>\n",
       "      <td>M</td>\n",
       "      <td>A</td>\n",
       "      <td>5</td>\n",
       "    </tr>\n",
       "    <tr>\n",
       "      <th>1</th>\n",
       "      <td>sunita</td>\n",
       "      <td>33</td>\n",
       "      <td>F</td>\n",
       "      <td>A</td>\n",
       "      <td>6</td>\n",
       "    </tr>\n",
       "    <tr>\n",
       "      <th>2</th>\n",
       "      <td>avni</td>\n",
       "      <td>18</td>\n",
       "      <td>F</td>\n",
       "      <td>S</td>\n",
       "      <td>4</td>\n",
       "    </tr>\n",
       "    <tr>\n",
       "      <th>3</th>\n",
       "      <td>sagar</td>\n",
       "      <td>29</td>\n",
       "      <td>M</td>\n",
       "      <td>A</td>\n",
       "      <td>5</td>\n",
       "    </tr>\n",
       "    <tr>\n",
       "      <th>4</th>\n",
       "      <td>sagar</td>\n",
       "      <td>29</td>\n",
       "      <td>M</td>\n",
       "      <td>A</td>\n",
       "      <td>5</td>\n",
       "    </tr>\n",
       "    <tr>\n",
       "      <th>5</th>\n",
       "      <td>komal</td>\n",
       "      <td>28</td>\n",
       "      <td>F</td>\n",
       "      <td>A</td>\n",
       "      <td>5</td>\n",
       "    </tr>\n",
       "    <tr>\n",
       "      <th>6</th>\n",
       "      <td>komal</td>\n",
       "      <td>28</td>\n",
       "      <td>F</td>\n",
       "      <td>A</td>\n",
       "      <td>5</td>\n",
       "    </tr>\n",
       "  </tbody>\n",
       "</table>\n",
       "</div>"
      ],
      "text/plain": [
       "     name age gender age_group name_length\n",
       "0   rohan  28      M         A           5\n",
       "1  sunita  33      F         A           6\n",
       "2    avni  18      F         S           4\n",
       "3   sagar  29      M         A           5\n",
       "4   sagar  29      M         A           5\n",
       "5   komal  28      F         A           5\n",
       "6   komal  28      F         A           5"
      ]
     },
     "execution_count": 72,
     "metadata": {},
     "output_type": "execute_result"
    }
   ],
   "source": [
    "df"
   ]
  },
  {
   "cell_type": "code",
   "execution_count": 74,
   "id": "ec574d95",
   "metadata": {},
   "outputs": [
    {
     "data": {
      "text/html": [
       "<div>\n",
       "<style scoped>\n",
       "    .dataframe tbody tr th:only-of-type {\n",
       "        vertical-align: middle;\n",
       "    }\n",
       "\n",
       "    .dataframe tbody tr th {\n",
       "        vertical-align: top;\n",
       "    }\n",
       "\n",
       "    .dataframe thead th {\n",
       "        text-align: right;\n",
       "    }\n",
       "</style>\n",
       "<table border=\"1\" class=\"dataframe\">\n",
       "  <thead>\n",
       "    <tr style=\"text-align: right;\">\n",
       "      <th></th>\n",
       "      <th>name</th>\n",
       "      <th>age</th>\n",
       "      <th>gender</th>\n",
       "      <th>age_group</th>\n",
       "      <th>name_length</th>\n",
       "    </tr>\n",
       "  </thead>\n",
       "  <tbody>\n",
       "    <tr>\n",
       "      <th>4</th>\n",
       "      <td>sagar</td>\n",
       "      <td>29</td>\n",
       "      <td>M</td>\n",
       "      <td>A</td>\n",
       "      <td>5</td>\n",
       "    </tr>\n",
       "    <tr>\n",
       "      <th>6</th>\n",
       "      <td>komal</td>\n",
       "      <td>28</td>\n",
       "      <td>F</td>\n",
       "      <td>A</td>\n",
       "      <td>5</td>\n",
       "    </tr>\n",
       "  </tbody>\n",
       "</table>\n",
       "</div>"
      ],
      "text/plain": [
       "    name age gender age_group name_length\n",
       "4  sagar  29      M         A           5\n",
       "6  komal  28      F         A           5"
      ]
     },
     "execution_count": 74,
     "metadata": {},
     "output_type": "execute_result"
    }
   ],
   "source": [
    "df[df.duplicated()]"
   ]
  },
  {
   "cell_type": "code",
   "execution_count": 75,
   "id": "67b6f2f6",
   "metadata": {},
   "outputs": [],
   "source": [
    "#### dropping duplicates"
   ]
  },
  {
   "cell_type": "code",
   "execution_count": 77,
   "id": "af2d50d8",
   "metadata": {},
   "outputs": [],
   "source": [
    "df.drop_duplicates(keep = 'first', inplace = True)"
   ]
  },
  {
   "cell_type": "code",
   "execution_count": 78,
   "id": "d2380970",
   "metadata": {},
   "outputs": [
    {
     "data": {
      "text/html": [
       "<div>\n",
       "<style scoped>\n",
       "    .dataframe tbody tr th:only-of-type {\n",
       "        vertical-align: middle;\n",
       "    }\n",
       "\n",
       "    .dataframe tbody tr th {\n",
       "        vertical-align: top;\n",
       "    }\n",
       "\n",
       "    .dataframe thead th {\n",
       "        text-align: right;\n",
       "    }\n",
       "</style>\n",
       "<table border=\"1\" class=\"dataframe\">\n",
       "  <thead>\n",
       "    <tr style=\"text-align: right;\">\n",
       "      <th></th>\n",
       "      <th>name</th>\n",
       "      <th>age</th>\n",
       "      <th>gender</th>\n",
       "      <th>age_group</th>\n",
       "      <th>name_length</th>\n",
       "    </tr>\n",
       "  </thead>\n",
       "  <tbody>\n",
       "    <tr>\n",
       "      <th>0</th>\n",
       "      <td>rohan</td>\n",
       "      <td>28</td>\n",
       "      <td>M</td>\n",
       "      <td>A</td>\n",
       "      <td>5</td>\n",
       "    </tr>\n",
       "    <tr>\n",
       "      <th>1</th>\n",
       "      <td>sunita</td>\n",
       "      <td>33</td>\n",
       "      <td>F</td>\n",
       "      <td>A</td>\n",
       "      <td>6</td>\n",
       "    </tr>\n",
       "    <tr>\n",
       "      <th>2</th>\n",
       "      <td>avni</td>\n",
       "      <td>18</td>\n",
       "      <td>F</td>\n",
       "      <td>S</td>\n",
       "      <td>4</td>\n",
       "    </tr>\n",
       "    <tr>\n",
       "      <th>3</th>\n",
       "      <td>sagar</td>\n",
       "      <td>29</td>\n",
       "      <td>M</td>\n",
       "      <td>A</td>\n",
       "      <td>5</td>\n",
       "    </tr>\n",
       "    <tr>\n",
       "      <th>5</th>\n",
       "      <td>komal</td>\n",
       "      <td>28</td>\n",
       "      <td>F</td>\n",
       "      <td>A</td>\n",
       "      <td>5</td>\n",
       "    </tr>\n",
       "  </tbody>\n",
       "</table>\n",
       "</div>"
      ],
      "text/plain": [
       "     name age gender age_group name_length\n",
       "0   rohan  28      M         A           5\n",
       "1  sunita  33      F         A           6\n",
       "2    avni  18      F         S           4\n",
       "3   sagar  29      M         A           5\n",
       "5   komal  28      F         A           5"
      ]
     },
     "execution_count": 78,
     "metadata": {},
     "output_type": "execute_result"
    }
   ],
   "source": [
    "df"
   ]
  },
  {
   "cell_type": "code",
   "execution_count": 79,
   "id": "ee846212",
   "metadata": {},
   "outputs": [],
   "source": [
    "#### Sorting values"
   ]
  },
  {
   "cell_type": "code",
   "execution_count": 83,
   "id": "5a9473e5",
   "metadata": {},
   "outputs": [],
   "source": [
    "df['age'] = df['age'].astype('int')"
   ]
  },
  {
   "cell_type": "code",
   "execution_count": 85,
   "id": "317379bc",
   "metadata": {},
   "outputs": [],
   "source": [
    "df['name_length'] = df['name_length'].astype('int')"
   ]
  },
  {
   "cell_type": "code",
   "execution_count": 86,
   "id": "516fd8f9",
   "metadata": {},
   "outputs": [
    {
     "data": {
      "text/plain": [
       "name           object\n",
       "age             int32\n",
       "gender         object\n",
       "age_group      object\n",
       "name_length     int32\n",
       "dtype: object"
      ]
     },
     "execution_count": 86,
     "metadata": {},
     "output_type": "execute_result"
    }
   ],
   "source": [
    "df.dtypes"
   ]
  },
  {
   "cell_type": "code",
   "execution_count": 88,
   "id": "2cd68aa1",
   "metadata": {},
   "outputs": [],
   "source": [
    "df.sort_values(by = 'age', ascending = False, inplace = True)"
   ]
  },
  {
   "cell_type": "code",
   "execution_count": 89,
   "id": "219f8863",
   "metadata": {},
   "outputs": [
    {
     "data": {
      "text/html": [
       "<div>\n",
       "<style scoped>\n",
       "    .dataframe tbody tr th:only-of-type {\n",
       "        vertical-align: middle;\n",
       "    }\n",
       "\n",
       "    .dataframe tbody tr th {\n",
       "        vertical-align: top;\n",
       "    }\n",
       "\n",
       "    .dataframe thead th {\n",
       "        text-align: right;\n",
       "    }\n",
       "</style>\n",
       "<table border=\"1\" class=\"dataframe\">\n",
       "  <thead>\n",
       "    <tr style=\"text-align: right;\">\n",
       "      <th></th>\n",
       "      <th>name</th>\n",
       "      <th>age</th>\n",
       "      <th>gender</th>\n",
       "      <th>age_group</th>\n",
       "      <th>name_length</th>\n",
       "    </tr>\n",
       "  </thead>\n",
       "  <tbody>\n",
       "    <tr>\n",
       "      <th>1</th>\n",
       "      <td>sunita</td>\n",
       "      <td>33</td>\n",
       "      <td>F</td>\n",
       "      <td>A</td>\n",
       "      <td>6</td>\n",
       "    </tr>\n",
       "    <tr>\n",
       "      <th>3</th>\n",
       "      <td>sagar</td>\n",
       "      <td>29</td>\n",
       "      <td>M</td>\n",
       "      <td>A</td>\n",
       "      <td>5</td>\n",
       "    </tr>\n",
       "    <tr>\n",
       "      <th>0</th>\n",
       "      <td>rohan</td>\n",
       "      <td>28</td>\n",
       "      <td>M</td>\n",
       "      <td>A</td>\n",
       "      <td>5</td>\n",
       "    </tr>\n",
       "    <tr>\n",
       "      <th>5</th>\n",
       "      <td>komal</td>\n",
       "      <td>28</td>\n",
       "      <td>F</td>\n",
       "      <td>A</td>\n",
       "      <td>5</td>\n",
       "    </tr>\n",
       "    <tr>\n",
       "      <th>2</th>\n",
       "      <td>avni</td>\n",
       "      <td>18</td>\n",
       "      <td>F</td>\n",
       "      <td>S</td>\n",
       "      <td>4</td>\n",
       "    </tr>\n",
       "  </tbody>\n",
       "</table>\n",
       "</div>"
      ],
      "text/plain": [
       "     name  age gender age_group  name_length\n",
       "1  sunita   33      F         A            6\n",
       "3   sagar   29      M         A            5\n",
       "0   rohan   28      M         A            5\n",
       "5   komal   28      F         A            5\n",
       "2    avni   18      F         S            4"
      ]
     },
     "execution_count": 89,
     "metadata": {},
     "output_type": "execute_result"
    }
   ],
   "source": [
    "df"
   ]
  },
  {
   "cell_type": "code",
   "execution_count": 93,
   "id": "a8c44cbe",
   "metadata": {},
   "outputs": [],
   "source": [
    "df.reset_index(inplace = True)"
   ]
  },
  {
   "cell_type": "code",
   "execution_count": 95,
   "id": "dd15a883",
   "metadata": {},
   "outputs": [],
   "source": [
    "df.drop('index', axis = 1, inplace = True)"
   ]
  },
  {
   "cell_type": "code",
   "execution_count": 96,
   "id": "9bb85a92",
   "metadata": {},
   "outputs": [
    {
     "data": {
      "text/html": [
       "<div>\n",
       "<style scoped>\n",
       "    .dataframe tbody tr th:only-of-type {\n",
       "        vertical-align: middle;\n",
       "    }\n",
       "\n",
       "    .dataframe tbody tr th {\n",
       "        vertical-align: top;\n",
       "    }\n",
       "\n",
       "    .dataframe thead th {\n",
       "        text-align: right;\n",
       "    }\n",
       "</style>\n",
       "<table border=\"1\" class=\"dataframe\">\n",
       "  <thead>\n",
       "    <tr style=\"text-align: right;\">\n",
       "      <th></th>\n",
       "      <th>name</th>\n",
       "      <th>age</th>\n",
       "      <th>gender</th>\n",
       "      <th>age_group</th>\n",
       "      <th>name_length</th>\n",
       "    </tr>\n",
       "  </thead>\n",
       "  <tbody>\n",
       "    <tr>\n",
       "      <th>0</th>\n",
       "      <td>sunita</td>\n",
       "      <td>33</td>\n",
       "      <td>F</td>\n",
       "      <td>A</td>\n",
       "      <td>6</td>\n",
       "    </tr>\n",
       "    <tr>\n",
       "      <th>1</th>\n",
       "      <td>sagar</td>\n",
       "      <td>29</td>\n",
       "      <td>M</td>\n",
       "      <td>A</td>\n",
       "      <td>5</td>\n",
       "    </tr>\n",
       "    <tr>\n",
       "      <th>2</th>\n",
       "      <td>rohan</td>\n",
       "      <td>28</td>\n",
       "      <td>M</td>\n",
       "      <td>A</td>\n",
       "      <td>5</td>\n",
       "    </tr>\n",
       "    <tr>\n",
       "      <th>3</th>\n",
       "      <td>komal</td>\n",
       "      <td>28</td>\n",
       "      <td>F</td>\n",
       "      <td>A</td>\n",
       "      <td>5</td>\n",
       "    </tr>\n",
       "    <tr>\n",
       "      <th>4</th>\n",
       "      <td>avni</td>\n",
       "      <td>18</td>\n",
       "      <td>F</td>\n",
       "      <td>S</td>\n",
       "      <td>4</td>\n",
       "    </tr>\n",
       "  </tbody>\n",
       "</table>\n",
       "</div>"
      ],
      "text/plain": [
       "     name  age gender age_group  name_length\n",
       "0  sunita   33      F         A            6\n",
       "1   sagar   29      M         A            5\n",
       "2   rohan   28      M         A            5\n",
       "3   komal   28      F         A            5\n",
       "4    avni   18      F         S            4"
      ]
     },
     "execution_count": 96,
     "metadata": {},
     "output_type": "execute_result"
    }
   ],
   "source": [
    "df"
   ]
  },
  {
   "cell_type": "code",
   "execution_count": 98,
   "id": "e7086654",
   "metadata": {},
   "outputs": [],
   "source": [
    "#### Corelating two dataframes"
   ]
  },
  {
   "cell_type": "code",
   "execution_count": 99,
   "id": "f7e31ab3",
   "metadata": {},
   "outputs": [],
   "source": [
    "df1 = pd.DataFrame({'Staff': ['sunita', 'rohan', 'hari'], 'salary' : [50000, 37000, 60000]})"
   ]
  },
  {
   "cell_type": "code",
   "execution_count": 100,
   "id": "0caab25c",
   "metadata": {},
   "outputs": [
    {
     "data": {
      "text/html": [
       "<div>\n",
       "<style scoped>\n",
       "    .dataframe tbody tr th:only-of-type {\n",
       "        vertical-align: middle;\n",
       "    }\n",
       "\n",
       "    .dataframe tbody tr th {\n",
       "        vertical-align: top;\n",
       "    }\n",
       "\n",
       "    .dataframe thead th {\n",
       "        text-align: right;\n",
       "    }\n",
       "</style>\n",
       "<table border=\"1\" class=\"dataframe\">\n",
       "  <thead>\n",
       "    <tr style=\"text-align: right;\">\n",
       "      <th></th>\n",
       "      <th>Staff</th>\n",
       "      <th>salary</th>\n",
       "    </tr>\n",
       "  </thead>\n",
       "  <tbody>\n",
       "    <tr>\n",
       "      <th>0</th>\n",
       "      <td>sunita</td>\n",
       "      <td>50000</td>\n",
       "    </tr>\n",
       "    <tr>\n",
       "      <th>1</th>\n",
       "      <td>rohan</td>\n",
       "      <td>37000</td>\n",
       "    </tr>\n",
       "    <tr>\n",
       "      <th>2</th>\n",
       "      <td>hari</td>\n",
       "      <td>60000</td>\n",
       "    </tr>\n",
       "  </tbody>\n",
       "</table>\n",
       "</div>"
      ],
      "text/plain": [
       "    Staff  salary\n",
       "0  sunita   50000\n",
       "1   rohan   37000\n",
       "2    hari   60000"
      ]
     },
     "execution_count": 100,
     "metadata": {},
     "output_type": "execute_result"
    }
   ],
   "source": [
    "df1"
   ]
  },
  {
   "cell_type": "code",
   "execution_count": 107,
   "id": "be86da6c",
   "metadata": {},
   "outputs": [
    {
     "data": {
      "text/html": [
       "<div>\n",
       "<style scoped>\n",
       "    .dataframe tbody tr th:only-of-type {\n",
       "        vertical-align: middle;\n",
       "    }\n",
       "\n",
       "    .dataframe tbody tr th {\n",
       "        vertical-align: top;\n",
       "    }\n",
       "\n",
       "    .dataframe thead th {\n",
       "        text-align: right;\n",
       "    }\n",
       "</style>\n",
       "<table border=\"1\" class=\"dataframe\">\n",
       "  <thead>\n",
       "    <tr style=\"text-align: right;\">\n",
       "      <th></th>\n",
       "      <th>name</th>\n",
       "      <th>age</th>\n",
       "      <th>gender</th>\n",
       "      <th>age_group</th>\n",
       "      <th>name_length</th>\n",
       "    </tr>\n",
       "  </thead>\n",
       "  <tbody>\n",
       "    <tr>\n",
       "      <th>0</th>\n",
       "      <td>sunita</td>\n",
       "      <td>33</td>\n",
       "      <td>F</td>\n",
       "      <td>A</td>\n",
       "      <td>6</td>\n",
       "    </tr>\n",
       "    <tr>\n",
       "      <th>2</th>\n",
       "      <td>rohan</td>\n",
       "      <td>28</td>\n",
       "      <td>M</td>\n",
       "      <td>A</td>\n",
       "      <td>5</td>\n",
       "    </tr>\n",
       "  </tbody>\n",
       "</table>\n",
       "</div>"
      ],
      "text/plain": [
       "     name  age gender age_group  name_length\n",
       "0  sunita   33      F         A            6\n",
       "2   rohan   28      M         A            5"
      ]
     },
     "execution_count": 107,
     "metadata": {},
     "output_type": "execute_result"
    }
   ],
   "source": [
    "df[df['name'].isin(df1['Staff'])]"
   ]
  },
  {
   "cell_type": "code",
   "execution_count": 108,
   "id": "be9fce6d",
   "metadata": {},
   "outputs": [],
   "source": [
    "#### join"
   ]
  },
  {
   "cell_type": "code",
   "execution_count": 111,
   "id": "4394a8aa",
   "metadata": {},
   "outputs": [],
   "source": [
    "df = df.merge(df1, left_on = 'name', right_on = 'Staff', how = 'left')"
   ]
  },
  {
   "cell_type": "code",
   "execution_count": 112,
   "id": "87db4aaf",
   "metadata": {},
   "outputs": [
    {
     "data": {
      "text/html": [
       "<div>\n",
       "<style scoped>\n",
       "    .dataframe tbody tr th:only-of-type {\n",
       "        vertical-align: middle;\n",
       "    }\n",
       "\n",
       "    .dataframe tbody tr th {\n",
       "        vertical-align: top;\n",
       "    }\n",
       "\n",
       "    .dataframe thead th {\n",
       "        text-align: right;\n",
       "    }\n",
       "</style>\n",
       "<table border=\"1\" class=\"dataframe\">\n",
       "  <thead>\n",
       "    <tr style=\"text-align: right;\">\n",
       "      <th></th>\n",
       "      <th>name</th>\n",
       "      <th>age</th>\n",
       "      <th>gender</th>\n",
       "      <th>age_group</th>\n",
       "      <th>name_length</th>\n",
       "      <th>Staff</th>\n",
       "      <th>salary</th>\n",
       "    </tr>\n",
       "  </thead>\n",
       "  <tbody>\n",
       "    <tr>\n",
       "      <th>0</th>\n",
       "      <td>sunita</td>\n",
       "      <td>33</td>\n",
       "      <td>F</td>\n",
       "      <td>A</td>\n",
       "      <td>6</td>\n",
       "      <td>sunita</td>\n",
       "      <td>50000.0</td>\n",
       "    </tr>\n",
       "    <tr>\n",
       "      <th>1</th>\n",
       "      <td>sagar</td>\n",
       "      <td>29</td>\n",
       "      <td>M</td>\n",
       "      <td>A</td>\n",
       "      <td>5</td>\n",
       "      <td>NaN</td>\n",
       "      <td>NaN</td>\n",
       "    </tr>\n",
       "    <tr>\n",
       "      <th>2</th>\n",
       "      <td>rohan</td>\n",
       "      <td>28</td>\n",
       "      <td>M</td>\n",
       "      <td>A</td>\n",
       "      <td>5</td>\n",
       "      <td>rohan</td>\n",
       "      <td>37000.0</td>\n",
       "    </tr>\n",
       "    <tr>\n",
       "      <th>3</th>\n",
       "      <td>komal</td>\n",
       "      <td>28</td>\n",
       "      <td>F</td>\n",
       "      <td>A</td>\n",
       "      <td>5</td>\n",
       "      <td>NaN</td>\n",
       "      <td>NaN</td>\n",
       "    </tr>\n",
       "    <tr>\n",
       "      <th>4</th>\n",
       "      <td>avni</td>\n",
       "      <td>18</td>\n",
       "      <td>F</td>\n",
       "      <td>S</td>\n",
       "      <td>4</td>\n",
       "      <td>NaN</td>\n",
       "      <td>NaN</td>\n",
       "    </tr>\n",
       "  </tbody>\n",
       "</table>\n",
       "</div>"
      ],
      "text/plain": [
       "     name  age gender age_group  name_length   Staff   salary\n",
       "0  sunita   33      F         A            6  sunita  50000.0\n",
       "1   sagar   29      M         A            5     NaN      NaN\n",
       "2   rohan   28      M         A            5   rohan  37000.0\n",
       "3   komal   28      F         A            5     NaN      NaN\n",
       "4    avni   18      F         S            4     NaN      NaN"
      ]
     },
     "execution_count": 112,
     "metadata": {},
     "output_type": "execute_result"
    }
   ],
   "source": [
    "df"
   ]
  },
  {
   "cell_type": "code",
   "execution_count": 113,
   "id": "8cebf459",
   "metadata": {},
   "outputs": [],
   "source": [
    "df.drop('Staff', axis = 1, inplace =True)"
   ]
  },
  {
   "cell_type": "raw",
   "id": "b31c6bf1",
   "metadata": {},
   "source": [
    "df"
   ]
  },
  {
   "cell_type": "code",
   "execution_count": 115,
   "id": "b3a38fb5",
   "metadata": {},
   "outputs": [],
   "source": [
    "#### encoding"
   ]
  },
  {
   "cell_type": "code",
   "execution_count": 116,
   "id": "e780d45f",
   "metadata": {},
   "outputs": [],
   "source": [
    "def encode(gender):\n",
    "    if gender == 'M':\n",
    "        return 1\n",
    "    else:\n",
    "        return 0"
   ]
  },
  {
   "cell_type": "code",
   "execution_count": 118,
   "id": "c67c0fc4",
   "metadata": {},
   "outputs": [],
   "source": [
    "df['gender'] = df['gender'].apply(encode)"
   ]
  },
  {
   "cell_type": "code",
   "execution_count": 119,
   "id": "e4d3b8f2",
   "metadata": {},
   "outputs": [
    {
     "data": {
      "text/html": [
       "<div>\n",
       "<style scoped>\n",
       "    .dataframe tbody tr th:only-of-type {\n",
       "        vertical-align: middle;\n",
       "    }\n",
       "\n",
       "    .dataframe tbody tr th {\n",
       "        vertical-align: top;\n",
       "    }\n",
       "\n",
       "    .dataframe thead th {\n",
       "        text-align: right;\n",
       "    }\n",
       "</style>\n",
       "<table border=\"1\" class=\"dataframe\">\n",
       "  <thead>\n",
       "    <tr style=\"text-align: right;\">\n",
       "      <th></th>\n",
       "      <th>name</th>\n",
       "      <th>age</th>\n",
       "      <th>gender</th>\n",
       "      <th>age_group</th>\n",
       "      <th>name_length</th>\n",
       "      <th>salary</th>\n",
       "    </tr>\n",
       "  </thead>\n",
       "  <tbody>\n",
       "    <tr>\n",
       "      <th>0</th>\n",
       "      <td>sunita</td>\n",
       "      <td>33</td>\n",
       "      <td>0</td>\n",
       "      <td>A</td>\n",
       "      <td>6</td>\n",
       "      <td>50000.0</td>\n",
       "    </tr>\n",
       "    <tr>\n",
       "      <th>1</th>\n",
       "      <td>sagar</td>\n",
       "      <td>29</td>\n",
       "      <td>1</td>\n",
       "      <td>A</td>\n",
       "      <td>5</td>\n",
       "      <td>NaN</td>\n",
       "    </tr>\n",
       "    <tr>\n",
       "      <th>2</th>\n",
       "      <td>rohan</td>\n",
       "      <td>28</td>\n",
       "      <td>1</td>\n",
       "      <td>A</td>\n",
       "      <td>5</td>\n",
       "      <td>37000.0</td>\n",
       "    </tr>\n",
       "    <tr>\n",
       "      <th>3</th>\n",
       "      <td>komal</td>\n",
       "      <td>28</td>\n",
       "      <td>0</td>\n",
       "      <td>A</td>\n",
       "      <td>5</td>\n",
       "      <td>NaN</td>\n",
       "    </tr>\n",
       "    <tr>\n",
       "      <th>4</th>\n",
       "      <td>avni</td>\n",
       "      <td>18</td>\n",
       "      <td>0</td>\n",
       "      <td>S</td>\n",
       "      <td>4</td>\n",
       "      <td>NaN</td>\n",
       "    </tr>\n",
       "  </tbody>\n",
       "</table>\n",
       "</div>"
      ],
      "text/plain": [
       "     name  age  gender age_group  name_length   salary\n",
       "0  sunita   33       0         A            6  50000.0\n",
       "1   sagar   29       1         A            5      NaN\n",
       "2   rohan   28       1         A            5  37000.0\n",
       "3   komal   28       0         A            5      NaN\n",
       "4    avni   18       0         S            4      NaN"
      ]
     },
     "execution_count": 119,
     "metadata": {},
     "output_type": "execute_result"
    }
   ],
   "source": [
    "df"
   ]
  },
  {
   "cell_type": "code",
   "execution_count": 126,
   "id": "471f18fa",
   "metadata": {},
   "outputs": [],
   "source": [
    "#### creating new column using calculation"
   ]
  },
  {
   "cell_type": "code",
   "execution_count": 120,
   "id": "2d1c9aeb",
   "metadata": {},
   "outputs": [],
   "source": [
    "def salary_group(salary):\n",
    "    if salary > 40000:\n",
    "        return '>40000'\n",
    "    else:\n",
    "        return '<40000'"
   ]
  },
  {
   "cell_type": "code",
   "execution_count": 121,
   "id": "e4e75cf6",
   "metadata": {},
   "outputs": [],
   "source": [
    "df['salary_group'] = df['salary'].apply(salary_group)"
   ]
  },
  {
   "cell_type": "code",
   "execution_count": 122,
   "id": "847cde51",
   "metadata": {},
   "outputs": [
    {
     "data": {
      "text/html": [
       "<div>\n",
       "<style scoped>\n",
       "    .dataframe tbody tr th:only-of-type {\n",
       "        vertical-align: middle;\n",
       "    }\n",
       "\n",
       "    .dataframe tbody tr th {\n",
       "        vertical-align: top;\n",
       "    }\n",
       "\n",
       "    .dataframe thead th {\n",
       "        text-align: right;\n",
       "    }\n",
       "</style>\n",
       "<table border=\"1\" class=\"dataframe\">\n",
       "  <thead>\n",
       "    <tr style=\"text-align: right;\">\n",
       "      <th></th>\n",
       "      <th>name</th>\n",
       "      <th>age</th>\n",
       "      <th>gender</th>\n",
       "      <th>age_group</th>\n",
       "      <th>name_length</th>\n",
       "      <th>salary</th>\n",
       "      <th>salary_group</th>\n",
       "    </tr>\n",
       "  </thead>\n",
       "  <tbody>\n",
       "    <tr>\n",
       "      <th>0</th>\n",
       "      <td>sunita</td>\n",
       "      <td>33</td>\n",
       "      <td>0</td>\n",
       "      <td>A</td>\n",
       "      <td>6</td>\n",
       "      <td>50000.0</td>\n",
       "      <td>&gt;40000</td>\n",
       "    </tr>\n",
       "    <tr>\n",
       "      <th>1</th>\n",
       "      <td>sagar</td>\n",
       "      <td>29</td>\n",
       "      <td>1</td>\n",
       "      <td>A</td>\n",
       "      <td>5</td>\n",
       "      <td>NaN</td>\n",
       "      <td>&lt;40000</td>\n",
       "    </tr>\n",
       "    <tr>\n",
       "      <th>2</th>\n",
       "      <td>rohan</td>\n",
       "      <td>28</td>\n",
       "      <td>1</td>\n",
       "      <td>A</td>\n",
       "      <td>5</td>\n",
       "      <td>37000.0</td>\n",
       "      <td>&lt;40000</td>\n",
       "    </tr>\n",
       "    <tr>\n",
       "      <th>3</th>\n",
       "      <td>komal</td>\n",
       "      <td>28</td>\n",
       "      <td>0</td>\n",
       "      <td>A</td>\n",
       "      <td>5</td>\n",
       "      <td>NaN</td>\n",
       "      <td>&lt;40000</td>\n",
       "    </tr>\n",
       "    <tr>\n",
       "      <th>4</th>\n",
       "      <td>avni</td>\n",
       "      <td>18</td>\n",
       "      <td>0</td>\n",
       "      <td>S</td>\n",
       "      <td>4</td>\n",
       "      <td>NaN</td>\n",
       "      <td>&lt;40000</td>\n",
       "    </tr>\n",
       "  </tbody>\n",
       "</table>\n",
       "</div>"
      ],
      "text/plain": [
       "     name  age  gender age_group  name_length   salary salary_group\n",
       "0  sunita   33       0         A            6  50000.0       >40000\n",
       "1   sagar   29       1         A            5      NaN       <40000\n",
       "2   rohan   28       1         A            5  37000.0       <40000\n",
       "3   komal   28       0         A            5      NaN       <40000\n",
       "4    avni   18       0         S            4      NaN       <40000"
      ]
     },
     "execution_count": 122,
     "metadata": {},
     "output_type": "execute_result"
    }
   ],
   "source": [
    "df"
   ]
  },
  {
   "cell_type": "code",
   "execution_count": 123,
   "id": "2f0e31a2",
   "metadata": {},
   "outputs": [],
   "source": [
    "def tax(salary_group):\n",
    "    if salary_group == '>40000':\n",
    "        return 1\n",
    "    else:\n",
    "        return 0"
   ]
  },
  {
   "cell_type": "code",
   "execution_count": 124,
   "id": "3cabc7ca",
   "metadata": {},
   "outputs": [],
   "source": [
    "df['tax'] = df['salary_group'].apply(tax)"
   ]
  },
  {
   "cell_type": "code",
   "execution_count": 125,
   "id": "1e7f4158",
   "metadata": {},
   "outputs": [
    {
     "data": {
      "text/html": [
       "<div>\n",
       "<style scoped>\n",
       "    .dataframe tbody tr th:only-of-type {\n",
       "        vertical-align: middle;\n",
       "    }\n",
       "\n",
       "    .dataframe tbody tr th {\n",
       "        vertical-align: top;\n",
       "    }\n",
       "\n",
       "    .dataframe thead th {\n",
       "        text-align: right;\n",
       "    }\n",
       "</style>\n",
       "<table border=\"1\" class=\"dataframe\">\n",
       "  <thead>\n",
       "    <tr style=\"text-align: right;\">\n",
       "      <th></th>\n",
       "      <th>name</th>\n",
       "      <th>age</th>\n",
       "      <th>gender</th>\n",
       "      <th>age_group</th>\n",
       "      <th>name_length</th>\n",
       "      <th>salary</th>\n",
       "      <th>salary_group</th>\n",
       "      <th>tax</th>\n",
       "    </tr>\n",
       "  </thead>\n",
       "  <tbody>\n",
       "    <tr>\n",
       "      <th>0</th>\n",
       "      <td>sunita</td>\n",
       "      <td>33</td>\n",
       "      <td>0</td>\n",
       "      <td>A</td>\n",
       "      <td>6</td>\n",
       "      <td>50000.0</td>\n",
       "      <td>&gt;40000</td>\n",
       "      <td>1</td>\n",
       "    </tr>\n",
       "    <tr>\n",
       "      <th>1</th>\n",
       "      <td>sagar</td>\n",
       "      <td>29</td>\n",
       "      <td>1</td>\n",
       "      <td>A</td>\n",
       "      <td>5</td>\n",
       "      <td>NaN</td>\n",
       "      <td>&lt;40000</td>\n",
       "      <td>0</td>\n",
       "    </tr>\n",
       "    <tr>\n",
       "      <th>2</th>\n",
       "      <td>rohan</td>\n",
       "      <td>28</td>\n",
       "      <td>1</td>\n",
       "      <td>A</td>\n",
       "      <td>5</td>\n",
       "      <td>37000.0</td>\n",
       "      <td>&lt;40000</td>\n",
       "      <td>0</td>\n",
       "    </tr>\n",
       "    <tr>\n",
       "      <th>3</th>\n",
       "      <td>komal</td>\n",
       "      <td>28</td>\n",
       "      <td>0</td>\n",
       "      <td>A</td>\n",
       "      <td>5</td>\n",
       "      <td>NaN</td>\n",
       "      <td>&lt;40000</td>\n",
       "      <td>0</td>\n",
       "    </tr>\n",
       "    <tr>\n",
       "      <th>4</th>\n",
       "      <td>avni</td>\n",
       "      <td>18</td>\n",
       "      <td>0</td>\n",
       "      <td>S</td>\n",
       "      <td>4</td>\n",
       "      <td>NaN</td>\n",
       "      <td>&lt;40000</td>\n",
       "      <td>0</td>\n",
       "    </tr>\n",
       "  </tbody>\n",
       "</table>\n",
       "</div>"
      ],
      "text/plain": [
       "     name  age  gender age_group  name_length   salary salary_group  tax\n",
       "0  sunita   33       0         A            6  50000.0       >40000    1\n",
       "1   sagar   29       1         A            5      NaN       <40000    0\n",
       "2   rohan   28       1         A            5  37000.0       <40000    0\n",
       "3   komal   28       0         A            5      NaN       <40000    0\n",
       "4    avni   18       0         S            4      NaN       <40000    0"
      ]
     },
     "execution_count": 125,
     "metadata": {},
     "output_type": "execute_result"
    }
   ],
   "source": [
    "df"
   ]
  },
  {
   "cell_type": "code",
   "execution_count": 127,
   "id": "88fd8648",
   "metadata": {},
   "outputs": [],
   "source": [
    "#### group"
   ]
  },
  {
   "cell_type": "code",
   "execution_count": 131,
   "id": "9f4fbad3",
   "metadata": {},
   "outputs": [
    {
     "data": {
      "text/plain": [
       "<pandas.core.groupby.generic.DataFrameGroupBy object at 0x00000185BD7B00D0>"
      ]
     },
     "execution_count": 131,
     "metadata": {},
     "output_type": "execute_result"
    }
   ],
   "source": [
    "df.groupby('gender')"
   ]
  },
  {
   "cell_type": "code",
   "execution_count": 132,
   "id": "c2ecbc1e",
   "metadata": {},
   "outputs": [
    {
     "data": {
      "text/plain": [
       "2"
      ]
     },
     "execution_count": 132,
     "metadata": {},
     "output_type": "execute_result"
    }
   ],
   "source": [
    "df.groupby('gender').ngroups"
   ]
  },
  {
   "cell_type": "code",
   "execution_count": 134,
   "id": "4bff2a37",
   "metadata": {},
   "outputs": [
    {
     "data": {
      "text/plain": [
       "{0: [0, 3, 4], 1: [1, 2]}"
      ]
     },
     "execution_count": 134,
     "metadata": {},
     "output_type": "execute_result"
    }
   ],
   "source": [
    "df.groupby('gender').groups"
   ]
  },
  {
   "cell_type": "code",
   "execution_count": 139,
   "id": "7c23e944",
   "metadata": {},
   "outputs": [
    {
     "data": {
      "text/html": [
       "<div>\n",
       "<style scoped>\n",
       "    .dataframe tbody tr th:only-of-type {\n",
       "        vertical-align: middle;\n",
       "    }\n",
       "\n",
       "    .dataframe tbody tr th {\n",
       "        vertical-align: top;\n",
       "    }\n",
       "\n",
       "    .dataframe thead th {\n",
       "        text-align: right;\n",
       "    }\n",
       "</style>\n",
       "<table border=\"1\" class=\"dataframe\">\n",
       "  <thead>\n",
       "    <tr style=\"text-align: right;\">\n",
       "      <th></th>\n",
       "      <th>name</th>\n",
       "      <th>age</th>\n",
       "      <th>gender</th>\n",
       "      <th>age_group</th>\n",
       "      <th>name_length</th>\n",
       "      <th>salary</th>\n",
       "      <th>salary_group</th>\n",
       "      <th>tax</th>\n",
       "    </tr>\n",
       "  </thead>\n",
       "  <tbody>\n",
       "    <tr>\n",
       "      <th>0</th>\n",
       "      <td>sunita</td>\n",
       "      <td>33</td>\n",
       "      <td>0</td>\n",
       "      <td>A</td>\n",
       "      <td>6</td>\n",
       "      <td>50000.0</td>\n",
       "      <td>&gt;40000</td>\n",
       "      <td>1</td>\n",
       "    </tr>\n",
       "    <tr>\n",
       "      <th>1</th>\n",
       "      <td>sagar</td>\n",
       "      <td>29</td>\n",
       "      <td>1</td>\n",
       "      <td>A</td>\n",
       "      <td>5</td>\n",
       "      <td>NaN</td>\n",
       "      <td>&lt;40000</td>\n",
       "      <td>0</td>\n",
       "    </tr>\n",
       "    <tr>\n",
       "      <th>2</th>\n",
       "      <td>rohan</td>\n",
       "      <td>28</td>\n",
       "      <td>1</td>\n",
       "      <td>A</td>\n",
       "      <td>5</td>\n",
       "      <td>37000.0</td>\n",
       "      <td>&lt;40000</td>\n",
       "      <td>0</td>\n",
       "    </tr>\n",
       "    <tr>\n",
       "      <th>3</th>\n",
       "      <td>komal</td>\n",
       "      <td>28</td>\n",
       "      <td>0</td>\n",
       "      <td>A</td>\n",
       "      <td>5</td>\n",
       "      <td>NaN</td>\n",
       "      <td>&lt;40000</td>\n",
       "      <td>0</td>\n",
       "    </tr>\n",
       "  </tbody>\n",
       "</table>\n",
       "</div>"
      ],
      "text/plain": [
       "     name  age  gender age_group  name_length   salary salary_group  tax\n",
       "0  sunita   33       0         A            6  50000.0       >40000    1\n",
       "1   sagar   29       1         A            5      NaN       <40000    0\n",
       "2   rohan   28       1         A            5  37000.0       <40000    0\n",
       "3   komal   28       0         A            5      NaN       <40000    0"
      ]
     },
     "execution_count": 139,
     "metadata": {},
     "output_type": "execute_result"
    }
   ],
   "source": [
    "df.groupby('age_group').get_group('A')"
   ]
  },
  {
   "cell_type": "code",
   "execution_count": 141,
   "id": "1acaf281",
   "metadata": {},
   "outputs": [
    {
     "data": {
      "text/html": [
       "<div>\n",
       "<style scoped>\n",
       "    .dataframe tbody tr th:only-of-type {\n",
       "        vertical-align: middle;\n",
       "    }\n",
       "\n",
       "    .dataframe tbody tr th {\n",
       "        vertical-align: top;\n",
       "    }\n",
       "\n",
       "    .dataframe thead th {\n",
       "        text-align: right;\n",
       "    }\n",
       "</style>\n",
       "<table border=\"1\" class=\"dataframe\">\n",
       "  <thead>\n",
       "    <tr style=\"text-align: right;\">\n",
       "      <th></th>\n",
       "      <th>name</th>\n",
       "      <th>age</th>\n",
       "      <th>gender</th>\n",
       "      <th>age_group</th>\n",
       "      <th>name_length</th>\n",
       "      <th>salary</th>\n",
       "      <th>salary_group</th>\n",
       "      <th>tax</th>\n",
       "    </tr>\n",
       "  </thead>\n",
       "  <tbody>\n",
       "    <tr>\n",
       "      <th>1</th>\n",
       "      <td>sagar</td>\n",
       "      <td>29</td>\n",
       "      <td>1</td>\n",
       "      <td>A</td>\n",
       "      <td>5</td>\n",
       "      <td>NaN</td>\n",
       "      <td>&lt;40000</td>\n",
       "      <td>0</td>\n",
       "    </tr>\n",
       "    <tr>\n",
       "      <th>2</th>\n",
       "      <td>rohan</td>\n",
       "      <td>28</td>\n",
       "      <td>1</td>\n",
       "      <td>A</td>\n",
       "      <td>5</td>\n",
       "      <td>37000.0</td>\n",
       "      <td>&lt;40000</td>\n",
       "      <td>0</td>\n",
       "    </tr>\n",
       "    <tr>\n",
       "      <th>3</th>\n",
       "      <td>komal</td>\n",
       "      <td>28</td>\n",
       "      <td>0</td>\n",
       "      <td>A</td>\n",
       "      <td>5</td>\n",
       "      <td>NaN</td>\n",
       "      <td>&lt;40000</td>\n",
       "      <td>0</td>\n",
       "    </tr>\n",
       "    <tr>\n",
       "      <th>4</th>\n",
       "      <td>avni</td>\n",
       "      <td>18</td>\n",
       "      <td>0</td>\n",
       "      <td>S</td>\n",
       "      <td>4</td>\n",
       "      <td>NaN</td>\n",
       "      <td>&lt;40000</td>\n",
       "      <td>0</td>\n",
       "    </tr>\n",
       "  </tbody>\n",
       "</table>\n",
       "</div>"
      ],
      "text/plain": [
       "    name  age  gender age_group  name_length   salary salary_group  tax\n",
       "1  sagar   29       1         A            5      NaN       <40000    0\n",
       "2  rohan   28       1         A            5  37000.0       <40000    0\n",
       "3  komal   28       0         A            5      NaN       <40000    0\n",
       "4   avni   18       0         S            4      NaN       <40000    0"
      ]
     },
     "execution_count": 141,
     "metadata": {},
     "output_type": "execute_result"
    }
   ],
   "source": [
    "df.groupby('salary_group').get_group('<40000')"
   ]
  },
  {
   "cell_type": "code",
   "execution_count": 143,
   "id": "ed958365",
   "metadata": {},
   "outputs": [
    {
     "data": {
      "text/plain": [
       "age_group\n",
       "A    4\n",
       "S    1\n",
       "Name: salary_group, dtype: int64"
      ]
     },
     "execution_count": 143,
     "metadata": {},
     "output_type": "execute_result"
    }
   ],
   "source": [
    "df.groupby('age_group')['salary_group'].count()"
   ]
  },
  {
   "cell_type": "code",
   "execution_count": 144,
   "id": "eb62e2d5",
   "metadata": {},
   "outputs": [],
   "source": [
    "#### multi indexing"
   ]
  },
  {
   "cell_type": "code",
   "execution_count": 150,
   "id": "16e7cca6",
   "metadata": {},
   "outputs": [],
   "source": [
    "df = pd.DataFrame({'Actor': ['Shahrukh', 'John', 'Salman', 'Salman', 'Salman', 'Amir', 'John', 'Hritik'], \n",
    "                   'movie_name' : ['Chakde India', 'Dhoom', 'Tiger', 'Tiger3', 'dabang', '3 Idiots', 'Force', 'Dhoom 2'], \n",
    "                 'year' : [2003, 2015, 2012, 2003, 2015, 2017, 2001, 2006]})"
   ]
  },
  {
   "cell_type": "code",
   "execution_count": 152,
   "id": "beb19f0a",
   "metadata": {},
   "outputs": [],
   "source": [
    "df['title'] = ['Love', 'Love', 'Action', 'Thrill', 'Horror', 'Action', 'Horror', 'Love']"
   ]
  },
  {
   "cell_type": "code",
   "execution_count": 153,
   "id": "0f16b56b",
   "metadata": {},
   "outputs": [
    {
     "data": {
      "text/html": [
       "<div>\n",
       "<style scoped>\n",
       "    .dataframe tbody tr th:only-of-type {\n",
       "        vertical-align: middle;\n",
       "    }\n",
       "\n",
       "    .dataframe tbody tr th {\n",
       "        vertical-align: top;\n",
       "    }\n",
       "\n",
       "    .dataframe thead th {\n",
       "        text-align: right;\n",
       "    }\n",
       "</style>\n",
       "<table border=\"1\" class=\"dataframe\">\n",
       "  <thead>\n",
       "    <tr style=\"text-align: right;\">\n",
       "      <th></th>\n",
       "      <th>Actor</th>\n",
       "      <th>movie_name</th>\n",
       "      <th>year</th>\n",
       "      <th>title</th>\n",
       "    </tr>\n",
       "  </thead>\n",
       "  <tbody>\n",
       "    <tr>\n",
       "      <th>0</th>\n",
       "      <td>Shahrukh</td>\n",
       "      <td>Chakde India</td>\n",
       "      <td>2003</td>\n",
       "      <td>Love</td>\n",
       "    </tr>\n",
       "    <tr>\n",
       "      <th>1</th>\n",
       "      <td>John</td>\n",
       "      <td>Dhoom</td>\n",
       "      <td>2015</td>\n",
       "      <td>Love</td>\n",
       "    </tr>\n",
       "    <tr>\n",
       "      <th>2</th>\n",
       "      <td>Salman</td>\n",
       "      <td>Tiger</td>\n",
       "      <td>2012</td>\n",
       "      <td>Action</td>\n",
       "    </tr>\n",
       "    <tr>\n",
       "      <th>3</th>\n",
       "      <td>Salman</td>\n",
       "      <td>Tiger3</td>\n",
       "      <td>2003</td>\n",
       "      <td>Thrill</td>\n",
       "    </tr>\n",
       "    <tr>\n",
       "      <th>4</th>\n",
       "      <td>Salman</td>\n",
       "      <td>dabang</td>\n",
       "      <td>2015</td>\n",
       "      <td>Horror</td>\n",
       "    </tr>\n",
       "    <tr>\n",
       "      <th>5</th>\n",
       "      <td>Amir</td>\n",
       "      <td>3 Idiots</td>\n",
       "      <td>2017</td>\n",
       "      <td>Action</td>\n",
       "    </tr>\n",
       "    <tr>\n",
       "      <th>6</th>\n",
       "      <td>John</td>\n",
       "      <td>Force</td>\n",
       "      <td>2001</td>\n",
       "      <td>Horror</td>\n",
       "    </tr>\n",
       "    <tr>\n",
       "      <th>7</th>\n",
       "      <td>Hritik</td>\n",
       "      <td>Dhoom 2</td>\n",
       "      <td>2006</td>\n",
       "      <td>Love</td>\n",
       "    </tr>\n",
       "  </tbody>\n",
       "</table>\n",
       "</div>"
      ],
      "text/plain": [
       "      Actor    movie_name  year   title\n",
       "0  Shahrukh  Chakde India  2003    Love\n",
       "1      John         Dhoom  2015    Love\n",
       "2    Salman         Tiger  2012  Action\n",
       "3    Salman        Tiger3  2003  Thrill\n",
       "4    Salman        dabang  2015  Horror\n",
       "5      Amir      3 Idiots  2017  Action\n",
       "6      John         Force  2001  Horror\n",
       "7    Hritik       Dhoom 2  2006    Love"
      ]
     },
     "execution_count": 153,
     "metadata": {},
     "output_type": "execute_result"
    }
   ],
   "source": [
    "df"
   ]
  },
  {
   "cell_type": "code",
   "execution_count": 158,
   "id": "392a0221",
   "metadata": {},
   "outputs": [
    {
     "data": {
      "text/plain": [
       "{'Action': [2, 5], 'Horror': [4, 6], 'Love': [0, 1, 7], 'Thrill': [3]}"
      ]
     },
     "execution_count": 158,
     "metadata": {},
     "output_type": "execute_result"
    }
   ],
   "source": [
    "df.groupby('title').groups"
   ]
  },
  {
   "cell_type": "code",
   "execution_count": 159,
   "id": "a38a3f0c",
   "metadata": {},
   "outputs": [
    {
     "data": {
      "text/plain": [
       "title\n",
       "Action    2\n",
       "Horror    2\n",
       "Love      3\n",
       "Thrill    1\n",
       "Name: movie_name, dtype: int64"
      ]
     },
     "execution_count": 159,
     "metadata": {},
     "output_type": "execute_result"
    }
   ],
   "source": [
    "df.groupby('title')['movie_name'].count()"
   ]
  },
  {
   "cell_type": "code",
   "execution_count": 160,
   "id": "36aa7e5d",
   "metadata": {},
   "outputs": [
    {
     "data": {
      "text/plain": [
       "Actor\n",
       "Amir        2017\n",
       "Hritik      2006\n",
       "John        2001\n",
       "Salman      2003\n",
       "Shahrukh    2003\n",
       "Name: year, dtype: int64"
      ]
     },
     "execution_count": 160,
     "metadata": {},
     "output_type": "execute_result"
    }
   ],
   "source": [
    "df.groupby('Actor')['year'].aggregate(min)"
   ]
  },
  {
   "cell_type": "code",
   "execution_count": 163,
   "id": "fad49728",
   "metadata": {},
   "outputs": [
    {
     "data": {
      "text/html": [
       "<div>\n",
       "<style scoped>\n",
       "    .dataframe tbody tr th:only-of-type {\n",
       "        vertical-align: middle;\n",
       "    }\n",
       "\n",
       "    .dataframe tbody tr th {\n",
       "        vertical-align: top;\n",
       "    }\n",
       "\n",
       "    .dataframe thead tr th {\n",
       "        text-align: left;\n",
       "    }\n",
       "\n",
       "    .dataframe thead tr:last-of-type th {\n",
       "        text-align: right;\n",
       "    }\n",
       "</style>\n",
       "<table border=\"1\" class=\"dataframe\">\n",
       "  <thead>\n",
       "    <tr>\n",
       "      <th></th>\n",
       "      <th>title</th>\n",
       "      <th colspan=\"2\" halign=\"left\">year</th>\n",
       "    </tr>\n",
       "    <tr>\n",
       "      <th></th>\n",
       "      <th>count</th>\n",
       "      <th>min</th>\n",
       "      <th>max</th>\n",
       "    </tr>\n",
       "    <tr>\n",
       "      <th>Actor</th>\n",
       "      <th></th>\n",
       "      <th></th>\n",
       "      <th></th>\n",
       "    </tr>\n",
       "  </thead>\n",
       "  <tbody>\n",
       "    <tr>\n",
       "      <th>Amir</th>\n",
       "      <td>1</td>\n",
       "      <td>2017</td>\n",
       "      <td>2017</td>\n",
       "    </tr>\n",
       "    <tr>\n",
       "      <th>Hritik</th>\n",
       "      <td>1</td>\n",
       "      <td>2006</td>\n",
       "      <td>2006</td>\n",
       "    </tr>\n",
       "    <tr>\n",
       "      <th>John</th>\n",
       "      <td>2</td>\n",
       "      <td>2001</td>\n",
       "      <td>2015</td>\n",
       "    </tr>\n",
       "    <tr>\n",
       "      <th>Salman</th>\n",
       "      <td>3</td>\n",
       "      <td>2003</td>\n",
       "      <td>2015</td>\n",
       "    </tr>\n",
       "    <tr>\n",
       "      <th>Shahrukh</th>\n",
       "      <td>1</td>\n",
       "      <td>2003</td>\n",
       "      <td>2003</td>\n",
       "    </tr>\n",
       "  </tbody>\n",
       "</table>\n",
       "</div>"
      ],
      "text/plain": [
       "         title  year      \n",
       "         count   min   max\n",
       "Actor                     \n",
       "Amir         1  2017  2017\n",
       "Hritik       1  2006  2006\n",
       "John         2  2001  2015\n",
       "Salman       3  2003  2015\n",
       "Shahrukh     1  2003  2003"
      ]
     },
     "execution_count": 163,
     "metadata": {},
     "output_type": "execute_result"
    }
   ],
   "source": [
    "df.groupby('Actor').aggregate({'title' : 'count', 'year' : ['min', 'max']})"
   ]
  },
  {
   "cell_type": "code",
   "execution_count": 167,
   "id": "f73ed625",
   "metadata": {},
   "outputs": [
    {
     "data": {
      "text/html": [
       "<div>\n",
       "<style scoped>\n",
       "    .dataframe tbody tr th:only-of-type {\n",
       "        vertical-align: middle;\n",
       "    }\n",
       "\n",
       "    .dataframe tbody tr th {\n",
       "        vertical-align: top;\n",
       "    }\n",
       "\n",
       "    .dataframe thead th {\n",
       "        text-align: right;\n",
       "    }\n",
       "</style>\n",
       "<table border=\"1\" class=\"dataframe\">\n",
       "  <thead>\n",
       "    <tr style=\"text-align: right;\">\n",
       "      <th></th>\n",
       "      <th>Actor</th>\n",
       "      <th>movie_name</th>\n",
       "    </tr>\n",
       "  </thead>\n",
       "  <tbody>\n",
       "    <tr>\n",
       "      <th>0</th>\n",
       "      <td>Amir</td>\n",
       "      <td>1</td>\n",
       "    </tr>\n",
       "    <tr>\n",
       "      <th>1</th>\n",
       "      <td>Hritik</td>\n",
       "      <td>1</td>\n",
       "    </tr>\n",
       "    <tr>\n",
       "      <th>2</th>\n",
       "      <td>John</td>\n",
       "      <td>2</td>\n",
       "    </tr>\n",
       "    <tr>\n",
       "      <th>3</th>\n",
       "      <td>Salman</td>\n",
       "      <td>3</td>\n",
       "    </tr>\n",
       "    <tr>\n",
       "      <th>4</th>\n",
       "      <td>Shahrukh</td>\n",
       "      <td>1</td>\n",
       "    </tr>\n",
       "  </tbody>\n",
       "</table>\n",
       "</div>"
      ],
      "text/plain": [
       "      Actor  movie_name\n",
       "0      Amir           1\n",
       "1    Hritik           1\n",
       "2      John           2\n",
       "3    Salman           3\n",
       "4  Shahrukh           1"
      ]
     },
     "execution_count": 167,
     "metadata": {},
     "output_type": "execute_result"
    }
   ],
   "source": [
    "df.groupby('Actor')['movie_name'].count().reset_index()"
   ]
  },
  {
   "cell_type": "code",
   "execution_count": 168,
   "id": "d742b4d4",
   "metadata": {},
   "outputs": [],
   "source": [
    "#### melt and pivot"
   ]
  },
  {
   "cell_type": "code",
   "execution_count": 169,
   "id": "75d0a785",
   "metadata": {},
   "outputs": [],
   "source": [
    "df = pd.DataFrame({'Name': {0: 'John', 1: 'Bob', 2: 'Shiela'},\n",
    "                   'Course': {0: 'Masters', 1: 'Graduate', 2: 'Graduate'},\n",
    "                   'Age': {0: 27, 1: 23, 2: 21}})"
   ]
  },
  {
   "cell_type": "code",
   "execution_count": 173,
   "id": "a091b595",
   "metadata": {},
   "outputs": [
    {
     "data": {
      "text/html": [
       "<div>\n",
       "<style scoped>\n",
       "    .dataframe tbody tr th:only-of-type {\n",
       "        vertical-align: middle;\n",
       "    }\n",
       "\n",
       "    .dataframe tbody tr th {\n",
       "        vertical-align: top;\n",
       "    }\n",
       "\n",
       "    .dataframe thead th {\n",
       "        text-align: right;\n",
       "    }\n",
       "</style>\n",
       "<table border=\"1\" class=\"dataframe\">\n",
       "  <thead>\n",
       "    <tr style=\"text-align: right;\">\n",
       "      <th></th>\n",
       "      <th>Name</th>\n",
       "      <th>Course</th>\n",
       "      <th>Age</th>\n",
       "    </tr>\n",
       "  </thead>\n",
       "  <tbody>\n",
       "    <tr>\n",
       "      <th>0</th>\n",
       "      <td>John</td>\n",
       "      <td>Masters</td>\n",
       "      <td>27</td>\n",
       "    </tr>\n",
       "    <tr>\n",
       "      <th>1</th>\n",
       "      <td>Bob</td>\n",
       "      <td>Graduate</td>\n",
       "      <td>23</td>\n",
       "    </tr>\n",
       "    <tr>\n",
       "      <th>2</th>\n",
       "      <td>Shiela</td>\n",
       "      <td>Graduate</td>\n",
       "      <td>21</td>\n",
       "    </tr>\n",
       "  </tbody>\n",
       "</table>\n",
       "</div>"
      ],
      "text/plain": [
       "     Name    Course  Age\n",
       "0    John   Masters   27\n",
       "1     Bob  Graduate   23\n",
       "2  Shiela  Graduate   21"
      ]
     },
     "execution_count": 173,
     "metadata": {},
     "output_type": "execute_result"
    }
   ],
   "source": [
    "df"
   ]
  },
  {
   "cell_type": "code",
   "execution_count": 174,
   "id": "a7705907",
   "metadata": {},
   "outputs": [
    {
     "data": {
      "text/html": [
       "<div>\n",
       "<style scoped>\n",
       "    .dataframe tbody tr th:only-of-type {\n",
       "        vertical-align: middle;\n",
       "    }\n",
       "\n",
       "    .dataframe tbody tr th {\n",
       "        vertical-align: top;\n",
       "    }\n",
       "\n",
       "    .dataframe thead th {\n",
       "        text-align: right;\n",
       "    }\n",
       "</style>\n",
       "<table border=\"1\" class=\"dataframe\">\n",
       "  <thead>\n",
       "    <tr style=\"text-align: right;\">\n",
       "      <th></th>\n",
       "      <th>Name</th>\n",
       "      <th>variable</th>\n",
       "      <th>value</th>\n",
       "    </tr>\n",
       "  </thead>\n",
       "  <tbody>\n",
       "    <tr>\n",
       "      <th>0</th>\n",
       "      <td>John</td>\n",
       "      <td>Course</td>\n",
       "      <td>Masters</td>\n",
       "    </tr>\n",
       "    <tr>\n",
       "      <th>1</th>\n",
       "      <td>Bob</td>\n",
       "      <td>Course</td>\n",
       "      <td>Graduate</td>\n",
       "    </tr>\n",
       "    <tr>\n",
       "      <th>2</th>\n",
       "      <td>Shiela</td>\n",
       "      <td>Course</td>\n",
       "      <td>Graduate</td>\n",
       "    </tr>\n",
       "    <tr>\n",
       "      <th>3</th>\n",
       "      <td>John</td>\n",
       "      <td>Age</td>\n",
       "      <td>27</td>\n",
       "    </tr>\n",
       "    <tr>\n",
       "      <th>4</th>\n",
       "      <td>Bob</td>\n",
       "      <td>Age</td>\n",
       "      <td>23</td>\n",
       "    </tr>\n",
       "    <tr>\n",
       "      <th>5</th>\n",
       "      <td>Shiela</td>\n",
       "      <td>Age</td>\n",
       "      <td>21</td>\n",
       "    </tr>\n",
       "  </tbody>\n",
       "</table>\n",
       "</div>"
      ],
      "text/plain": [
       "     Name variable     value\n",
       "0    John   Course   Masters\n",
       "1     Bob   Course  Graduate\n",
       "2  Shiela   Course  Graduate\n",
       "3    John      Age        27\n",
       "4     Bob      Age        23\n",
       "5  Shiela      Age        21"
      ]
     },
     "execution_count": 174,
     "metadata": {},
     "output_type": "execute_result"
    }
   ],
   "source": [
    "pd.melt(df, id_vars = 'Name')"
   ]
  },
  {
   "cell_type": "code",
   "execution_count": 175,
   "id": "0865c55c",
   "metadata": {},
   "outputs": [
    {
     "data": {
      "text/html": [
       "<div>\n",
       "<style scoped>\n",
       "    .dataframe tbody tr th:only-of-type {\n",
       "        vertical-align: middle;\n",
       "    }\n",
       "\n",
       "    .dataframe tbody tr th {\n",
       "        vertical-align: top;\n",
       "    }\n",
       "\n",
       "    .dataframe thead th {\n",
       "        text-align: right;\n",
       "    }\n",
       "</style>\n",
       "<table border=\"1\" class=\"dataframe\">\n",
       "  <thead>\n",
       "    <tr style=\"text-align: right;\">\n",
       "      <th></th>\n",
       "      <th>Name</th>\n",
       "      <th>variable</th>\n",
       "      <th>value</th>\n",
       "    </tr>\n",
       "  </thead>\n",
       "  <tbody>\n",
       "    <tr>\n",
       "      <th>0</th>\n",
       "      <td>John</td>\n",
       "      <td>Course</td>\n",
       "      <td>Masters</td>\n",
       "    </tr>\n",
       "    <tr>\n",
       "      <th>1</th>\n",
       "      <td>Bob</td>\n",
       "      <td>Course</td>\n",
       "      <td>Graduate</td>\n",
       "    </tr>\n",
       "    <tr>\n",
       "      <th>2</th>\n",
       "      <td>Shiela</td>\n",
       "      <td>Course</td>\n",
       "      <td>Graduate</td>\n",
       "    </tr>\n",
       "  </tbody>\n",
       "</table>\n",
       "</div>"
      ],
      "text/plain": [
       "     Name variable     value\n",
       "0    John   Course   Masters\n",
       "1     Bob   Course  Graduate\n",
       "2  Shiela   Course  Graduate"
      ]
     },
     "execution_count": 175,
     "metadata": {},
     "output_type": "execute_result"
    }
   ],
   "source": [
    "pd.melt(df, id_vars = 'Name', value_vars = 'Course')"
   ]
  },
  {
   "cell_type": "code",
   "execution_count": 176,
   "id": "e6e4f570",
   "metadata": {},
   "outputs": [
    {
     "data": {
      "text/html": [
       "<div>\n",
       "<style scoped>\n",
       "    .dataframe tbody tr th:only-of-type {\n",
       "        vertical-align: middle;\n",
       "    }\n",
       "\n",
       "    .dataframe tbody tr th {\n",
       "        vertical-align: top;\n",
       "    }\n",
       "\n",
       "    .dataframe thead th {\n",
       "        text-align: right;\n",
       "    }\n",
       "</style>\n",
       "<table border=\"1\" class=\"dataframe\">\n",
       "  <thead>\n",
       "    <tr style=\"text-align: right;\">\n",
       "      <th></th>\n",
       "      <th>Name</th>\n",
       "      <th>variable</th>\n",
       "      <th>value</th>\n",
       "    </tr>\n",
       "  </thead>\n",
       "  <tbody>\n",
       "    <tr>\n",
       "      <th>0</th>\n",
       "      <td>John</td>\n",
       "      <td>Course</td>\n",
       "      <td>Masters</td>\n",
       "    </tr>\n",
       "    <tr>\n",
       "      <th>1</th>\n",
       "      <td>Bob</td>\n",
       "      <td>Course</td>\n",
       "      <td>Graduate</td>\n",
       "    </tr>\n",
       "    <tr>\n",
       "      <th>2</th>\n",
       "      <td>Shiela</td>\n",
       "      <td>Course</td>\n",
       "      <td>Graduate</td>\n",
       "    </tr>\n",
       "    <tr>\n",
       "      <th>3</th>\n",
       "      <td>John</td>\n",
       "      <td>Age</td>\n",
       "      <td>27</td>\n",
       "    </tr>\n",
       "    <tr>\n",
       "      <th>4</th>\n",
       "      <td>Bob</td>\n",
       "      <td>Age</td>\n",
       "      <td>23</td>\n",
       "    </tr>\n",
       "    <tr>\n",
       "      <th>5</th>\n",
       "      <td>Shiela</td>\n",
       "      <td>Age</td>\n",
       "      <td>21</td>\n",
       "    </tr>\n",
       "  </tbody>\n",
       "</table>\n",
       "</div>"
      ],
      "text/plain": [
       "     Name variable     value\n",
       "0    John   Course   Masters\n",
       "1     Bob   Course  Graduate\n",
       "2  Shiela   Course  Graduate\n",
       "3    John      Age        27\n",
       "4     Bob      Age        23\n",
       "5  Shiela      Age        21"
      ]
     },
     "execution_count": 176,
     "metadata": {},
     "output_type": "execute_result"
    }
   ],
   "source": [
    "pd.melt(df, id_vars = 'Name', value_vars = ['Course', 'Age'])"
   ]
  },
  {
   "cell_type": "code",
   "execution_count": 177,
   "id": "8b20b921",
   "metadata": {},
   "outputs": [
    {
     "data": {
      "text/html": [
       "<div>\n",
       "<style scoped>\n",
       "    .dataframe tbody tr th:only-of-type {\n",
       "        vertical-align: middle;\n",
       "    }\n",
       "\n",
       "    .dataframe tbody tr th {\n",
       "        vertical-align: top;\n",
       "    }\n",
       "\n",
       "    .dataframe thead th {\n",
       "        text-align: right;\n",
       "    }\n",
       "</style>\n",
       "<table border=\"1\" class=\"dataframe\">\n",
       "  <thead>\n",
       "    <tr style=\"text-align: right;\">\n",
       "      <th></th>\n",
       "      <th>Name</th>\n",
       "      <th>Variable_name_changed</th>\n",
       "      <th>value</th>\n",
       "    </tr>\n",
       "  </thead>\n",
       "  <tbody>\n",
       "    <tr>\n",
       "      <th>0</th>\n",
       "      <td>John</td>\n",
       "      <td>Course</td>\n",
       "      <td>Masters</td>\n",
       "    </tr>\n",
       "    <tr>\n",
       "      <th>1</th>\n",
       "      <td>Bob</td>\n",
       "      <td>Course</td>\n",
       "      <td>Graduate</td>\n",
       "    </tr>\n",
       "    <tr>\n",
       "      <th>2</th>\n",
       "      <td>Shiela</td>\n",
       "      <td>Course</td>\n",
       "      <td>Graduate</td>\n",
       "    </tr>\n",
       "    <tr>\n",
       "      <th>3</th>\n",
       "      <td>John</td>\n",
       "      <td>Age</td>\n",
       "      <td>27</td>\n",
       "    </tr>\n",
       "    <tr>\n",
       "      <th>4</th>\n",
       "      <td>Bob</td>\n",
       "      <td>Age</td>\n",
       "      <td>23</td>\n",
       "    </tr>\n",
       "    <tr>\n",
       "      <th>5</th>\n",
       "      <td>Shiela</td>\n",
       "      <td>Age</td>\n",
       "      <td>21</td>\n",
       "    </tr>\n",
       "  </tbody>\n",
       "</table>\n",
       "</div>"
      ],
      "text/plain": [
       "     Name Variable_name_changed     value\n",
       "0    John                Course   Masters\n",
       "1     Bob                Course  Graduate\n",
       "2  Shiela                Course  Graduate\n",
       "3    John                   Age        27\n",
       "4     Bob                   Age        23\n",
       "5  Shiela                   Age        21"
      ]
     },
     "execution_count": 177,
     "metadata": {},
     "output_type": "execute_result"
    }
   ],
   "source": [
    "pd.melt(df, id_vars = 'Name', value_vars = ['Course', 'Age'], var_name = 'Variable_name_changed')"
   ]
  },
  {
   "cell_type": "code",
   "execution_count": 187,
   "id": "c9f3e2cf",
   "metadata": {},
   "outputs": [],
   "source": [
    "df_melt = pd.melt(df, id_vars = 'Name', value_vars = ['Course', 'Age'], var_name = 'Variable_name_changed', value_name = 'Value_name_changed', ignore_index  = True)"
   ]
  },
  {
   "cell_type": "code",
   "execution_count": 188,
   "id": "885d4427",
   "metadata": {},
   "outputs": [
    {
     "data": {
      "text/html": [
       "<div>\n",
       "<style scoped>\n",
       "    .dataframe tbody tr th:only-of-type {\n",
       "        vertical-align: middle;\n",
       "    }\n",
       "\n",
       "    .dataframe tbody tr th {\n",
       "        vertical-align: top;\n",
       "    }\n",
       "\n",
       "    .dataframe thead th {\n",
       "        text-align: right;\n",
       "    }\n",
       "</style>\n",
       "<table border=\"1\" class=\"dataframe\">\n",
       "  <thead>\n",
       "    <tr style=\"text-align: right;\">\n",
       "      <th></th>\n",
       "      <th>Name</th>\n",
       "      <th>Variable_name_changed</th>\n",
       "      <th>Value_name_changed</th>\n",
       "    </tr>\n",
       "  </thead>\n",
       "  <tbody>\n",
       "    <tr>\n",
       "      <th>0</th>\n",
       "      <td>John</td>\n",
       "      <td>Course</td>\n",
       "      <td>Masters</td>\n",
       "    </tr>\n",
       "    <tr>\n",
       "      <th>1</th>\n",
       "      <td>Bob</td>\n",
       "      <td>Course</td>\n",
       "      <td>Graduate</td>\n",
       "    </tr>\n",
       "    <tr>\n",
       "      <th>2</th>\n",
       "      <td>Shiela</td>\n",
       "      <td>Course</td>\n",
       "      <td>Graduate</td>\n",
       "    </tr>\n",
       "    <tr>\n",
       "      <th>3</th>\n",
       "      <td>John</td>\n",
       "      <td>Age</td>\n",
       "      <td>27</td>\n",
       "    </tr>\n",
       "    <tr>\n",
       "      <th>4</th>\n",
       "      <td>Bob</td>\n",
       "      <td>Age</td>\n",
       "      <td>23</td>\n",
       "    </tr>\n",
       "    <tr>\n",
       "      <th>5</th>\n",
       "      <td>Shiela</td>\n",
       "      <td>Age</td>\n",
       "      <td>21</td>\n",
       "    </tr>\n",
       "  </tbody>\n",
       "</table>\n",
       "</div>"
      ],
      "text/plain": [
       "     Name Variable_name_changed Value_name_changed\n",
       "0    John                Course            Masters\n",
       "1     Bob                Course           Graduate\n",
       "2  Shiela                Course           Graduate\n",
       "3    John                   Age                 27\n",
       "4     Bob                   Age                 23\n",
       "5  Shiela                   Age                 21"
      ]
     },
     "execution_count": 188,
     "metadata": {},
     "output_type": "execute_result"
    }
   ],
   "source": [
    "df_melt"
   ]
  },
  {
   "cell_type": "code",
   "execution_count": 189,
   "id": "1ed1aa12",
   "metadata": {},
   "outputs": [
    {
     "data": {
      "text/plain": [
       "Variable_name_changed\n",
       "Age       3\n",
       "Course    3\n",
       "Name: Value_name_changed, dtype: int64"
      ]
     },
     "execution_count": 189,
     "metadata": {},
     "output_type": "execute_result"
    }
   ],
   "source": [
    "df_melt.groupby('Variable_name_changed')['Value_name_changed'].count()"
   ]
  },
  {
   "cell_type": "code",
   "execution_count": 198,
   "id": "d2bf0c27",
   "metadata": {},
   "outputs": [
    {
     "data": {
      "text/html": [
       "<div>\n",
       "<style scoped>\n",
       "    .dataframe tbody tr th:only-of-type {\n",
       "        vertical-align: middle;\n",
       "    }\n",
       "\n",
       "    .dataframe tbody tr th {\n",
       "        vertical-align: top;\n",
       "    }\n",
       "\n",
       "    .dataframe thead tr th {\n",
       "        text-align: left;\n",
       "    }\n",
       "\n",
       "    .dataframe thead tr:last-of-type th {\n",
       "        text-align: right;\n",
       "    }\n",
       "</style>\n",
       "<table border=\"1\" class=\"dataframe\">\n",
       "  <thead>\n",
       "    <tr>\n",
       "      <th></th>\n",
       "      <th colspan=\"2\" halign=\"left\">Value_name_changed</th>\n",
       "    </tr>\n",
       "    <tr>\n",
       "      <th>Variable_name_changed</th>\n",
       "      <th>Age</th>\n",
       "      <th>Course</th>\n",
       "    </tr>\n",
       "    <tr>\n",
       "      <th>Name</th>\n",
       "      <th></th>\n",
       "      <th></th>\n",
       "    </tr>\n",
       "  </thead>\n",
       "  <tbody>\n",
       "    <tr>\n",
       "      <th>Bob</th>\n",
       "      <td>23</td>\n",
       "      <td>Graduate</td>\n",
       "    </tr>\n",
       "    <tr>\n",
       "      <th>John</th>\n",
       "      <td>27</td>\n",
       "      <td>Masters</td>\n",
       "    </tr>\n",
       "    <tr>\n",
       "      <th>Shiela</th>\n",
       "      <td>21</td>\n",
       "      <td>Graduate</td>\n",
       "    </tr>\n",
       "  </tbody>\n",
       "</table>\n",
       "</div>"
      ],
      "text/plain": [
       "                      Value_name_changed          \n",
       "Variable_name_changed                Age    Course\n",
       "Name                                              \n",
       "Bob                                   23  Graduate\n",
       "John                                  27   Masters\n",
       "Shiela                                21  Graduate"
      ]
     },
     "execution_count": 198,
     "metadata": {},
     "output_type": "execute_result"
    }
   ],
   "source": [
    "pd.pivot(df_melt,index = 'Name', columns = ['Variable_name_changed'])"
   ]
  },
  {
   "cell_type": "code",
   "execution_count": 199,
   "id": "239dc24e",
   "metadata": {},
   "outputs": [],
   "source": [
    "#### finding null values"
   ]
  },
  {
   "cell_type": "code",
   "execution_count": 175,
   "id": "16a7a0da",
   "metadata": {},
   "outputs": [],
   "source": [
    "df = pd.DataFrame({'alphabets' : ['a','m', 's', 'r', 't', 'e'], 'place' : [1, np.nan, 19, np.nan, 20, np.nan]})"
   ]
  },
  {
   "cell_type": "code",
   "execution_count": 176,
   "id": "e49f569e",
   "metadata": {},
   "outputs": [
    {
     "data": {
      "text/html": [
       "<div>\n",
       "<style scoped>\n",
       "    .dataframe tbody tr th:only-of-type {\n",
       "        vertical-align: middle;\n",
       "    }\n",
       "\n",
       "    .dataframe tbody tr th {\n",
       "        vertical-align: top;\n",
       "    }\n",
       "\n",
       "    .dataframe thead th {\n",
       "        text-align: right;\n",
       "    }\n",
       "</style>\n",
       "<table border=\"1\" class=\"dataframe\">\n",
       "  <thead>\n",
       "    <tr style=\"text-align: right;\">\n",
       "      <th></th>\n",
       "      <th>alphabets</th>\n",
       "      <th>place</th>\n",
       "    </tr>\n",
       "  </thead>\n",
       "  <tbody>\n",
       "    <tr>\n",
       "      <th>0</th>\n",
       "      <td>a</td>\n",
       "      <td>1.0</td>\n",
       "    </tr>\n",
       "    <tr>\n",
       "      <th>1</th>\n",
       "      <td>m</td>\n",
       "      <td>NaN</td>\n",
       "    </tr>\n",
       "    <tr>\n",
       "      <th>2</th>\n",
       "      <td>s</td>\n",
       "      <td>19.0</td>\n",
       "    </tr>\n",
       "    <tr>\n",
       "      <th>3</th>\n",
       "      <td>r</td>\n",
       "      <td>NaN</td>\n",
       "    </tr>\n",
       "    <tr>\n",
       "      <th>4</th>\n",
       "      <td>t</td>\n",
       "      <td>20.0</td>\n",
       "    </tr>\n",
       "    <tr>\n",
       "      <th>5</th>\n",
       "      <td>e</td>\n",
       "      <td>NaN</td>\n",
       "    </tr>\n",
       "  </tbody>\n",
       "</table>\n",
       "</div>"
      ],
      "text/plain": [
       "  alphabets  place\n",
       "0         a    1.0\n",
       "1         m    NaN\n",
       "2         s   19.0\n",
       "3         r    NaN\n",
       "4         t   20.0\n",
       "5         e    NaN"
      ]
     },
     "execution_count": 176,
     "metadata": {},
     "output_type": "execute_result"
    }
   ],
   "source": [
    "df"
   ]
  },
  {
   "cell_type": "code",
   "execution_count": 177,
   "id": "73ee72bb",
   "metadata": {},
   "outputs": [
    {
     "data": {
      "text/plain": [
       "alphabets    0\n",
       "place        3\n",
       "dtype: int64"
      ]
     },
     "execution_count": 177,
     "metadata": {},
     "output_type": "execute_result"
    }
   ],
   "source": [
    "df.isnull().sum()"
   ]
  },
  {
   "cell_type": "code",
   "execution_count": 178,
   "id": "6a9f4f36",
   "metadata": {},
   "outputs": [
    {
     "data": {
      "text/plain": [
       "3"
      ]
     },
     "execution_count": 178,
     "metadata": {},
     "output_type": "execute_result"
    }
   ],
   "source": [
    "df.isnull().sum().sum()   # total null values of the dataframe"
   ]
  },
  {
   "cell_type": "code",
   "execution_count": 179,
   "id": "a50abd50",
   "metadata": {},
   "outputs": [
    {
     "data": {
      "text/plain": [
       "1"
      ]
     },
     "execution_count": 179,
     "metadata": {},
     "output_type": "execute_result"
    }
   ],
   "source": [
    "df.loc[[3]].isna().sum().sum()  # total null values in 4th row"
   ]
  },
  {
   "cell_type": "code",
   "execution_count": 228,
   "id": "4d47c81f",
   "metadata": {},
   "outputs": [
    {
     "data": {
      "text/html": [
       "<div>\n",
       "<style scoped>\n",
       "    .dataframe tbody tr th:only-of-type {\n",
       "        vertical-align: middle;\n",
       "    }\n",
       "\n",
       "    .dataframe tbody tr th {\n",
       "        vertical-align: top;\n",
       "    }\n",
       "\n",
       "    .dataframe thead th {\n",
       "        text-align: right;\n",
       "    }\n",
       "</style>\n",
       "<table border=\"1\" class=\"dataframe\">\n",
       "  <thead>\n",
       "    <tr style=\"text-align: right;\">\n",
       "      <th></th>\n",
       "      <th>alphabets</th>\n",
       "      <th>place</th>\n",
       "    </tr>\n",
       "  </thead>\n",
       "  <tbody>\n",
       "    <tr>\n",
       "      <th>0</th>\n",
       "      <td>a</td>\n",
       "      <td>1.0</td>\n",
       "    </tr>\n",
       "    <tr>\n",
       "      <th>2</th>\n",
       "      <td>s</td>\n",
       "      <td>19.0</td>\n",
       "    </tr>\n",
       "    <tr>\n",
       "      <th>4</th>\n",
       "      <td>t</td>\n",
       "      <td>20.0</td>\n",
       "    </tr>\n",
       "  </tbody>\n",
       "</table>\n",
       "</div>"
      ],
      "text/plain": [
       "  alphabets  place\n",
       "0         a    1.0\n",
       "2         s   19.0\n",
       "4         t   20.0"
      ]
     },
     "execution_count": 228,
     "metadata": {},
     "output_type": "execute_result"
    }
   ],
   "source": [
    "df.dropna()"
   ]
  },
  {
   "cell_type": "code",
   "execution_count": 232,
   "id": "eb5d0fd4",
   "metadata": {},
   "outputs": [],
   "source": [
    "df['place']=df['place'].fillna(0)\n",
    "df['place']=df['place'].astype('int')"
   ]
  },
  {
   "cell_type": "code",
   "execution_count": 235,
   "id": "c6f8803f",
   "metadata": {},
   "outputs": [
    {
     "data": {
      "text/html": [
       "<div>\n",
       "<style scoped>\n",
       "    .dataframe tbody tr th:only-of-type {\n",
       "        vertical-align: middle;\n",
       "    }\n",
       "\n",
       "    .dataframe tbody tr th {\n",
       "        vertical-align: top;\n",
       "    }\n",
       "\n",
       "    .dataframe thead th {\n",
       "        text-align: right;\n",
       "    }\n",
       "</style>\n",
       "<table border=\"1\" class=\"dataframe\">\n",
       "  <thead>\n",
       "    <tr style=\"text-align: right;\">\n",
       "      <th></th>\n",
       "      <th>alphabets</th>\n",
       "      <th>place</th>\n",
       "    </tr>\n",
       "  </thead>\n",
       "  <tbody>\n",
       "    <tr>\n",
       "      <th>0</th>\n",
       "      <td>a</td>\n",
       "      <td>1.000000</td>\n",
       "    </tr>\n",
       "    <tr>\n",
       "      <th>1</th>\n",
       "      <td>m</td>\n",
       "      <td>6.666667</td>\n",
       "    </tr>\n",
       "    <tr>\n",
       "      <th>2</th>\n",
       "      <td>s</td>\n",
       "      <td>19.000000</td>\n",
       "    </tr>\n",
       "    <tr>\n",
       "      <th>3</th>\n",
       "      <td>r</td>\n",
       "      <td>6.666667</td>\n",
       "    </tr>\n",
       "    <tr>\n",
       "      <th>4</th>\n",
       "      <td>t</td>\n",
       "      <td>20.000000</td>\n",
       "    </tr>\n",
       "    <tr>\n",
       "      <th>5</th>\n",
       "      <td>e</td>\n",
       "      <td>6.666667</td>\n",
       "    </tr>\n",
       "  </tbody>\n",
       "</table>\n",
       "</div>"
      ],
      "text/plain": [
       "  alphabets      place\n",
       "0         a   1.000000\n",
       "1         m   6.666667\n",
       "2         s  19.000000\n",
       "3         r   6.666667\n",
       "4         t  20.000000\n",
       "5         e   6.666667"
      ]
     },
     "execution_count": 235,
     "metadata": {},
     "output_type": "execute_result"
    }
   ],
   "source": [
    "df['place'] = df['place'].replace(0, df['place'].mean())\n",
    "df"
   ]
  },
  {
   "cell_type": "code",
   "execution_count": 221,
   "id": "b218287a",
   "metadata": {},
   "outputs": [],
   "source": [
    "df = pd.DataFrame({'G1': [10, 20, 30, 40],\n",
    "            'G2': [25, np.NaN, np.NaN, 29],\n",
    "            'G3': [15, 14, 17, 11],\n",
    "            'G4': [21, 22, 23, 25]})"
   ]
  },
  {
   "cell_type": "code",
   "execution_count": 222,
   "id": "173e67b2",
   "metadata": {},
   "outputs": [
    {
     "data": {
      "text/html": [
       "<div>\n",
       "<style scoped>\n",
       "    .dataframe tbody tr th:only-of-type {\n",
       "        vertical-align: middle;\n",
       "    }\n",
       "\n",
       "    .dataframe tbody tr th {\n",
       "        vertical-align: top;\n",
       "    }\n",
       "\n",
       "    .dataframe thead th {\n",
       "        text-align: right;\n",
       "    }\n",
       "</style>\n",
       "<table border=\"1\" class=\"dataframe\">\n",
       "  <thead>\n",
       "    <tr style=\"text-align: right;\">\n",
       "      <th></th>\n",
       "      <th>G1</th>\n",
       "      <th>G2</th>\n",
       "      <th>G3</th>\n",
       "      <th>G4</th>\n",
       "    </tr>\n",
       "  </thead>\n",
       "  <tbody>\n",
       "    <tr>\n",
       "      <th>0</th>\n",
       "      <td>10</td>\n",
       "      <td>25.0</td>\n",
       "      <td>15</td>\n",
       "      <td>21</td>\n",
       "    </tr>\n",
       "    <tr>\n",
       "      <th>1</th>\n",
       "      <td>20</td>\n",
       "      <td>NaN</td>\n",
       "      <td>14</td>\n",
       "      <td>22</td>\n",
       "    </tr>\n",
       "    <tr>\n",
       "      <th>2</th>\n",
       "      <td>30</td>\n",
       "      <td>NaN</td>\n",
       "      <td>17</td>\n",
       "      <td>23</td>\n",
       "    </tr>\n",
       "    <tr>\n",
       "      <th>3</th>\n",
       "      <td>40</td>\n",
       "      <td>29.0</td>\n",
       "      <td>11</td>\n",
       "      <td>25</td>\n",
       "    </tr>\n",
       "  </tbody>\n",
       "</table>\n",
       "</div>"
      ],
      "text/plain": [
       "   G1    G2  G3  G4\n",
       "0  10  25.0  15  21\n",
       "1  20   NaN  14  22\n",
       "2  30   NaN  17  23\n",
       "3  40  29.0  11  25"
      ]
     },
     "execution_count": 222,
     "metadata": {},
     "output_type": "execute_result"
    }
   ],
   "source": [
    "df"
   ]
  },
  {
   "cell_type": "code",
   "execution_count": 223,
   "id": "875e4278",
   "metadata": {},
   "outputs": [
    {
     "data": {
      "text/plain": [
       "G1    0\n",
       "G2    2\n",
       "G3    0\n",
       "G4    0\n",
       "dtype: int64"
      ]
     },
     "execution_count": 223,
     "metadata": {},
     "output_type": "execute_result"
    }
   ],
   "source": [
    "df.isnull().sum()"
   ]
  },
  {
   "cell_type": "code",
   "execution_count": 224,
   "id": "d6686422",
   "metadata": {},
   "outputs": [
    {
     "data": {
      "text/html": [
       "<div>\n",
       "<style scoped>\n",
       "    .dataframe tbody tr th:only-of-type {\n",
       "        vertical-align: middle;\n",
       "    }\n",
       "\n",
       "    .dataframe tbody tr th {\n",
       "        vertical-align: top;\n",
       "    }\n",
       "\n",
       "    .dataframe thead th {\n",
       "        text-align: right;\n",
       "    }\n",
       "</style>\n",
       "<table border=\"1\" class=\"dataframe\">\n",
       "  <thead>\n",
       "    <tr style=\"text-align: right;\">\n",
       "      <th></th>\n",
       "      <th>G1</th>\n",
       "      <th>G2</th>\n",
       "      <th>G3</th>\n",
       "      <th>G4</th>\n",
       "    </tr>\n",
       "  </thead>\n",
       "  <tbody>\n",
       "    <tr>\n",
       "      <th>0</th>\n",
       "      <td>10</td>\n",
       "      <td>25.0</td>\n",
       "      <td>15</td>\n",
       "      <td>21</td>\n",
       "    </tr>\n",
       "    <tr>\n",
       "      <th>1</th>\n",
       "      <td>20</td>\n",
       "      <td>27.0</td>\n",
       "      <td>14</td>\n",
       "      <td>22</td>\n",
       "    </tr>\n",
       "    <tr>\n",
       "      <th>2</th>\n",
       "      <td>30</td>\n",
       "      <td>27.0</td>\n",
       "      <td>17</td>\n",
       "      <td>23</td>\n",
       "    </tr>\n",
       "    <tr>\n",
       "      <th>3</th>\n",
       "      <td>40</td>\n",
       "      <td>29.0</td>\n",
       "      <td>11</td>\n",
       "      <td>25</td>\n",
       "    </tr>\n",
       "  </tbody>\n",
       "</table>\n",
       "</div>"
      ],
      "text/plain": [
       "   G1    G2  G3  G4\n",
       "0  10  25.0  15  21\n",
       "1  20  27.0  14  22\n",
       "2  30  27.0  17  23\n",
       "3  40  29.0  11  25"
      ]
     },
     "execution_count": 224,
     "metadata": {},
     "output_type": "execute_result"
    }
   ],
   "source": [
    "df.fillna(value = df['G2'].mean())"
   ]
  },
  {
   "cell_type": "code",
   "execution_count": 236,
   "id": "c763338e",
   "metadata": {},
   "outputs": [],
   "source": [
    "#### pd.cut"
   ]
  },
  {
   "cell_type": "code",
   "execution_count": 248,
   "id": "b2a75f6c",
   "metadata": {},
   "outputs": [],
   "source": [
    "df = pd.DataFrame({'number': np.random.randint(1, 100, 10)})"
   ]
  },
  {
   "cell_type": "code",
   "execution_count": 249,
   "id": "2edb3b38",
   "metadata": {},
   "outputs": [
    {
     "data": {
      "text/html": [
       "<div>\n",
       "<style scoped>\n",
       "    .dataframe tbody tr th:only-of-type {\n",
       "        vertical-align: middle;\n",
       "    }\n",
       "\n",
       "    .dataframe tbody tr th {\n",
       "        vertical-align: top;\n",
       "    }\n",
       "\n",
       "    .dataframe thead th {\n",
       "        text-align: right;\n",
       "    }\n",
       "</style>\n",
       "<table border=\"1\" class=\"dataframe\">\n",
       "  <thead>\n",
       "    <tr style=\"text-align: right;\">\n",
       "      <th></th>\n",
       "      <th>number</th>\n",
       "    </tr>\n",
       "  </thead>\n",
       "  <tbody>\n",
       "    <tr>\n",
       "      <th>0</th>\n",
       "      <td>2</td>\n",
       "    </tr>\n",
       "    <tr>\n",
       "      <th>1</th>\n",
       "      <td>37</td>\n",
       "    </tr>\n",
       "    <tr>\n",
       "      <th>2</th>\n",
       "      <td>73</td>\n",
       "    </tr>\n",
       "    <tr>\n",
       "      <th>3</th>\n",
       "      <td>38</td>\n",
       "    </tr>\n",
       "    <tr>\n",
       "      <th>4</th>\n",
       "      <td>57</td>\n",
       "    </tr>\n",
       "    <tr>\n",
       "      <th>5</th>\n",
       "      <td>69</td>\n",
       "    </tr>\n",
       "    <tr>\n",
       "      <th>6</th>\n",
       "      <td>91</td>\n",
       "    </tr>\n",
       "    <tr>\n",
       "      <th>7</th>\n",
       "      <td>90</td>\n",
       "    </tr>\n",
       "    <tr>\n",
       "      <th>8</th>\n",
       "      <td>45</td>\n",
       "    </tr>\n",
       "    <tr>\n",
       "      <th>9</th>\n",
       "      <td>22</td>\n",
       "    </tr>\n",
       "  </tbody>\n",
       "</table>\n",
       "</div>"
      ],
      "text/plain": [
       "   number\n",
       "0       2\n",
       "1      37\n",
       "2      73\n",
       "3      38\n",
       "4      57\n",
       "5      69\n",
       "6      91\n",
       "7      90\n",
       "8      45\n",
       "9      22"
      ]
     },
     "execution_count": 249,
     "metadata": {},
     "output_type": "execute_result"
    }
   ],
   "source": [
    "df"
   ]
  },
  {
   "cell_type": "code",
   "execution_count": 250,
   "id": "99a4424a",
   "metadata": {},
   "outputs": [],
   "source": [
    "df['bins'] = pd.cut(x = df['number'], bins = [1, 20, 40, 60, 80, 100], \n",
    "                    labels = ['1 to 20', '21 to 40', '41 to 60','61 to 80', '81 to 100'])"
   ]
  },
  {
   "cell_type": "code",
   "execution_count": 251,
   "id": "d964ed0b",
   "metadata": {},
   "outputs": [
    {
     "data": {
      "text/html": [
       "<div>\n",
       "<style scoped>\n",
       "    .dataframe tbody tr th:only-of-type {\n",
       "        vertical-align: middle;\n",
       "    }\n",
       "\n",
       "    .dataframe tbody tr th {\n",
       "        vertical-align: top;\n",
       "    }\n",
       "\n",
       "    .dataframe thead th {\n",
       "        text-align: right;\n",
       "    }\n",
       "</style>\n",
       "<table border=\"1\" class=\"dataframe\">\n",
       "  <thead>\n",
       "    <tr style=\"text-align: right;\">\n",
       "      <th></th>\n",
       "      <th>number</th>\n",
       "      <th>bins</th>\n",
       "    </tr>\n",
       "  </thead>\n",
       "  <tbody>\n",
       "    <tr>\n",
       "      <th>0</th>\n",
       "      <td>2</td>\n",
       "      <td>1 to 20</td>\n",
       "    </tr>\n",
       "    <tr>\n",
       "      <th>1</th>\n",
       "      <td>37</td>\n",
       "      <td>21 to 40</td>\n",
       "    </tr>\n",
       "    <tr>\n",
       "      <th>2</th>\n",
       "      <td>73</td>\n",
       "      <td>61 to 80</td>\n",
       "    </tr>\n",
       "    <tr>\n",
       "      <th>3</th>\n",
       "      <td>38</td>\n",
       "      <td>21 to 40</td>\n",
       "    </tr>\n",
       "    <tr>\n",
       "      <th>4</th>\n",
       "      <td>57</td>\n",
       "      <td>41 to 60</td>\n",
       "    </tr>\n",
       "    <tr>\n",
       "      <th>5</th>\n",
       "      <td>69</td>\n",
       "      <td>61 to 80</td>\n",
       "    </tr>\n",
       "    <tr>\n",
       "      <th>6</th>\n",
       "      <td>91</td>\n",
       "      <td>81 to 100</td>\n",
       "    </tr>\n",
       "    <tr>\n",
       "      <th>7</th>\n",
       "      <td>90</td>\n",
       "      <td>81 to 100</td>\n",
       "    </tr>\n",
       "    <tr>\n",
       "      <th>8</th>\n",
       "      <td>45</td>\n",
       "      <td>41 to 60</td>\n",
       "    </tr>\n",
       "    <tr>\n",
       "      <th>9</th>\n",
       "      <td>22</td>\n",
       "      <td>21 to 40</td>\n",
       "    </tr>\n",
       "  </tbody>\n",
       "</table>\n",
       "</div>"
      ],
      "text/plain": [
       "   number       bins\n",
       "0       2    1 to 20\n",
       "1      37   21 to 40\n",
       "2      73   61 to 80\n",
       "3      38   21 to 40\n",
       "4      57   41 to 60\n",
       "5      69   61 to 80\n",
       "6      91  81 to 100\n",
       "7      90  81 to 100\n",
       "8      45   41 to 60\n",
       "9      22   21 to 40"
      ]
     },
     "execution_count": 251,
     "metadata": {},
     "output_type": "execute_result"
    }
   ],
   "source": [
    "df"
   ]
  },
  {
   "cell_type": "code",
   "execution_count": 18,
   "id": "7719bbaf",
   "metadata": {},
   "outputs": [
    {
     "data": {
      "text/plain": [
       "' You are given the raw data in form of a string, Write a function which can take a string as an \\ninput and return the unique words and the corresponding frequency in form of a Pandas Series object.\\nThe indices of the series should be the unique words and the values should be the frequency of those \\nunique words.\\n\\n'"
      ]
     },
     "execution_count": 18,
     "metadata": {},
     "output_type": "execute_result"
    }
   ],
   "source": [
    "''' Question\n",
    "You are given the raw data in form of a string, Write a function which can take a string as an input and return the unique \n",
    "words and the corresponding frequency in form of a Pandas Series object. The indices of the series should be the unique words \n",
    "and the values should be the frequency of those unique words.\n",
    "'''"
   ]
  },
  {
   "cell_type": "code",
   "execution_count": 13,
   "id": "68c2613b",
   "metadata": {},
   "outputs": [],
   "source": [
    "def string(x):\n",
    "    ans = pd.Series(x.split()).value_counts()\n",
    "    return ans"
   ]
  },
  {
   "cell_type": "code",
   "execution_count": 16,
   "id": "e771971e",
   "metadata": {},
   "outputs": [],
   "source": [
    "x = 'How much wood would a woodchuck chuck if a woodchuck could chuck wood'"
   ]
  },
  {
   "cell_type": "code",
   "execution_count": 17,
   "id": "8d84e901",
   "metadata": {},
   "outputs": [
    {
     "data": {
      "text/plain": [
       "wood         2\n",
       "a            2\n",
       "woodchuck    2\n",
       "chuck        2\n",
       "How          1\n",
       "much         1\n",
       "would        1\n",
       "if           1\n",
       "could        1\n",
       "Name: count, dtype: int64"
      ]
     },
     "execution_count": 17,
     "metadata": {},
     "output_type": "execute_result"
    }
   ],
   "source": [
    "string(x)"
   ]
  },
  {
   "cell_type": "code",
   "execution_count": 67,
   "id": "a1f651d3",
   "metadata": {},
   "outputs": [
    {
     "data": {
      "text/plain": [
       "'\\nGiven a dataframe containing employee income information,\\n\\nCalculate and return the percentage of employees in medium income bracket.\\n'"
      ]
     },
     "execution_count": 67,
     "metadata": {},
     "output_type": "execute_result"
    }
   ],
   "source": [
    "''' Question\n",
    "Given a dataframe containing employee income information,\n",
    "\n",
    "Calculate and return the percentage of employees in medium income bracket.\n",
    "'''"
   ]
  },
  {
   "cell_type": "code",
   "execution_count": 19,
   "id": "e2063f2f",
   "metadata": {},
   "outputs": [],
   "source": [
    "data = {\n",
    "    'name': ['Bruno', 'Ariana', 'Harry', 'Selena', 'Weeknd'],\n",
    "    'gender': ['M', 'F', 'M', 'F', 'M'],\n",
    "    'income': ['low', 'high', 'medium', 'medium', 'medium']\n",
    "}\n",
    "\n",
    "df = pd.DataFrame(data)"
   ]
  },
  {
   "cell_type": "code",
   "execution_count": 20,
   "id": "a0820583",
   "metadata": {},
   "outputs": [
    {
     "data": {
      "text/html": [
       "<div>\n",
       "<style scoped>\n",
       "    .dataframe tbody tr th:only-of-type {\n",
       "        vertical-align: middle;\n",
       "    }\n",
       "\n",
       "    .dataframe tbody tr th {\n",
       "        vertical-align: top;\n",
       "    }\n",
       "\n",
       "    .dataframe thead th {\n",
       "        text-align: right;\n",
       "    }\n",
       "</style>\n",
       "<table border=\"1\" class=\"dataframe\">\n",
       "  <thead>\n",
       "    <tr style=\"text-align: right;\">\n",
       "      <th></th>\n",
       "      <th>name</th>\n",
       "      <th>gender</th>\n",
       "      <th>income</th>\n",
       "    </tr>\n",
       "  </thead>\n",
       "  <tbody>\n",
       "    <tr>\n",
       "      <th>0</th>\n",
       "      <td>Bruno</td>\n",
       "      <td>M</td>\n",
       "      <td>low</td>\n",
       "    </tr>\n",
       "    <tr>\n",
       "      <th>1</th>\n",
       "      <td>Ariana</td>\n",
       "      <td>F</td>\n",
       "      <td>high</td>\n",
       "    </tr>\n",
       "    <tr>\n",
       "      <th>2</th>\n",
       "      <td>Harry</td>\n",
       "      <td>M</td>\n",
       "      <td>medium</td>\n",
       "    </tr>\n",
       "    <tr>\n",
       "      <th>3</th>\n",
       "      <td>Selena</td>\n",
       "      <td>F</td>\n",
       "      <td>medium</td>\n",
       "    </tr>\n",
       "    <tr>\n",
       "      <th>4</th>\n",
       "      <td>Weeknd</td>\n",
       "      <td>M</td>\n",
       "      <td>medium</td>\n",
       "    </tr>\n",
       "  </tbody>\n",
       "</table>\n",
       "</div>"
      ],
      "text/plain": [
       "     name gender  income\n",
       "0   Bruno      M     low\n",
       "1  Ariana      F    high\n",
       "2   Harry      M  medium\n",
       "3  Selena      F  medium\n",
       "4  Weeknd      M  medium"
      ]
     },
     "execution_count": 20,
     "metadata": {},
     "output_type": "execute_result"
    }
   ],
   "source": [
    "df"
   ]
  },
  {
   "cell_type": "code",
   "execution_count": 66,
   "id": "e5bca1a6",
   "metadata": {},
   "outputs": [
    {
     "data": {
      "text/plain": [
       "60.0"
      ]
     },
     "execution_count": 66,
     "metadata": {},
     "output_type": "execute_result"
    }
   ],
   "source": [
    "len(df.loc[df['income'] == 'medium'] ) / df.shape[0] * 100"
   ]
  },
  {
   "cell_type": "code",
   "execution_count": 64,
   "id": "a180b2cf",
   "metadata": {},
   "outputs": [
    {
     "data": {
      "text/plain": [
       "5"
      ]
     },
     "execution_count": 64,
     "metadata": {},
     "output_type": "execute_result"
    }
   ],
   "source": [
    "df.shape[0]"
   ]
  },
  {
   "cell_type": "code",
   "execution_count": 69,
   "id": "d7c5677d",
   "metadata": {},
   "outputs": [
    {
     "data": {
      "text/plain": [
       "'Question\\nReturn a dataframe consisting of records where the population is greater than 10 million.\\n\\nThe dataframe should be sorted in ascending order, first by year and then by population column.\\n'"
      ]
     },
     "execution_count": 69,
     "metadata": {},
     "output_type": "execute_result"
    }
   ],
   "source": [
    "'''Question\n",
    "Return a dataframe consisting of records where the population is greater than 10 million.\n",
    "\n",
    "The dataframe should be sorted in ascending order, first by year and then by population column.\n",
    "'''"
   ]
  },
  {
   "cell_type": "code",
   "execution_count": 68,
   "id": "c3d2d8f6",
   "metadata": {},
   "outputs": [],
   "source": [
    "data = {\n",
    "    'Country': ['Afghanistan', 'Australia', 'Brazil', 'China', 'France', 'India', 'United States'],\n",
    "    'Year':  [1952, 1957, 1962, 1957, 1957, 1952, 1957],\n",
    "    'Population':  [8425333.0, 9712569.0, 76039390.0, 637408000.0, 44310863.0, 372000000.0,  171984000.0],\n",
    "    'Continent':  ['Asia', 'Oceania', 'Americas', 'Asia', 'Europe', 'Asia', 'Americas']\n",
    "}\n",
    "\n",
    "df = pd.DataFrame(data)"
   ]
  },
  {
   "cell_type": "code",
   "execution_count": 70,
   "id": "90f8c671",
   "metadata": {},
   "outputs": [
    {
     "data": {
      "text/html": [
       "<div>\n",
       "<style scoped>\n",
       "    .dataframe tbody tr th:only-of-type {\n",
       "        vertical-align: middle;\n",
       "    }\n",
       "\n",
       "    .dataframe tbody tr th {\n",
       "        vertical-align: top;\n",
       "    }\n",
       "\n",
       "    .dataframe thead th {\n",
       "        text-align: right;\n",
       "    }\n",
       "</style>\n",
       "<table border=\"1\" class=\"dataframe\">\n",
       "  <thead>\n",
       "    <tr style=\"text-align: right;\">\n",
       "      <th></th>\n",
       "      <th>Country</th>\n",
       "      <th>Year</th>\n",
       "      <th>Population</th>\n",
       "      <th>Continent</th>\n",
       "    </tr>\n",
       "  </thead>\n",
       "  <tbody>\n",
       "    <tr>\n",
       "      <th>0</th>\n",
       "      <td>Afghanistan</td>\n",
       "      <td>1952</td>\n",
       "      <td>8425333.0</td>\n",
       "      <td>Asia</td>\n",
       "    </tr>\n",
       "    <tr>\n",
       "      <th>1</th>\n",
       "      <td>Australia</td>\n",
       "      <td>1957</td>\n",
       "      <td>9712569.0</td>\n",
       "      <td>Oceania</td>\n",
       "    </tr>\n",
       "    <tr>\n",
       "      <th>2</th>\n",
       "      <td>Brazil</td>\n",
       "      <td>1962</td>\n",
       "      <td>76039390.0</td>\n",
       "      <td>Americas</td>\n",
       "    </tr>\n",
       "    <tr>\n",
       "      <th>3</th>\n",
       "      <td>China</td>\n",
       "      <td>1957</td>\n",
       "      <td>637408000.0</td>\n",
       "      <td>Asia</td>\n",
       "    </tr>\n",
       "    <tr>\n",
       "      <th>4</th>\n",
       "      <td>France</td>\n",
       "      <td>1957</td>\n",
       "      <td>44310863.0</td>\n",
       "      <td>Europe</td>\n",
       "    </tr>\n",
       "    <tr>\n",
       "      <th>5</th>\n",
       "      <td>India</td>\n",
       "      <td>1952</td>\n",
       "      <td>372000000.0</td>\n",
       "      <td>Asia</td>\n",
       "    </tr>\n",
       "    <tr>\n",
       "      <th>6</th>\n",
       "      <td>United States</td>\n",
       "      <td>1957</td>\n",
       "      <td>171984000.0</td>\n",
       "      <td>Americas</td>\n",
       "    </tr>\n",
       "  </tbody>\n",
       "</table>\n",
       "</div>"
      ],
      "text/plain": [
       "         Country  Year   Population Continent\n",
       "0    Afghanistan  1952    8425333.0      Asia\n",
       "1      Australia  1957    9712569.0   Oceania\n",
       "2         Brazil  1962   76039390.0  Americas\n",
       "3          China  1957  637408000.0      Asia\n",
       "4         France  1957   44310863.0    Europe\n",
       "5          India  1952  372000000.0      Asia\n",
       "6  United States  1957  171984000.0  Americas"
      ]
     },
     "execution_count": 70,
     "metadata": {},
     "output_type": "execute_result"
    }
   ],
   "source": [
    "df"
   ]
  },
  {
   "cell_type": "code",
   "execution_count": 75,
   "id": "278fa114",
   "metadata": {},
   "outputs": [
    {
     "data": {
      "text/html": [
       "<div>\n",
       "<style scoped>\n",
       "    .dataframe tbody tr th:only-of-type {\n",
       "        vertical-align: middle;\n",
       "    }\n",
       "\n",
       "    .dataframe tbody tr th {\n",
       "        vertical-align: top;\n",
       "    }\n",
       "\n",
       "    .dataframe thead th {\n",
       "        text-align: right;\n",
       "    }\n",
       "</style>\n",
       "<table border=\"1\" class=\"dataframe\">\n",
       "  <thead>\n",
       "    <tr style=\"text-align: right;\">\n",
       "      <th></th>\n",
       "      <th>Country</th>\n",
       "      <th>Year</th>\n",
       "      <th>Population</th>\n",
       "      <th>Continent</th>\n",
       "    </tr>\n",
       "  </thead>\n",
       "  <tbody>\n",
       "    <tr>\n",
       "      <th>5</th>\n",
       "      <td>India</td>\n",
       "      <td>1952</td>\n",
       "      <td>372000000.0</td>\n",
       "      <td>Asia</td>\n",
       "    </tr>\n",
       "    <tr>\n",
       "      <th>4</th>\n",
       "      <td>France</td>\n",
       "      <td>1957</td>\n",
       "      <td>44310863.0</td>\n",
       "      <td>Europe</td>\n",
       "    </tr>\n",
       "    <tr>\n",
       "      <th>6</th>\n",
       "      <td>United States</td>\n",
       "      <td>1957</td>\n",
       "      <td>171984000.0</td>\n",
       "      <td>Americas</td>\n",
       "    </tr>\n",
       "    <tr>\n",
       "      <th>3</th>\n",
       "      <td>China</td>\n",
       "      <td>1957</td>\n",
       "      <td>637408000.0</td>\n",
       "      <td>Asia</td>\n",
       "    </tr>\n",
       "    <tr>\n",
       "      <th>2</th>\n",
       "      <td>Brazil</td>\n",
       "      <td>1962</td>\n",
       "      <td>76039390.0</td>\n",
       "      <td>Americas</td>\n",
       "    </tr>\n",
       "  </tbody>\n",
       "</table>\n",
       "</div>"
      ],
      "text/plain": [
       "         Country  Year   Population Continent\n",
       "5          India  1952  372000000.0      Asia\n",
       "4         France  1957   44310863.0    Europe\n",
       "6  United States  1957  171984000.0  Americas\n",
       "3          China  1957  637408000.0      Asia\n",
       "2         Brazil  1962   76039390.0  Americas"
      ]
     },
     "execution_count": 75,
     "metadata": {},
     "output_type": "execute_result"
    }
   ],
   "source": [
    "df[df['Population'] > 10000000].sort_values(by = ['Year','Population'], ascending = True)"
   ]
  },
  {
   "cell_type": "code",
   "execution_count": 79,
   "id": "8d3f8f5b",
   "metadata": {},
   "outputs": [
    {
     "data": {
      "text/plain": [
       "' Question\\nTests were taken in two sets 1 and 2. Names of the students who participated in the respective tests are given. \\nMarks are recorded according to the subjects, names, and tests.\\n\\ndf1 and df2 contain test1 and test2 respectively.\\n\\nYou are required to return the following:\\n\\nThe average Chemistry score of students from both the dataframes.\\nThe average score across all the subjects for students who participated in both sets of exams \\n(here all subjects of both the exams have to be considered together).\\n'"
      ]
     },
     "execution_count": 79,
     "metadata": {},
     "output_type": "execute_result"
    }
   ],
   "source": [
    "''' Question\n",
    "Tests were taken in two sets 1 and 2. Names of the students who participated in the respective tests are given. \n",
    "Marks are recorded according to the subjects, names, and tests.\n",
    "\n",
    "df1 and df2 contain test1 and test2 respectively.\n",
    "\n",
    "You are required to return the following:\n",
    "\n",
    "1. The average Chemistry score of students from both the dataframes.\n",
    "2. The average score across all the subjects for students who participated in both sets of exams \n",
    "(here all subjects of both the exams have to be considered together).\n",
    "'''"
   ]
  },
  {
   "cell_type": "code",
   "execution_count": 76,
   "id": "89cd176a",
   "metadata": {},
   "outputs": [],
   "source": [
    "df1 = pd.DataFrame({\"name\": ['tobey', 'peter', 'chris', 'pratt'],\n",
    "                    'chem_score':[10, 9, 8, 7], 'phy_score':[7, 8, 9, 10], \n",
    "                    'Hindi_score':[9, 9, 9, 9]})  \n",
    "df2 = pd.DataFrame({\"name\": ['chris', 'pratt', 'andrew', 'tom'],\n",
    "                    'chem_score':[10, 10, 10, 9], 'maths_score':[6, 6, 7, 9], \n",
    "                    'eng_score':[9, 10, 10, 9]})"
   ]
  },
  {
   "cell_type": "code",
   "execution_count": 77,
   "id": "f1c3811d",
   "metadata": {},
   "outputs": [
    {
     "data": {
      "text/html": [
       "<div>\n",
       "<style scoped>\n",
       "    .dataframe tbody tr th:only-of-type {\n",
       "        vertical-align: middle;\n",
       "    }\n",
       "\n",
       "    .dataframe tbody tr th {\n",
       "        vertical-align: top;\n",
       "    }\n",
       "\n",
       "    .dataframe thead th {\n",
       "        text-align: right;\n",
       "    }\n",
       "</style>\n",
       "<table border=\"1\" class=\"dataframe\">\n",
       "  <thead>\n",
       "    <tr style=\"text-align: right;\">\n",
       "      <th></th>\n",
       "      <th>name</th>\n",
       "      <th>chem_score</th>\n",
       "      <th>phy_score</th>\n",
       "      <th>Hindi_score</th>\n",
       "    </tr>\n",
       "  </thead>\n",
       "  <tbody>\n",
       "    <tr>\n",
       "      <th>0</th>\n",
       "      <td>tobey</td>\n",
       "      <td>10</td>\n",
       "      <td>7</td>\n",
       "      <td>9</td>\n",
       "    </tr>\n",
       "    <tr>\n",
       "      <th>1</th>\n",
       "      <td>peter</td>\n",
       "      <td>9</td>\n",
       "      <td>8</td>\n",
       "      <td>9</td>\n",
       "    </tr>\n",
       "    <tr>\n",
       "      <th>2</th>\n",
       "      <td>chris</td>\n",
       "      <td>8</td>\n",
       "      <td>9</td>\n",
       "      <td>9</td>\n",
       "    </tr>\n",
       "    <tr>\n",
       "      <th>3</th>\n",
       "      <td>pratt</td>\n",
       "      <td>7</td>\n",
       "      <td>10</td>\n",
       "      <td>9</td>\n",
       "    </tr>\n",
       "  </tbody>\n",
       "</table>\n",
       "</div>"
      ],
      "text/plain": [
       "    name  chem_score  phy_score  Hindi_score\n",
       "0  tobey          10          7            9\n",
       "1  peter           9          8            9\n",
       "2  chris           8          9            9\n",
       "3  pratt           7         10            9"
      ]
     },
     "execution_count": 77,
     "metadata": {},
     "output_type": "execute_result"
    }
   ],
   "source": [
    "df1"
   ]
  },
  {
   "cell_type": "code",
   "execution_count": 78,
   "id": "f417257f",
   "metadata": {},
   "outputs": [
    {
     "data": {
      "text/html": [
       "<div>\n",
       "<style scoped>\n",
       "    .dataframe tbody tr th:only-of-type {\n",
       "        vertical-align: middle;\n",
       "    }\n",
       "\n",
       "    .dataframe tbody tr th {\n",
       "        vertical-align: top;\n",
       "    }\n",
       "\n",
       "    .dataframe thead th {\n",
       "        text-align: right;\n",
       "    }\n",
       "</style>\n",
       "<table border=\"1\" class=\"dataframe\">\n",
       "  <thead>\n",
       "    <tr style=\"text-align: right;\">\n",
       "      <th></th>\n",
       "      <th>name</th>\n",
       "      <th>chem_score</th>\n",
       "      <th>maths_score</th>\n",
       "      <th>eng_score</th>\n",
       "    </tr>\n",
       "  </thead>\n",
       "  <tbody>\n",
       "    <tr>\n",
       "      <th>0</th>\n",
       "      <td>chris</td>\n",
       "      <td>10</td>\n",
       "      <td>6</td>\n",
       "      <td>9</td>\n",
       "    </tr>\n",
       "    <tr>\n",
       "      <th>1</th>\n",
       "      <td>pratt</td>\n",
       "      <td>10</td>\n",
       "      <td>6</td>\n",
       "      <td>10</td>\n",
       "    </tr>\n",
       "    <tr>\n",
       "      <th>2</th>\n",
       "      <td>andrew</td>\n",
       "      <td>10</td>\n",
       "      <td>7</td>\n",
       "      <td>10</td>\n",
       "    </tr>\n",
       "    <tr>\n",
       "      <th>3</th>\n",
       "      <td>tom</td>\n",
       "      <td>9</td>\n",
       "      <td>9</td>\n",
       "      <td>9</td>\n",
       "    </tr>\n",
       "  </tbody>\n",
       "</table>\n",
       "</div>"
      ],
      "text/plain": [
       "     name  chem_score  maths_score  eng_score\n",
       "0   chris          10            6          9\n",
       "1   pratt          10            6         10\n",
       "2  andrew          10            7         10\n",
       "3     tom           9            9          9"
      ]
     },
     "execution_count": 78,
     "metadata": {},
     "output_type": "execute_result"
    }
   ],
   "source": [
    "df2"
   ]
  },
  {
   "cell_type": "code",
   "execution_count": 86,
   "id": "af42ecd4",
   "metadata": {},
   "outputs": [
    {
     "data": {
      "text/plain": [
       "9.125"
      ]
     },
     "execution_count": 86,
     "metadata": {},
     "output_type": "execute_result"
    }
   ],
   "source": [
    "ans = (df1['chem_score'].mean() + df2['chem_score'].mean())/2\n",
    "ans"
   ]
  },
  {
   "cell_type": "code",
   "execution_count": 91,
   "id": "4db3896d",
   "metadata": {},
   "outputs": [],
   "source": [
    "df3 = df1.merge(df2, on= ['name'])"
   ]
  },
  {
   "cell_type": "code",
   "execution_count": 92,
   "id": "fb1cff59",
   "metadata": {},
   "outputs": [
    {
     "data": {
      "text/html": [
       "<div>\n",
       "<style scoped>\n",
       "    .dataframe tbody tr th:only-of-type {\n",
       "        vertical-align: middle;\n",
       "    }\n",
       "\n",
       "    .dataframe tbody tr th {\n",
       "        vertical-align: top;\n",
       "    }\n",
       "\n",
       "    .dataframe thead th {\n",
       "        text-align: right;\n",
       "    }\n",
       "</style>\n",
       "<table border=\"1\" class=\"dataframe\">\n",
       "  <thead>\n",
       "    <tr style=\"text-align: right;\">\n",
       "      <th></th>\n",
       "      <th>name</th>\n",
       "      <th>chem_score_x</th>\n",
       "      <th>phy_score</th>\n",
       "      <th>Hindi_score</th>\n",
       "      <th>chem_score_y</th>\n",
       "      <th>maths_score</th>\n",
       "      <th>eng_score</th>\n",
       "    </tr>\n",
       "  </thead>\n",
       "  <tbody>\n",
       "    <tr>\n",
       "      <th>0</th>\n",
       "      <td>chris</td>\n",
       "      <td>8</td>\n",
       "      <td>9</td>\n",
       "      <td>9</td>\n",
       "      <td>10</td>\n",
       "      <td>6</td>\n",
       "      <td>9</td>\n",
       "    </tr>\n",
       "    <tr>\n",
       "      <th>1</th>\n",
       "      <td>pratt</td>\n",
       "      <td>7</td>\n",
       "      <td>10</td>\n",
       "      <td>9</td>\n",
       "      <td>10</td>\n",
       "      <td>6</td>\n",
       "      <td>10</td>\n",
       "    </tr>\n",
       "  </tbody>\n",
       "</table>\n",
       "</div>"
      ],
      "text/plain": [
       "    name  chem_score_x  phy_score  Hindi_score  chem_score_y  maths_score  \\\n",
       "0  chris             8          9            9            10            6   \n",
       "1  pratt             7         10            9            10            6   \n",
       "\n",
       "   eng_score  \n",
       "0          9  \n",
       "1         10  "
      ]
     },
     "execution_count": 92,
     "metadata": {},
     "output_type": "execute_result"
    }
   ],
   "source": [
    "df3"
   ]
  },
  {
   "cell_type": "code",
   "execution_count": 100,
   "id": "c321112f",
   "metadata": {},
   "outputs": [
    {
     "data": {
      "text/plain": [
       "7.5"
      ]
     },
     "execution_count": 100,
     "metadata": {},
     "output_type": "execute_result"
    }
   ],
   "source": [
    "df3['chem_score_x'].mean()"
   ]
  },
  {
   "cell_type": "code",
   "execution_count": 102,
   "id": "7e135aec",
   "metadata": {},
   "outputs": [],
   "source": [
    "df3.set_index('name', inplace = True)"
   ]
  },
  {
   "cell_type": "code",
   "execution_count": 104,
   "id": "4380f6e8",
   "metadata": {},
   "outputs": [],
   "source": [
    "lst = []\n",
    "for i in df3.columns:\n",
    "    ans = df3[i].mean()\n",
    "    lst.append(ans)"
   ]
  },
  {
   "cell_type": "code",
   "execution_count": 105,
   "id": "120f7aff",
   "metadata": {},
   "outputs": [
    {
     "data": {
      "text/plain": [
       "[7.5, 9.5, 9.0, 10.0, 6.0, 9.5]"
      ]
     },
     "execution_count": 105,
     "metadata": {},
     "output_type": "execute_result"
    }
   ],
   "source": [
    "lst  ## average subject marks for students who participated in both test"
   ]
  },
  {
   "cell_type": "code",
   "execution_count": 106,
   "id": "11a476ad",
   "metadata": {},
   "outputs": [
    {
     "data": {
      "text/html": [
       "<div>\n",
       "<style scoped>\n",
       "    .dataframe tbody tr th:only-of-type {\n",
       "        vertical-align: middle;\n",
       "    }\n",
       "\n",
       "    .dataframe tbody tr th {\n",
       "        vertical-align: top;\n",
       "    }\n",
       "\n",
       "    .dataframe thead th {\n",
       "        text-align: right;\n",
       "    }\n",
       "</style>\n",
       "<table border=\"1\" class=\"dataframe\">\n",
       "  <thead>\n",
       "    <tr style=\"text-align: right;\">\n",
       "      <th></th>\n",
       "      <th>chem_score_x</th>\n",
       "      <th>phy_score</th>\n",
       "      <th>Hindi_score</th>\n",
       "      <th>chem_score_y</th>\n",
       "      <th>maths_score</th>\n",
       "      <th>eng_score</th>\n",
       "    </tr>\n",
       "    <tr>\n",
       "      <th>name</th>\n",
       "      <th></th>\n",
       "      <th></th>\n",
       "      <th></th>\n",
       "      <th></th>\n",
       "      <th></th>\n",
       "      <th></th>\n",
       "    </tr>\n",
       "  </thead>\n",
       "  <tbody>\n",
       "    <tr>\n",
       "      <th>chris</th>\n",
       "      <td>8</td>\n",
       "      <td>9</td>\n",
       "      <td>9</td>\n",
       "      <td>10</td>\n",
       "      <td>6</td>\n",
       "      <td>9</td>\n",
       "    </tr>\n",
       "    <tr>\n",
       "      <th>pratt</th>\n",
       "      <td>7</td>\n",
       "      <td>10</td>\n",
       "      <td>9</td>\n",
       "      <td>10</td>\n",
       "      <td>6</td>\n",
       "      <td>10</td>\n",
       "    </tr>\n",
       "  </tbody>\n",
       "</table>\n",
       "</div>"
      ],
      "text/plain": [
       "       chem_score_x  phy_score  Hindi_score  chem_score_y  maths_score  \\\n",
       "name                                                                     \n",
       "chris             8          9            9            10            6   \n",
       "pratt             7         10            9            10            6   \n",
       "\n",
       "       eng_score  \n",
       "name              \n",
       "chris          9  \n",
       "pratt         10  "
      ]
     },
     "execution_count": 106,
     "metadata": {},
     "output_type": "execute_result"
    }
   ],
   "source": [
    "df3"
   ]
  },
  {
   "cell_type": "code",
   "execution_count": 111,
   "id": "baa4f05b",
   "metadata": {},
   "outputs": [
    {
     "name": "stdout",
     "output_type": "stream",
     "text": [
      "[8.5, 8.666666666666666]\n"
     ]
    }
   ],
   "source": [
    "lst = []     ### average score across all the subjects for the students who participated in both the test\n",
    "for i in df3.index:\n",
    "    ans = df3.loc[i].mean()\n",
    "    lst.append(ans)\n",
    "print(lst)"
   ]
  },
  {
   "cell_type": "code",
   "execution_count": 113,
   "id": "626f2f7e",
   "metadata": {},
   "outputs": [
    {
     "data": {
      "text/plain": [
       "\"Question\\nGiven a dataframe consisting of payments data of candidates,\\n\\n1. Calculates the mean payment rounded off to 2 decimals for each candidate and stores it in a column avg_payment and\\n\\n2. Returns the data frame after deleting all the columns other than 'name', 'mar_payment', and 'avg_payment'\\n\""
      ]
     },
     "execution_count": 113,
     "metadata": {},
     "output_type": "execute_result"
    }
   ],
   "source": [
    "'''Question\n",
    "Given a dataframe consisting of payments data of candidates,\n",
    "\n",
    "1. Calculates the mean payment rounded off to 2 decimals for each candidate and stores it in a column avg_payment and\n",
    "\n",
    "2. Returns the data frame after deleting all the columns other than 'name', 'mar_payment', and 'avg_payment'\n",
    "'''"
   ]
  },
  {
   "cell_type": "code",
   "execution_count": 122,
   "id": "d43976ca",
   "metadata": {},
   "outputs": [
    {
     "data": {
      "text/html": [
       "<div>\n",
       "<style scoped>\n",
       "    .dataframe tbody tr th:only-of-type {\n",
       "        vertical-align: middle;\n",
       "    }\n",
       "\n",
       "    .dataframe tbody tr th {\n",
       "        vertical-align: top;\n",
       "    }\n",
       "\n",
       "    .dataframe thead th {\n",
       "        text-align: right;\n",
       "    }\n",
       "</style>\n",
       "<table border=\"1\" class=\"dataframe\">\n",
       "  <thead>\n",
       "    <tr style=\"text-align: right;\">\n",
       "      <th></th>\n",
       "      <th>name</th>\n",
       "      <th>jan_payment</th>\n",
       "      <th>feb_payment</th>\n",
       "      <th>mar_payment</th>\n",
       "    </tr>\n",
       "  </thead>\n",
       "  <tbody>\n",
       "    <tr>\n",
       "      <th>0</th>\n",
       "      <td>a</td>\n",
       "      <td>10</td>\n",
       "      <td>11</td>\n",
       "      <td>100</td>\n",
       "    </tr>\n",
       "    <tr>\n",
       "      <th>1</th>\n",
       "      <td>b</td>\n",
       "      <td>12</td>\n",
       "      <td>11</td>\n",
       "      <td>120</td>\n",
       "    </tr>\n",
       "    <tr>\n",
       "      <th>2</th>\n",
       "      <td>c</td>\n",
       "      <td>13</td>\n",
       "      <td>11</td>\n",
       "      <td>130</td>\n",
       "    </tr>\n",
       "    <tr>\n",
       "      <th>3</th>\n",
       "      <td>d</td>\n",
       "      <td>14</td>\n",
       "      <td>11</td>\n",
       "      <td>130</td>\n",
       "    </tr>\n",
       "    <tr>\n",
       "      <th>4</th>\n",
       "      <td>e</td>\n",
       "      <td>15</td>\n",
       "      <td>11</td>\n",
       "      <td>140</td>\n",
       "    </tr>\n",
       "  </tbody>\n",
       "</table>\n",
       "</div>"
      ],
      "text/plain": [
       "  name  jan_payment  feb_payment  mar_payment\n",
       "0    a           10           11          100\n",
       "1    b           12           11          120\n",
       "2    c           13           11          130\n",
       "3    d           14           11          130\n",
       "4    e           15           11          140"
      ]
     },
     "execution_count": 122,
     "metadata": {},
     "output_type": "execute_result"
    }
   ],
   "source": [
    "data = {\n",
    "    'name': ['a', 'b', 'c', 'd', 'e'],\n",
    "    'jan_payment':  [10, 12, 13, 14, 15],\n",
    "    'feb_payment':  [11, 11, 11, 11, 11],\n",
    "    'mar_payment':  [100, 120, 130, 130, 140]\n",
    "}\n",
    "\n",
    "df = pd.DataFrame(data)\n",
    "df"
   ]
  },
  {
   "cell_type": "code",
   "execution_count": 123,
   "id": "67862903",
   "metadata": {},
   "outputs": [
    {
     "data": {
      "text/html": [
       "<div>\n",
       "<style scoped>\n",
       "    .dataframe tbody tr th:only-of-type {\n",
       "        vertical-align: middle;\n",
       "    }\n",
       "\n",
       "    .dataframe tbody tr th {\n",
       "        vertical-align: top;\n",
       "    }\n",
       "\n",
       "    .dataframe thead th {\n",
       "        text-align: right;\n",
       "    }\n",
       "</style>\n",
       "<table border=\"1\" class=\"dataframe\">\n",
       "  <thead>\n",
       "    <tr style=\"text-align: right;\">\n",
       "      <th></th>\n",
       "      <th>jan_payment</th>\n",
       "      <th>feb_payment</th>\n",
       "      <th>mar_payment</th>\n",
       "    </tr>\n",
       "    <tr>\n",
       "      <th>name</th>\n",
       "      <th></th>\n",
       "      <th></th>\n",
       "      <th></th>\n",
       "    </tr>\n",
       "  </thead>\n",
       "  <tbody>\n",
       "    <tr>\n",
       "      <th>a</th>\n",
       "      <td>10</td>\n",
       "      <td>11</td>\n",
       "      <td>100</td>\n",
       "    </tr>\n",
       "    <tr>\n",
       "      <th>b</th>\n",
       "      <td>12</td>\n",
       "      <td>11</td>\n",
       "      <td>120</td>\n",
       "    </tr>\n",
       "    <tr>\n",
       "      <th>c</th>\n",
       "      <td>13</td>\n",
       "      <td>11</td>\n",
       "      <td>130</td>\n",
       "    </tr>\n",
       "    <tr>\n",
       "      <th>d</th>\n",
       "      <td>14</td>\n",
       "      <td>11</td>\n",
       "      <td>130</td>\n",
       "    </tr>\n",
       "    <tr>\n",
       "      <th>e</th>\n",
       "      <td>15</td>\n",
       "      <td>11</td>\n",
       "      <td>140</td>\n",
       "    </tr>\n",
       "  </tbody>\n",
       "</table>\n",
       "</div>"
      ],
      "text/plain": [
       "      jan_payment  feb_payment  mar_payment\n",
       "name                                       \n",
       "a              10           11          100\n",
       "b              12           11          120\n",
       "c              13           11          130\n",
       "d              14           11          130\n",
       "e              15           11          140"
      ]
     },
     "execution_count": 123,
     "metadata": {},
     "output_type": "execute_result"
    }
   ],
   "source": [
    "df.set_index('name', inplace = True)\n",
    "df"
   ]
  },
  {
   "cell_type": "code",
   "execution_count": 130,
   "id": "44cdf5eb",
   "metadata": {},
   "outputs": [
    {
     "data": {
      "text/plain": [
       "[40.33, 47.67, 51.33, 51.67, 55.33]"
      ]
     },
     "execution_count": 130,
     "metadata": {},
     "output_type": "execute_result"
    }
   ],
   "source": [
    "lst = []\n",
    "for i in df.index:\n",
    "    ans = df.loc[i].mean().round(2)\n",
    "    lst.append(ans)\n",
    "lst"
   ]
  },
  {
   "cell_type": "code",
   "execution_count": 135,
   "id": "0a8743f9",
   "metadata": {},
   "outputs": [],
   "source": [
    "df['avg_payment'] = lst"
   ]
  },
  {
   "cell_type": "code",
   "execution_count": 136,
   "id": "5da69a57",
   "metadata": {},
   "outputs": [
    {
     "data": {
      "text/html": [
       "<div>\n",
       "<style scoped>\n",
       "    .dataframe tbody tr th:only-of-type {\n",
       "        vertical-align: middle;\n",
       "    }\n",
       "\n",
       "    .dataframe tbody tr th {\n",
       "        vertical-align: top;\n",
       "    }\n",
       "\n",
       "    .dataframe thead th {\n",
       "        text-align: right;\n",
       "    }\n",
       "</style>\n",
       "<table border=\"1\" class=\"dataframe\">\n",
       "  <thead>\n",
       "    <tr style=\"text-align: right;\">\n",
       "      <th></th>\n",
       "      <th>jan_payment</th>\n",
       "      <th>feb_payment</th>\n",
       "      <th>mar_payment</th>\n",
       "      <th>avg_payment</th>\n",
       "    </tr>\n",
       "    <tr>\n",
       "      <th>name</th>\n",
       "      <th></th>\n",
       "      <th></th>\n",
       "      <th></th>\n",
       "      <th></th>\n",
       "    </tr>\n",
       "  </thead>\n",
       "  <tbody>\n",
       "    <tr>\n",
       "      <th>a</th>\n",
       "      <td>10</td>\n",
       "      <td>11</td>\n",
       "      <td>100</td>\n",
       "      <td>40.33</td>\n",
       "    </tr>\n",
       "    <tr>\n",
       "      <th>b</th>\n",
       "      <td>12</td>\n",
       "      <td>11</td>\n",
       "      <td>120</td>\n",
       "      <td>47.67</td>\n",
       "    </tr>\n",
       "    <tr>\n",
       "      <th>c</th>\n",
       "      <td>13</td>\n",
       "      <td>11</td>\n",
       "      <td>130</td>\n",
       "      <td>51.33</td>\n",
       "    </tr>\n",
       "    <tr>\n",
       "      <th>d</th>\n",
       "      <td>14</td>\n",
       "      <td>11</td>\n",
       "      <td>130</td>\n",
       "      <td>51.67</td>\n",
       "    </tr>\n",
       "    <tr>\n",
       "      <th>e</th>\n",
       "      <td>15</td>\n",
       "      <td>11</td>\n",
       "      <td>140</td>\n",
       "      <td>55.33</td>\n",
       "    </tr>\n",
       "  </tbody>\n",
       "</table>\n",
       "</div>"
      ],
      "text/plain": [
       "      jan_payment  feb_payment  mar_payment  avg_payment\n",
       "name                                                    \n",
       "a              10           11          100        40.33\n",
       "b              12           11          120        47.67\n",
       "c              13           11          130        51.33\n",
       "d              14           11          130        51.67\n",
       "e              15           11          140        55.33"
      ]
     },
     "execution_count": 136,
     "metadata": {},
     "output_type": "execute_result"
    }
   ],
   "source": [
    "df"
   ]
  },
  {
   "cell_type": "code",
   "execution_count": 137,
   "id": "3aeb647d",
   "metadata": {},
   "outputs": [],
   "source": [
    "df.drop(['jan_payment','feb_payment'], axis=1, inplace = True)"
   ]
  },
  {
   "cell_type": "code",
   "execution_count": 138,
   "id": "4fcecd95",
   "metadata": {},
   "outputs": [
    {
     "data": {
      "text/html": [
       "<div>\n",
       "<style scoped>\n",
       "    .dataframe tbody tr th:only-of-type {\n",
       "        vertical-align: middle;\n",
       "    }\n",
       "\n",
       "    .dataframe tbody tr th {\n",
       "        vertical-align: top;\n",
       "    }\n",
       "\n",
       "    .dataframe thead th {\n",
       "        text-align: right;\n",
       "    }\n",
       "</style>\n",
       "<table border=\"1\" class=\"dataframe\">\n",
       "  <thead>\n",
       "    <tr style=\"text-align: right;\">\n",
       "      <th></th>\n",
       "      <th>mar_payment</th>\n",
       "      <th>avg_payment</th>\n",
       "    </tr>\n",
       "    <tr>\n",
       "      <th>name</th>\n",
       "      <th></th>\n",
       "      <th></th>\n",
       "    </tr>\n",
       "  </thead>\n",
       "  <tbody>\n",
       "    <tr>\n",
       "      <th>a</th>\n",
       "      <td>100</td>\n",
       "      <td>40.33</td>\n",
       "    </tr>\n",
       "    <tr>\n",
       "      <th>b</th>\n",
       "      <td>120</td>\n",
       "      <td>47.67</td>\n",
       "    </tr>\n",
       "    <tr>\n",
       "      <th>c</th>\n",
       "      <td>130</td>\n",
       "      <td>51.33</td>\n",
       "    </tr>\n",
       "    <tr>\n",
       "      <th>d</th>\n",
       "      <td>130</td>\n",
       "      <td>51.67</td>\n",
       "    </tr>\n",
       "    <tr>\n",
       "      <th>e</th>\n",
       "      <td>140</td>\n",
       "      <td>55.33</td>\n",
       "    </tr>\n",
       "  </tbody>\n",
       "</table>\n",
       "</div>"
      ],
      "text/plain": [
       "      mar_payment  avg_payment\n",
       "name                          \n",
       "a             100        40.33\n",
       "b             120        47.67\n",
       "c             130        51.33\n",
       "d             130        51.67\n",
       "e             140        55.33"
      ]
     },
     "execution_count": 138,
     "metadata": {},
     "output_type": "execute_result"
    }
   ],
   "source": [
    "df"
   ]
  },
  {
   "cell_type": "code",
   "execution_count": 140,
   "id": "f46f96e0",
   "metadata": {},
   "outputs": [
    {
     "data": {
      "text/plain": [
       "'Question\\nGiven a dataframe consisting of income details,\\n\\nReturn the name of person having the highest income.\\n'"
      ]
     },
     "execution_count": 140,
     "metadata": {},
     "output_type": "execute_result"
    }
   ],
   "source": [
    "'''Question\n",
    "Given a dataframe consisting of income details,\n",
    "\n",
    "Return the name of person having the highest income.\n",
    "'''"
   ]
  },
  {
   "cell_type": "code",
   "execution_count": 139,
   "id": "28a7f2e8",
   "metadata": {},
   "outputs": [],
   "source": [
    "data = {\n",
    "    'name': ['Elon', 'Jeff', 'Bill', 'Falguni'],\n",
    "    'gender': ['M', 'F', 'M', 'F'],\n",
    "    'income': [53000, 28000, 25000, 44000]\n",
    "}\n",
    "\n",
    "df = pd.DataFrame(data)"
   ]
  },
  {
   "cell_type": "code",
   "execution_count": 141,
   "id": "fc4ccb2b",
   "metadata": {},
   "outputs": [
    {
     "data": {
      "text/html": [
       "<div>\n",
       "<style scoped>\n",
       "    .dataframe tbody tr th:only-of-type {\n",
       "        vertical-align: middle;\n",
       "    }\n",
       "\n",
       "    .dataframe tbody tr th {\n",
       "        vertical-align: top;\n",
       "    }\n",
       "\n",
       "    .dataframe thead th {\n",
       "        text-align: right;\n",
       "    }\n",
       "</style>\n",
       "<table border=\"1\" class=\"dataframe\">\n",
       "  <thead>\n",
       "    <tr style=\"text-align: right;\">\n",
       "      <th></th>\n",
       "      <th>name</th>\n",
       "      <th>gender</th>\n",
       "      <th>income</th>\n",
       "    </tr>\n",
       "  </thead>\n",
       "  <tbody>\n",
       "    <tr>\n",
       "      <th>0</th>\n",
       "      <td>Elon</td>\n",
       "      <td>M</td>\n",
       "      <td>53000</td>\n",
       "    </tr>\n",
       "    <tr>\n",
       "      <th>1</th>\n",
       "      <td>Jeff</td>\n",
       "      <td>F</td>\n",
       "      <td>28000</td>\n",
       "    </tr>\n",
       "    <tr>\n",
       "      <th>2</th>\n",
       "      <td>Bill</td>\n",
       "      <td>M</td>\n",
       "      <td>25000</td>\n",
       "    </tr>\n",
       "    <tr>\n",
       "      <th>3</th>\n",
       "      <td>Falguni</td>\n",
       "      <td>F</td>\n",
       "      <td>44000</td>\n",
       "    </tr>\n",
       "  </tbody>\n",
       "</table>\n",
       "</div>"
      ],
      "text/plain": [
       "      name gender  income\n",
       "0     Elon      M   53000\n",
       "1     Jeff      F   28000\n",
       "2     Bill      M   25000\n",
       "3  Falguni      F   44000"
      ]
     },
     "execution_count": 141,
     "metadata": {},
     "output_type": "execute_result"
    }
   ],
   "source": [
    "df"
   ]
  },
  {
   "cell_type": "code",
   "execution_count": 148,
   "id": "092523bb",
   "metadata": {},
   "outputs": [
    {
     "data": {
      "text/plain": [
       "'Elon'"
      ]
     },
     "execution_count": 148,
     "metadata": {},
     "output_type": "execute_result"
    }
   ],
   "source": [
    "res = df.sort_values(by = 'income', ascending = False)   # method 1\n",
    "ans = res.loc[0]['name']\n",
    "ans"
   ]
  },
  {
   "cell_type": "code",
   "execution_count": 153,
   "id": "c80ffe06",
   "metadata": {},
   "outputs": [
    {
     "data": {
      "text/plain": [
       "'Elon'"
      ]
     },
     "execution_count": 153,
     "metadata": {},
     "output_type": "execute_result"
    }
   ],
   "source": [
    "df['name'].loc[df['income'] == df['income'].max()].to_string(index = False)  # method 2"
   ]
  },
  {
   "cell_type": "code",
   "execution_count": 154,
   "id": "9449f61b",
   "metadata": {},
   "outputs": [
    {
     "data": {
      "text/plain": [
       "\"Question:\\nYou're given a record of students with their registration dates and registration IDs.\\n\\nYou're also given the marks scored by each student in Physics, Chemistry, and Mathematics.\\n\\nYou need to find out the average marks by the students who registered on or after 01/05/2014 i.e. May 1st, 2014.\\n\\nReturn a list with the corresponding register IDs of the students sorted by their average marks in all three subjects \\nin increasing order.\\n\\n\""
      ]
     },
     "execution_count": 154,
     "metadata": {},
     "output_type": "execute_result"
    }
   ],
   "source": [
    "'''Question:\n",
    "You're given a record of students with their registration dates and registration IDs.\n",
    "\n",
    "You're also given the marks scored by each student in Physics, Chemistry, and Mathematics.\n",
    "\n",
    "You need to find out the average marks by the students who registered on or after 01/05/2014 i.e. May 1st, 2014.\n",
    "\n",
    "Return a list with the corresponding register IDs of the students sorted by their average marks in all three subjects \n",
    "in increasing order.\n",
    "\n",
    "'''"
   ]
  },
  {
   "cell_type": "code",
   "execution_count": 155,
   "id": "5d9ffe3a",
   "metadata": {},
   "outputs": [],
   "source": [
    "df = pd.DataFrame({'dates':[\"2015-12-06\", \"2011-12-27\", \"2015-09-07\", \"2012-12-21\", \"2020-02-13\"], \n",
    "                   'RID':[498, 721, 375, 464, 813], \n",
    "                   'Phy':[22, 45, 1, 65, 22], \n",
    "                   'Chem':[52, 56, 32, 50, 24], \n",
    "                   'Math':[63, 37, 68, 62, 43]}) "
   ]
  },
  {
   "cell_type": "code",
   "execution_count": 156,
   "id": "bcf4e1b3",
   "metadata": {},
   "outputs": [
    {
     "data": {
      "text/html": [
       "<div>\n",
       "<style scoped>\n",
       "    .dataframe tbody tr th:only-of-type {\n",
       "        vertical-align: middle;\n",
       "    }\n",
       "\n",
       "    .dataframe tbody tr th {\n",
       "        vertical-align: top;\n",
       "    }\n",
       "\n",
       "    .dataframe thead th {\n",
       "        text-align: right;\n",
       "    }\n",
       "</style>\n",
       "<table border=\"1\" class=\"dataframe\">\n",
       "  <thead>\n",
       "    <tr style=\"text-align: right;\">\n",
       "      <th></th>\n",
       "      <th>dates</th>\n",
       "      <th>RID</th>\n",
       "      <th>Phy</th>\n",
       "      <th>Chem</th>\n",
       "      <th>Math</th>\n",
       "    </tr>\n",
       "  </thead>\n",
       "  <tbody>\n",
       "    <tr>\n",
       "      <th>0</th>\n",
       "      <td>2015-12-06</td>\n",
       "      <td>498</td>\n",
       "      <td>22</td>\n",
       "      <td>52</td>\n",
       "      <td>63</td>\n",
       "    </tr>\n",
       "    <tr>\n",
       "      <th>1</th>\n",
       "      <td>2011-12-27</td>\n",
       "      <td>721</td>\n",
       "      <td>45</td>\n",
       "      <td>56</td>\n",
       "      <td>37</td>\n",
       "    </tr>\n",
       "    <tr>\n",
       "      <th>2</th>\n",
       "      <td>2015-09-07</td>\n",
       "      <td>375</td>\n",
       "      <td>1</td>\n",
       "      <td>32</td>\n",
       "      <td>68</td>\n",
       "    </tr>\n",
       "    <tr>\n",
       "      <th>3</th>\n",
       "      <td>2012-12-21</td>\n",
       "      <td>464</td>\n",
       "      <td>65</td>\n",
       "      <td>50</td>\n",
       "      <td>62</td>\n",
       "    </tr>\n",
       "    <tr>\n",
       "      <th>4</th>\n",
       "      <td>2020-02-13</td>\n",
       "      <td>813</td>\n",
       "      <td>22</td>\n",
       "      <td>24</td>\n",
       "      <td>43</td>\n",
       "    </tr>\n",
       "  </tbody>\n",
       "</table>\n",
       "</div>"
      ],
      "text/plain": [
       "        dates  RID  Phy  Chem  Math\n",
       "0  2015-12-06  498   22    52    63\n",
       "1  2011-12-27  721   45    56    37\n",
       "2  2015-09-07  375    1    32    68\n",
       "3  2012-12-21  464   65    50    62\n",
       "4  2020-02-13  813   22    24    43"
      ]
     },
     "execution_count": 156,
     "metadata": {},
     "output_type": "execute_result"
    }
   ],
   "source": [
    "df"
   ]
  },
  {
   "cell_type": "code",
   "execution_count": 162,
   "id": "14a5b387",
   "metadata": {},
   "outputs": [],
   "source": [
    "df['dates'] = pd.to_datetime(df['dates'])"
   ]
  },
  {
   "cell_type": "code",
   "execution_count": 163,
   "id": "cbcc6895",
   "metadata": {},
   "outputs": [
    {
     "data": {
      "text/plain": [
       "dates    datetime64[ns]\n",
       "RID               int64\n",
       "Phy               int64\n",
       "Chem              int64\n",
       "Math              int64\n",
       "dtype: object"
      ]
     },
     "execution_count": 163,
     "metadata": {},
     "output_type": "execute_result"
    }
   ],
   "source": [
    "df.dtypes"
   ]
  },
  {
   "cell_type": "code",
   "execution_count": 164,
   "id": "66c906d9",
   "metadata": {},
   "outputs": [],
   "source": [
    "filtered_dates = df[df['dates'] >'01/05/2014' ]"
   ]
  },
  {
   "cell_type": "code",
   "execution_count": 173,
   "id": "4ae9fcdf",
   "metadata": {},
   "outputs": [
    {
     "data": {
      "text/plain": [
       "0    45.67\n",
       "2    33.67\n",
       "4    29.67\n",
       "dtype: float64"
      ]
     },
     "execution_count": 173,
     "metadata": {},
     "output_type": "execute_result"
    }
   ],
   "source": [
    "avg = filtered_dates[['Phy', 'Chem', 'Math']].mean(axis = 1).round(2)\n",
    "avg"
   ]
  },
  {
   "cell_type": "code",
   "execution_count": 174,
   "id": "0a4dc6f6",
   "metadata": {},
   "outputs": [
    {
     "name": "stderr",
     "output_type": "stream",
     "text": [
      "C:\\Users\\ROHAN\\AppData\\Local\\Temp\\ipykernel_11148\\1110925525.py:1: SettingWithCopyWarning: \n",
      "A value is trying to be set on a copy of a slice from a DataFrame.\n",
      "Try using .loc[row_indexer,col_indexer] = value instead\n",
      "\n",
      "See the caveats in the documentation: https://pandas.pydata.org/pandas-docs/stable/user_guide/indexing.html#returning-a-view-versus-a-copy\n",
      "  filtered_dates['avg'] = avg\n"
     ]
    }
   ],
   "source": [
    "filtered_dates['avg'] = avg"
   ]
  },
  {
   "cell_type": "code",
   "execution_count": 179,
   "id": "9ce5a1b4",
   "metadata": {},
   "outputs": [
    {
     "data": {
      "text/html": [
       "<div>\n",
       "<style scoped>\n",
       "    .dataframe tbody tr th:only-of-type {\n",
       "        vertical-align: middle;\n",
       "    }\n",
       "\n",
       "    .dataframe tbody tr th {\n",
       "        vertical-align: top;\n",
       "    }\n",
       "\n",
       "    .dataframe thead th {\n",
       "        text-align: right;\n",
       "    }\n",
       "</style>\n",
       "<table border=\"1\" class=\"dataframe\">\n",
       "  <thead>\n",
       "    <tr style=\"text-align: right;\">\n",
       "      <th></th>\n",
       "      <th>RID</th>\n",
       "    </tr>\n",
       "  </thead>\n",
       "  <tbody>\n",
       "    <tr>\n",
       "      <th>4</th>\n",
       "      <td>813</td>\n",
       "    </tr>\n",
       "    <tr>\n",
       "      <th>2</th>\n",
       "      <td>375</td>\n",
       "    </tr>\n",
       "    <tr>\n",
       "      <th>0</th>\n",
       "      <td>498</td>\n",
       "    </tr>\n",
       "  </tbody>\n",
       "</table>\n",
       "</div>"
      ],
      "text/plain": [
       "   RID\n",
       "4  813\n",
       "2  375\n",
       "0  498"
      ]
     },
     "execution_count": 179,
     "metadata": {},
     "output_type": "execute_result"
    }
   ],
   "source": [
    "res = filtered_dates.sort_values(by='avg', ascending = True)\n",
    "res[['RID']]"
   ]
  },
  {
   "cell_type": "code",
   "execution_count": 181,
   "id": "88eaf58b",
   "metadata": {},
   "outputs": [
    {
     "data": {
      "text/plain": [
       "'Question:\\nGiven two dataframes df1 (containing details of customer) and df2 (having details of orders),\\n\\nMerge the dataframes such that resultant dataframe contains records for customer ids which are common in both dataframes.\\n'"
      ]
     },
     "execution_count": 181,
     "metadata": {},
     "output_type": "execute_result"
    }
   ],
   "source": [
    "'''Question:\n",
    "Given two dataframes df1 (containing details of customer) and df2 (having details of orders),\n",
    "\n",
    "Merge the dataframes such that resultant dataframe contains records for customer ids which are common in both dataframes.\n",
    "'''"
   ]
  },
  {
   "cell_type": "code",
   "execution_count": 182,
   "id": "bb4ecd2f",
   "metadata": {},
   "outputs": [],
   "source": [
    "df1 = pd.DataFrame({\n",
    "    'cust_id': [101, 102, 103, 104],\n",
    "    'name': ['rick', 'morty', 'pickle', 'jerry']})\n",
    "\n",
    "df2 = pd.DataFrame({\n",
    "    'order_id': ['OR1', 'OR3', 'OR23', 'OR42'],\n",
    "    'cust_id': [102, 105, 101, 102],\n",
    "    'amount': [1200, 650, 120, 989]})"
   ]
  },
  {
   "cell_type": "code",
   "execution_count": 183,
   "id": "d203446d",
   "metadata": {},
   "outputs": [
    {
     "data": {
      "text/html": [
       "<div>\n",
       "<style scoped>\n",
       "    .dataframe tbody tr th:only-of-type {\n",
       "        vertical-align: middle;\n",
       "    }\n",
       "\n",
       "    .dataframe tbody tr th {\n",
       "        vertical-align: top;\n",
       "    }\n",
       "\n",
       "    .dataframe thead th {\n",
       "        text-align: right;\n",
       "    }\n",
       "</style>\n",
       "<table border=\"1\" class=\"dataframe\">\n",
       "  <thead>\n",
       "    <tr style=\"text-align: right;\">\n",
       "      <th></th>\n",
       "      <th>cust_id</th>\n",
       "      <th>name</th>\n",
       "    </tr>\n",
       "  </thead>\n",
       "  <tbody>\n",
       "    <tr>\n",
       "      <th>0</th>\n",
       "      <td>101</td>\n",
       "      <td>rick</td>\n",
       "    </tr>\n",
       "    <tr>\n",
       "      <th>1</th>\n",
       "      <td>102</td>\n",
       "      <td>morty</td>\n",
       "    </tr>\n",
       "    <tr>\n",
       "      <th>2</th>\n",
       "      <td>103</td>\n",
       "      <td>pickle</td>\n",
       "    </tr>\n",
       "    <tr>\n",
       "      <th>3</th>\n",
       "      <td>104</td>\n",
       "      <td>jerry</td>\n",
       "    </tr>\n",
       "  </tbody>\n",
       "</table>\n",
       "</div>"
      ],
      "text/plain": [
       "   cust_id    name\n",
       "0      101    rick\n",
       "1      102   morty\n",
       "2      103  pickle\n",
       "3      104   jerry"
      ]
     },
     "execution_count": 183,
     "metadata": {},
     "output_type": "execute_result"
    }
   ],
   "source": [
    "df1"
   ]
  },
  {
   "cell_type": "code",
   "execution_count": 184,
   "id": "3f912503",
   "metadata": {},
   "outputs": [
    {
     "data": {
      "text/html": [
       "<div>\n",
       "<style scoped>\n",
       "    .dataframe tbody tr th:only-of-type {\n",
       "        vertical-align: middle;\n",
       "    }\n",
       "\n",
       "    .dataframe tbody tr th {\n",
       "        vertical-align: top;\n",
       "    }\n",
       "\n",
       "    .dataframe thead th {\n",
       "        text-align: right;\n",
       "    }\n",
       "</style>\n",
       "<table border=\"1\" class=\"dataframe\">\n",
       "  <thead>\n",
       "    <tr style=\"text-align: right;\">\n",
       "      <th></th>\n",
       "      <th>order_id</th>\n",
       "      <th>cust_id</th>\n",
       "      <th>amount</th>\n",
       "    </tr>\n",
       "  </thead>\n",
       "  <tbody>\n",
       "    <tr>\n",
       "      <th>0</th>\n",
       "      <td>OR1</td>\n",
       "      <td>102</td>\n",
       "      <td>1200</td>\n",
       "    </tr>\n",
       "    <tr>\n",
       "      <th>1</th>\n",
       "      <td>OR3</td>\n",
       "      <td>105</td>\n",
       "      <td>650</td>\n",
       "    </tr>\n",
       "    <tr>\n",
       "      <th>2</th>\n",
       "      <td>OR23</td>\n",
       "      <td>101</td>\n",
       "      <td>120</td>\n",
       "    </tr>\n",
       "    <tr>\n",
       "      <th>3</th>\n",
       "      <td>OR42</td>\n",
       "      <td>102</td>\n",
       "      <td>989</td>\n",
       "    </tr>\n",
       "  </tbody>\n",
       "</table>\n",
       "</div>"
      ],
      "text/plain": [
       "  order_id  cust_id  amount\n",
       "0      OR1      102    1200\n",
       "1      OR3      105     650\n",
       "2     OR23      101     120\n",
       "3     OR42      102     989"
      ]
     },
     "execution_count": 184,
     "metadata": {},
     "output_type": "execute_result"
    }
   ],
   "source": [
    "df2"
   ]
  },
  {
   "cell_type": "code",
   "execution_count": 185,
   "id": "c4835fed",
   "metadata": {},
   "outputs": [],
   "source": [
    "df3 = df1.merge(df2, on = 'cust_id', how = 'inner')"
   ]
  },
  {
   "cell_type": "code",
   "execution_count": 186,
   "id": "27480de3",
   "metadata": {},
   "outputs": [
    {
     "data": {
      "text/html": [
       "<div>\n",
       "<style scoped>\n",
       "    .dataframe tbody tr th:only-of-type {\n",
       "        vertical-align: middle;\n",
       "    }\n",
       "\n",
       "    .dataframe tbody tr th {\n",
       "        vertical-align: top;\n",
       "    }\n",
       "\n",
       "    .dataframe thead th {\n",
       "        text-align: right;\n",
       "    }\n",
       "</style>\n",
       "<table border=\"1\" class=\"dataframe\">\n",
       "  <thead>\n",
       "    <tr style=\"text-align: right;\">\n",
       "      <th></th>\n",
       "      <th>cust_id</th>\n",
       "      <th>name</th>\n",
       "      <th>order_id</th>\n",
       "      <th>amount</th>\n",
       "    </tr>\n",
       "  </thead>\n",
       "  <tbody>\n",
       "    <tr>\n",
       "      <th>0</th>\n",
       "      <td>101</td>\n",
       "      <td>rick</td>\n",
       "      <td>OR23</td>\n",
       "      <td>120</td>\n",
       "    </tr>\n",
       "    <tr>\n",
       "      <th>1</th>\n",
       "      <td>102</td>\n",
       "      <td>morty</td>\n",
       "      <td>OR1</td>\n",
       "      <td>1200</td>\n",
       "    </tr>\n",
       "    <tr>\n",
       "      <th>2</th>\n",
       "      <td>102</td>\n",
       "      <td>morty</td>\n",
       "      <td>OR42</td>\n",
       "      <td>989</td>\n",
       "    </tr>\n",
       "  </tbody>\n",
       "</table>\n",
       "</div>"
      ],
      "text/plain": [
       "   cust_id   name order_id  amount\n",
       "0      101   rick     OR23     120\n",
       "1      102  morty      OR1    1200\n",
       "2      102  morty     OR42     989"
      ]
     },
     "execution_count": 186,
     "metadata": {},
     "output_type": "execute_result"
    }
   ],
   "source": [
    "df3"
   ]
  },
  {
   "cell_type": "code",
   "execution_count": 187,
   "id": "a5833ca2",
   "metadata": {},
   "outputs": [
    {
     "data": {
      "text/plain": [
       "\"Question:\\nGiven two dataframes customer (containing details of customer) and orders (having details of orders).\\n\\nAlso, name is given which is a customer's name.\\n\\nPerform the following operation:\\n\\nMerge the dataframe such that the resultant dataframe should contain records of all customer ids present in customer dataframe.\\n\\nCalculate the total order amount for given customer name\\n\\nReturn the merged dataframe and the sum amount.\\n\\n\""
      ]
     },
     "execution_count": 187,
     "metadata": {},
     "output_type": "execute_result"
    }
   ],
   "source": [
    "'''Question:\n",
    "Given two dataframes customer (containing details of customer) and orders (having details of orders).\n",
    "\n",
    "Also, name is given which is a customer's name.\n",
    "\n",
    "Perform the following operation:\n",
    "\n",
    "Merge the dataframe such that the resultant dataframe should contain records of all customer ids present in customer dataframe.\n",
    "\n",
    "Calculate the total order amount for given customer name\n",
    "\n",
    "Return the merged dataframe and the sum amount.\n",
    "\n",
    "'''"
   ]
  },
  {
   "cell_type": "code",
   "execution_count": 188,
   "id": "b22a1fe6",
   "metadata": {},
   "outputs": [],
   "source": [
    "data = {\n",
    "    'cust_id': [101, 102, 103, 104],\n",
    "    'name': ['rick', 'morty', 'pickle', 'jerry']\n",
    "}\n",
    "\n",
    "customer = pd.DataFrame(data)"
   ]
  },
  {
   "cell_type": "code",
   "execution_count": 189,
   "id": "6138a7a4",
   "metadata": {},
   "outputs": [],
   "source": [
    "data = {\n",
    "    'order_id': ['OR1', 'OR3', 'OR23', 'OR42'],\n",
    "    'cust_id': [102, 105, 101, 102],\n",
    "    'amount': [1200, 650, 120, 989]\n",
    "}\n",
    "\n",
    "orders = pd.DataFrame(data)"
   ]
  },
  {
   "cell_type": "code",
   "execution_count": 190,
   "id": "33921044",
   "metadata": {},
   "outputs": [
    {
     "data": {
      "text/html": [
       "<div>\n",
       "<style scoped>\n",
       "    .dataframe tbody tr th:only-of-type {\n",
       "        vertical-align: middle;\n",
       "    }\n",
       "\n",
       "    .dataframe tbody tr th {\n",
       "        vertical-align: top;\n",
       "    }\n",
       "\n",
       "    .dataframe thead th {\n",
       "        text-align: right;\n",
       "    }\n",
       "</style>\n",
       "<table border=\"1\" class=\"dataframe\">\n",
       "  <thead>\n",
       "    <tr style=\"text-align: right;\">\n",
       "      <th></th>\n",
       "      <th>cust_id</th>\n",
       "      <th>name</th>\n",
       "    </tr>\n",
       "  </thead>\n",
       "  <tbody>\n",
       "    <tr>\n",
       "      <th>0</th>\n",
       "      <td>101</td>\n",
       "      <td>rick</td>\n",
       "    </tr>\n",
       "    <tr>\n",
       "      <th>1</th>\n",
       "      <td>102</td>\n",
       "      <td>morty</td>\n",
       "    </tr>\n",
       "    <tr>\n",
       "      <th>2</th>\n",
       "      <td>103</td>\n",
       "      <td>pickle</td>\n",
       "    </tr>\n",
       "    <tr>\n",
       "      <th>3</th>\n",
       "      <td>104</td>\n",
       "      <td>jerry</td>\n",
       "    </tr>\n",
       "  </tbody>\n",
       "</table>\n",
       "</div>"
      ],
      "text/plain": [
       "   cust_id    name\n",
       "0      101    rick\n",
       "1      102   morty\n",
       "2      103  pickle\n",
       "3      104   jerry"
      ]
     },
     "execution_count": 190,
     "metadata": {},
     "output_type": "execute_result"
    }
   ],
   "source": [
    "customer"
   ]
  },
  {
   "cell_type": "code",
   "execution_count": 191,
   "id": "f94ac5ce",
   "metadata": {},
   "outputs": [
    {
     "data": {
      "text/html": [
       "<div>\n",
       "<style scoped>\n",
       "    .dataframe tbody tr th:only-of-type {\n",
       "        vertical-align: middle;\n",
       "    }\n",
       "\n",
       "    .dataframe tbody tr th {\n",
       "        vertical-align: top;\n",
       "    }\n",
       "\n",
       "    .dataframe thead th {\n",
       "        text-align: right;\n",
       "    }\n",
       "</style>\n",
       "<table border=\"1\" class=\"dataframe\">\n",
       "  <thead>\n",
       "    <tr style=\"text-align: right;\">\n",
       "      <th></th>\n",
       "      <th>order_id</th>\n",
       "      <th>cust_id</th>\n",
       "      <th>amount</th>\n",
       "    </tr>\n",
       "  </thead>\n",
       "  <tbody>\n",
       "    <tr>\n",
       "      <th>0</th>\n",
       "      <td>OR1</td>\n",
       "      <td>102</td>\n",
       "      <td>1200</td>\n",
       "    </tr>\n",
       "    <tr>\n",
       "      <th>1</th>\n",
       "      <td>OR3</td>\n",
       "      <td>105</td>\n",
       "      <td>650</td>\n",
       "    </tr>\n",
       "    <tr>\n",
       "      <th>2</th>\n",
       "      <td>OR23</td>\n",
       "      <td>101</td>\n",
       "      <td>120</td>\n",
       "    </tr>\n",
       "    <tr>\n",
       "      <th>3</th>\n",
       "      <td>OR42</td>\n",
       "      <td>102</td>\n",
       "      <td>989</td>\n",
       "    </tr>\n",
       "  </tbody>\n",
       "</table>\n",
       "</div>"
      ],
      "text/plain": [
       "  order_id  cust_id  amount\n",
       "0      OR1      102    1200\n",
       "1      OR3      105     650\n",
       "2     OR23      101     120\n",
       "3     OR42      102     989"
      ]
     },
     "execution_count": 191,
     "metadata": {},
     "output_type": "execute_result"
    }
   ],
   "source": [
    "orders"
   ]
  },
  {
   "cell_type": "code",
   "execution_count": 194,
   "id": "efb3e984",
   "metadata": {},
   "outputs": [
    {
     "data": {
      "text/html": [
       "<div>\n",
       "<style scoped>\n",
       "    .dataframe tbody tr th:only-of-type {\n",
       "        vertical-align: middle;\n",
       "    }\n",
       "\n",
       "    .dataframe tbody tr th {\n",
       "        vertical-align: top;\n",
       "    }\n",
       "\n",
       "    .dataframe thead th {\n",
       "        text-align: right;\n",
       "    }\n",
       "</style>\n",
       "<table border=\"1\" class=\"dataframe\">\n",
       "  <thead>\n",
       "    <tr style=\"text-align: right;\">\n",
       "      <th></th>\n",
       "      <th>cust_id</th>\n",
       "      <th>name</th>\n",
       "      <th>order_id</th>\n",
       "      <th>amount</th>\n",
       "    </tr>\n",
       "  </thead>\n",
       "  <tbody>\n",
       "    <tr>\n",
       "      <th>0</th>\n",
       "      <td>101</td>\n",
       "      <td>rick</td>\n",
       "      <td>OR23</td>\n",
       "      <td>120.0</td>\n",
       "    </tr>\n",
       "    <tr>\n",
       "      <th>1</th>\n",
       "      <td>102</td>\n",
       "      <td>morty</td>\n",
       "      <td>OR1</td>\n",
       "      <td>1200.0</td>\n",
       "    </tr>\n",
       "    <tr>\n",
       "      <th>2</th>\n",
       "      <td>102</td>\n",
       "      <td>morty</td>\n",
       "      <td>OR42</td>\n",
       "      <td>989.0</td>\n",
       "    </tr>\n",
       "    <tr>\n",
       "      <th>3</th>\n",
       "      <td>103</td>\n",
       "      <td>pickle</td>\n",
       "      <td>NaN</td>\n",
       "      <td>NaN</td>\n",
       "    </tr>\n",
       "    <tr>\n",
       "      <th>4</th>\n",
       "      <td>104</td>\n",
       "      <td>jerry</td>\n",
       "      <td>NaN</td>\n",
       "      <td>NaN</td>\n",
       "    </tr>\n",
       "  </tbody>\n",
       "</table>\n",
       "</div>"
      ],
      "text/plain": [
       "   cust_id    name order_id  amount\n",
       "0      101    rick     OR23   120.0\n",
       "1      102   morty      OR1  1200.0\n",
       "2      102   morty     OR42   989.0\n",
       "3      103  pickle      NaN     NaN\n",
       "4      104   jerry      NaN     NaN"
      ]
     },
     "execution_count": 194,
     "metadata": {},
     "output_type": "execute_result"
    }
   ],
   "source": [
    "df3 = customer.merge(orders, on = 'cust_id', how = 'left')\n",
    "df3"
   ]
  },
  {
   "cell_type": "code",
   "execution_count": 209,
   "id": "f792bc94",
   "metadata": {},
   "outputs": [
    {
     "name": "stdout",
     "output_type": "stream",
     "text": [
      "[120.0, 2189.0, 2189.0, 0.0, 0.0]\n"
     ]
    }
   ],
   "source": [
    "lst = []\n",
    "for i in df3.name.values:\n",
    "    amt  = df3.loc[df3['name'] == i]['amount'].sum()\n",
    "    lst.append(amt)\n",
    "print(lst)"
   ]
  },
  {
   "cell_type": "code",
   "execution_count": 210,
   "id": "aac69b39",
   "metadata": {},
   "outputs": [],
   "source": [
    "df3['total'] = lst"
   ]
  },
  {
   "cell_type": "code",
   "execution_count": 211,
   "id": "7001b212",
   "metadata": {},
   "outputs": [
    {
     "data": {
      "text/html": [
       "<div>\n",
       "<style scoped>\n",
       "    .dataframe tbody tr th:only-of-type {\n",
       "        vertical-align: middle;\n",
       "    }\n",
       "\n",
       "    .dataframe tbody tr th {\n",
       "        vertical-align: top;\n",
       "    }\n",
       "\n",
       "    .dataframe thead th {\n",
       "        text-align: right;\n",
       "    }\n",
       "</style>\n",
       "<table border=\"1\" class=\"dataframe\">\n",
       "  <thead>\n",
       "    <tr style=\"text-align: right;\">\n",
       "      <th></th>\n",
       "      <th>cust_id</th>\n",
       "      <th>name</th>\n",
       "      <th>order_id</th>\n",
       "      <th>amount</th>\n",
       "      <th>total</th>\n",
       "    </tr>\n",
       "  </thead>\n",
       "  <tbody>\n",
       "    <tr>\n",
       "      <th>0</th>\n",
       "      <td>101</td>\n",
       "      <td>rick</td>\n",
       "      <td>OR23</td>\n",
       "      <td>120.0</td>\n",
       "      <td>120.0</td>\n",
       "    </tr>\n",
       "    <tr>\n",
       "      <th>1</th>\n",
       "      <td>102</td>\n",
       "      <td>morty</td>\n",
       "      <td>OR1</td>\n",
       "      <td>1200.0</td>\n",
       "      <td>2189.0</td>\n",
       "    </tr>\n",
       "    <tr>\n",
       "      <th>2</th>\n",
       "      <td>102</td>\n",
       "      <td>morty</td>\n",
       "      <td>OR42</td>\n",
       "      <td>989.0</td>\n",
       "      <td>2189.0</td>\n",
       "    </tr>\n",
       "    <tr>\n",
       "      <th>3</th>\n",
       "      <td>103</td>\n",
       "      <td>pickle</td>\n",
       "      <td>NaN</td>\n",
       "      <td>NaN</td>\n",
       "      <td>0.0</td>\n",
       "    </tr>\n",
       "    <tr>\n",
       "      <th>4</th>\n",
       "      <td>104</td>\n",
       "      <td>jerry</td>\n",
       "      <td>NaN</td>\n",
       "      <td>NaN</td>\n",
       "      <td>0.0</td>\n",
       "    </tr>\n",
       "  </tbody>\n",
       "</table>\n",
       "</div>"
      ],
      "text/plain": [
       "   cust_id    name order_id  amount   total\n",
       "0      101    rick     OR23   120.0   120.0\n",
       "1      102   morty      OR1  1200.0  2189.0\n",
       "2      102   morty     OR42   989.0  2189.0\n",
       "3      103  pickle      NaN     NaN     0.0\n",
       "4      104   jerry      NaN     NaN     0.0"
      ]
     },
     "execution_count": 211,
     "metadata": {},
     "output_type": "execute_result"
    }
   ],
   "source": [
    "df3"
   ]
  },
  {
   "cell_type": "code",
   "execution_count": 242,
   "id": "55a2baeb",
   "metadata": {},
   "outputs": [],
   "source": [
    "res = df3[df3['total'] == df3['total'].max()]"
   ]
  },
  {
   "cell_type": "code",
   "execution_count": 250,
   "id": "3dcd5c9f",
   "metadata": {},
   "outputs": [
    {
     "data": {
      "text/html": [
       "<div>\n",
       "<style scoped>\n",
       "    .dataframe tbody tr th:only-of-type {\n",
       "        vertical-align: middle;\n",
       "    }\n",
       "\n",
       "    .dataframe tbody tr th {\n",
       "        vertical-align: top;\n",
       "    }\n",
       "\n",
       "    .dataframe thead th {\n",
       "        text-align: right;\n",
       "    }\n",
       "</style>\n",
       "<table border=\"1\" class=\"dataframe\">\n",
       "  <thead>\n",
       "    <tr style=\"text-align: right;\">\n",
       "      <th></th>\n",
       "      <th>cust_id</th>\n",
       "      <th>name</th>\n",
       "      <th>order_id</th>\n",
       "      <th>amount</th>\n",
       "      <th>total</th>\n",
       "    </tr>\n",
       "  </thead>\n",
       "  <tbody>\n",
       "    <tr>\n",
       "      <th>1</th>\n",
       "      <td>102</td>\n",
       "      <td>morty</td>\n",
       "      <td>OR1</td>\n",
       "      <td>1200.0</td>\n",
       "      <td>2189.0</td>\n",
       "    </tr>\n",
       "    <tr>\n",
       "      <th>2</th>\n",
       "      <td>102</td>\n",
       "      <td>morty</td>\n",
       "      <td>OR42</td>\n",
       "      <td>989.0</td>\n",
       "      <td>2189.0</td>\n",
       "    </tr>\n",
       "  </tbody>\n",
       "</table>\n",
       "</div>"
      ],
      "text/plain": [
       "   cust_id   name order_id  amount   total\n",
       "1      102  morty      OR1  1200.0  2189.0\n",
       "2      102  morty     OR42   989.0  2189.0"
      ]
     },
     "execution_count": 250,
     "metadata": {},
     "output_type": "execute_result"
    }
   ],
   "source": [
    "res"
   ]
  },
  {
   "cell_type": "code",
   "execution_count": null,
   "id": "15973709",
   "metadata": {},
   "outputs": [],
   "source": [
    "'''Question\n",
    "Merge the two dataframes \n",
    "'''"
   ]
  },
  {
   "cell_type": "code",
   "execution_count": 4,
   "id": "08ca1064",
   "metadata": {},
   "outputs": [
    {
     "name": "stdout",
     "output_type": "stream",
     "text": [
      "    name  rank_x  rank_y\n",
      "0   Jack       1       2\n",
      "1   Ryan       2       3\n",
      "2  Chris       3       4\n",
      "3    Sam       4       1\n"
     ]
    }
   ],
   "source": [
    "df1 = pd.DataFrame({'name': ['Jack','Ryan','Chris','Sam'],\n",
    "'rank': [1, 2, 3, 4]})\n",
    "df2 = pd.DataFrame({'name': ['Ryan', 'Sam', 'Chris', 'Jack'],\n",
    "'rank': [3, 1, 4, 2]})\n",
    "\n",
    "print(pd.merge(df1, df2, on=\"name\"))"
   ]
  },
  {
   "cell_type": "code",
   "execution_count": null,
   "id": "5261b216",
   "metadata": {},
   "outputs": [],
   "source": [
    "'''Question:\n",
    "df.isin() use case\n",
    "'''"
   ]
  },
  {
   "cell_type": "code",
   "execution_count": 5,
   "id": "6299bc9a",
   "metadata": {},
   "outputs": [],
   "source": [
    "data = {\n",
    "    'cust_id': [101, 102, 103, 104],\n",
    "    'name': ['rick', 'morty', 'pickle', 'jerry'],\n",
    "}\n",
    "\n",
    "df = pd.DataFrame(data)"
   ]
  },
  {
   "cell_type": "code",
   "execution_count": 6,
   "id": "c5ae42ae",
   "metadata": {},
   "outputs": [
    {
     "data": {
      "text/html": [
       "<div>\n",
       "<style scoped>\n",
       "    .dataframe tbody tr th:only-of-type {\n",
       "        vertical-align: middle;\n",
       "    }\n",
       "\n",
       "    .dataframe tbody tr th {\n",
       "        vertical-align: top;\n",
       "    }\n",
       "\n",
       "    .dataframe thead th {\n",
       "        text-align: right;\n",
       "    }\n",
       "</style>\n",
       "<table border=\"1\" class=\"dataframe\">\n",
       "  <thead>\n",
       "    <tr style=\"text-align: right;\">\n",
       "      <th></th>\n",
       "      <th>cust_id</th>\n",
       "      <th>name</th>\n",
       "    </tr>\n",
       "  </thead>\n",
       "  <tbody>\n",
       "    <tr>\n",
       "      <th>0</th>\n",
       "      <td>101</td>\n",
       "      <td>rick</td>\n",
       "    </tr>\n",
       "    <tr>\n",
       "      <th>1</th>\n",
       "      <td>102</td>\n",
       "      <td>morty</td>\n",
       "    </tr>\n",
       "    <tr>\n",
       "      <th>2</th>\n",
       "      <td>103</td>\n",
       "      <td>pickle</td>\n",
       "    </tr>\n",
       "    <tr>\n",
       "      <th>3</th>\n",
       "      <td>104</td>\n",
       "      <td>jerry</td>\n",
       "    </tr>\n",
       "  </tbody>\n",
       "</table>\n",
       "</div>"
      ],
      "text/plain": [
       "   cust_id    name\n",
       "0      101    rick\n",
       "1      102   morty\n",
       "2      103  pickle\n",
       "3      104   jerry"
      ]
     },
     "execution_count": 6,
     "metadata": {},
     "output_type": "execute_result"
    }
   ],
   "source": [
    "df"
   ]
  },
  {
   "cell_type": "code",
   "execution_count": 9,
   "id": "d4672d18",
   "metadata": {},
   "outputs": [
    {
     "ename": "TypeError",
     "evalue": "only list-like or dict-like objects are allowed to be passed to DataFrame.isin(), you passed a 'str'",
     "output_type": "error",
     "traceback": [
      "\u001b[1;31m---------------------------------------------------------------------------\u001b[0m",
      "\u001b[1;31mTypeError\u001b[0m                                 Traceback (most recent call last)",
      "\u001b[1;32m~\\AppData\\Local\\Temp\\ipykernel_14540\\2156951779.py\u001b[0m in \u001b[0;36m?\u001b[1;34m()\u001b[0m\n\u001b[1;32m----> 1\u001b[1;33m \u001b[0mdf\u001b[0m\u001b[1;33m.\u001b[0m\u001b[0misin\u001b[0m\u001b[1;33m(\u001b[0m\u001b[1;34m'rick'\u001b[0m\u001b[1;33m)\u001b[0m\u001b[1;33m\u001b[0m\u001b[1;33m\u001b[0m\u001b[0m\n\u001b[0m",
      "\u001b[1;32m~\\anaconda_new\\Lib\\site-packages\\pandas\\core\\frame.py\u001b[0m in \u001b[0;36m?\u001b[1;34m(self, values)\u001b[0m\n\u001b[0;32m  11221\u001b[0m                 \u001b[1;32mraise\u001b[0m \u001b[0mValueError\u001b[0m\u001b[1;33m(\u001b[0m\u001b[1;34m\"cannot compute isin with a duplicate axis.\"\u001b[0m\u001b[1;33m)\u001b[0m\u001b[1;33m\u001b[0m\u001b[1;33m\u001b[0m\u001b[0m\n\u001b[0;32m  11222\u001b[0m             \u001b[0mresult\u001b[0m \u001b[1;33m=\u001b[0m \u001b[0mself\u001b[0m\u001b[1;33m.\u001b[0m\u001b[0meq\u001b[0m\u001b[1;33m(\u001b[0m\u001b[0mvalues\u001b[0m\u001b[1;33m.\u001b[0m\u001b[0mreindex_like\u001b[0m\u001b[1;33m(\u001b[0m\u001b[0mself\u001b[0m\u001b[1;33m)\u001b[0m\u001b[1;33m)\u001b[0m\u001b[1;33m\u001b[0m\u001b[1;33m\u001b[0m\u001b[0m\n\u001b[0;32m  11223\u001b[0m         \u001b[1;32melse\u001b[0m\u001b[1;33m:\u001b[0m\u001b[1;33m\u001b[0m\u001b[1;33m\u001b[0m\u001b[0m\n\u001b[0;32m  11224\u001b[0m             \u001b[1;32mif\u001b[0m \u001b[1;32mnot\u001b[0m \u001b[0mis_list_like\u001b[0m\u001b[1;33m(\u001b[0m\u001b[0mvalues\u001b[0m\u001b[1;33m)\u001b[0m\u001b[1;33m:\u001b[0m\u001b[1;33m\u001b[0m\u001b[1;33m\u001b[0m\u001b[0m\n\u001b[1;32m> 11225\u001b[1;33m                 raise TypeError(\n\u001b[0m\u001b[0;32m  11226\u001b[0m                     \u001b[1;34m\"only list-like or dict-like objects are allowed \"\u001b[0m\u001b[1;33m\u001b[0m\u001b[1;33m\u001b[0m\u001b[0m\n\u001b[0;32m  11227\u001b[0m                     \u001b[1;34m\"to be passed to DataFrame.isin(), \"\u001b[0m\u001b[1;33m\u001b[0m\u001b[1;33m\u001b[0m\u001b[0m\n\u001b[0;32m  11228\u001b[0m                     \u001b[1;34mf\"you passed a '{type(values).__name__}'\"\u001b[0m\u001b[1;33m\u001b[0m\u001b[1;33m\u001b[0m\u001b[0m\n",
      "\u001b[1;31mTypeError\u001b[0m: only list-like or dict-like objects are allowed to be passed to DataFrame.isin(), you passed a 'str'"
     ]
    }
   ],
   "source": [
    "df.isin('rick')  ### Error bcz only list like or dict like objects are allowed to be passed in a DF.isin(), str not allowed"
   ]
  },
  {
   "cell_type": "code",
   "execution_count": 11,
   "id": "e3d847a4",
   "metadata": {},
   "outputs": [
    {
     "data": {
      "text/plain": [
       "'Question\\nGiven a dataframe df having the income details for different individuals.\\n\\nReturn a Series that contains the gender-wise average income.\\n'"
      ]
     },
     "execution_count": 11,
     "metadata": {},
     "output_type": "execute_result"
    }
   ],
   "source": [
    "'''Question\n",
    "Given a dataframe df having the income details for different individuals.\n",
    "\n",
    "Return a Series that contains the gender-wise average income.\n",
    "'''"
   ]
  },
  {
   "cell_type": "code",
   "execution_count": 10,
   "id": "a38cf612",
   "metadata": {},
   "outputs": [],
   "source": [
    "data = {\n",
    "    'name': ['Elon', 'Jeff', 'Bill', 'Falguni'],\n",
    "    'gender': ['M', 'F', 'M', 'F'],\n",
    "    'income': [53000.0, 28000.0, 25000.0, 44000.0]\n",
    "}\n",
    "\n",
    "df = pd.DataFrame(data)"
   ]
  },
  {
   "cell_type": "code",
   "execution_count": 12,
   "id": "0ff51d90",
   "metadata": {},
   "outputs": [
    {
     "data": {
      "text/html": [
       "<div>\n",
       "<style scoped>\n",
       "    .dataframe tbody tr th:only-of-type {\n",
       "        vertical-align: middle;\n",
       "    }\n",
       "\n",
       "    .dataframe tbody tr th {\n",
       "        vertical-align: top;\n",
       "    }\n",
       "\n",
       "    .dataframe thead th {\n",
       "        text-align: right;\n",
       "    }\n",
       "</style>\n",
       "<table border=\"1\" class=\"dataframe\">\n",
       "  <thead>\n",
       "    <tr style=\"text-align: right;\">\n",
       "      <th></th>\n",
       "      <th>name</th>\n",
       "      <th>gender</th>\n",
       "      <th>income</th>\n",
       "    </tr>\n",
       "  </thead>\n",
       "  <tbody>\n",
       "    <tr>\n",
       "      <th>0</th>\n",
       "      <td>Elon</td>\n",
       "      <td>M</td>\n",
       "      <td>53000.0</td>\n",
       "    </tr>\n",
       "    <tr>\n",
       "      <th>1</th>\n",
       "      <td>Jeff</td>\n",
       "      <td>F</td>\n",
       "      <td>28000.0</td>\n",
       "    </tr>\n",
       "    <tr>\n",
       "      <th>2</th>\n",
       "      <td>Bill</td>\n",
       "      <td>M</td>\n",
       "      <td>25000.0</td>\n",
       "    </tr>\n",
       "    <tr>\n",
       "      <th>3</th>\n",
       "      <td>Falguni</td>\n",
       "      <td>F</td>\n",
       "      <td>44000.0</td>\n",
       "    </tr>\n",
       "  </tbody>\n",
       "</table>\n",
       "</div>"
      ],
      "text/plain": [
       "      name gender   income\n",
       "0     Elon      M  53000.0\n",
       "1     Jeff      F  28000.0\n",
       "2     Bill      M  25000.0\n",
       "3  Falguni      F  44000.0"
      ]
     },
     "execution_count": 12,
     "metadata": {},
     "output_type": "execute_result"
    }
   ],
   "source": [
    "df"
   ]
  },
  {
   "cell_type": "code",
   "execution_count": 14,
   "id": "df19017a",
   "metadata": {},
   "outputs": [
    {
     "data": {
      "text/plain": [
       "gender\n",
       "F    36000.0\n",
       "M    39000.0\n",
       "Name: income, dtype: float64"
      ]
     },
     "execution_count": 14,
     "metadata": {},
     "output_type": "execute_result"
    }
   ],
   "source": [
    "df.groupby('gender')['income'].mean()"
   ]
  },
  {
   "cell_type": "code",
   "execution_count": 15,
   "id": "81dfe47b",
   "metadata": {},
   "outputs": [
    {
     "data": {
      "text/plain": [
       "\"Question\\nWe have access to Amazon's sales data.\\n\\nOur objective is to filter out user users who have purchased a minimum of 'x' quantity of items and ensure that the average price of the items they've bought is at least 'y'.\\n\\nValues of x and y will be provided to the function.\\n\""
      ]
     },
     "execution_count": 15,
     "metadata": {},
     "output_type": "execute_result"
    }
   ],
   "source": [
    "'''Question\n",
    "We have access to Amazon's sales data.\n",
    "\n",
    "Our objective is to filter out user users who have purchased a minimum of 'x' quantity of items and ensure that the average price of the items they've bought is at least 'y'.\n",
    "\n",
    "Values of x and y will be provided to the function.\n",
    "'''"
   ]
  },
  {
   "cell_type": "code",
   "execution_count": 18,
   "id": "163f2e6c",
   "metadata": {},
   "outputs": [],
   "source": [
    "data = {\n",
    "    'Name': ['Julie Dsouza', 'Kelly Sebastian', 'Daniel Fernandez', 'Julie Dsouza', 'John Jacob'],\n",
    "    'Product': ['Apple Airpods Headphones', 'Apple Airpods Headphones', '27in 4K Gaming Monitor', \n",
    "                'Bose SoundSport Headphones', 'Wired Headphones'],\n",
    "    'Quantity Ordered': [1, 1, 1, 1, 2],\n",
    "    'Price Each': [150.00, 150.00, 389.99, 99.99, 11.99],\n",
    "    'Order Date': ['01/22/19 21:20', '01/24/19 8:13', '01/26/19 12:16', '01/01/19 10:30', '01/17/19 13:33'],\n",
    "    'Purchase Address': ['868 Willow St, Los Angeles, CA 90001', '442 Cedar St, Portland, OR 97035', \n",
    "                         '741 10th St, Los Angeles, CA 90001', '867 Willow St, Los Angeles, CA 90001', \n",
    "                         '946 Walnut St, Boston, MA 02215']\n",
    "}\n",
    "\n",
    "df = pd.DataFrame(data) "
   ]
  },
  {
   "cell_type": "code",
   "execution_count": 17,
   "id": "84b4a52a",
   "metadata": {},
   "outputs": [
    {
     "data": {
      "text/html": [
       "<div>\n",
       "<style scoped>\n",
       "    .dataframe tbody tr th:only-of-type {\n",
       "        vertical-align: middle;\n",
       "    }\n",
       "\n",
       "    .dataframe tbody tr th {\n",
       "        vertical-align: top;\n",
       "    }\n",
       "\n",
       "    .dataframe thead th {\n",
       "        text-align: right;\n",
       "    }\n",
       "</style>\n",
       "<table border=\"1\" class=\"dataframe\">\n",
       "  <thead>\n",
       "    <tr style=\"text-align: right;\">\n",
       "      <th></th>\n",
       "      <th>Name</th>\n",
       "      <th>Product</th>\n",
       "      <th>Quantity Ordered</th>\n",
       "      <th>Price Each</th>\n",
       "      <th>Order Date</th>\n",
       "      <th>Purchase Address</th>\n",
       "    </tr>\n",
       "  </thead>\n",
       "  <tbody>\n",
       "    <tr>\n",
       "      <th>0</th>\n",
       "      <td>Julie Dsouza</td>\n",
       "      <td>Apple Airpods Headphones</td>\n",
       "      <td>1</td>\n",
       "      <td>150.00</td>\n",
       "      <td>01/22/19 21:20</td>\n",
       "      <td>868 Willow St, Los Angeles, CA 90001</td>\n",
       "    </tr>\n",
       "    <tr>\n",
       "      <th>1</th>\n",
       "      <td>Kelly Sebastian</td>\n",
       "      <td>Apple Airpods Headphones</td>\n",
       "      <td>1</td>\n",
       "      <td>150.00</td>\n",
       "      <td>01/24/19 8:13</td>\n",
       "      <td>442 Cedar St, Portland, OR 97035</td>\n",
       "    </tr>\n",
       "    <tr>\n",
       "      <th>2</th>\n",
       "      <td>Daniel Fernandez</td>\n",
       "      <td>27in 4K Gaming Monitor</td>\n",
       "      <td>1</td>\n",
       "      <td>389.99</td>\n",
       "      <td>01/26/19 12:16</td>\n",
       "      <td>741 10th St, Los Angeles, CA 90001</td>\n",
       "    </tr>\n",
       "    <tr>\n",
       "      <th>3</th>\n",
       "      <td>Julie Dsouza</td>\n",
       "      <td>Bose SoundSport Headphones</td>\n",
       "      <td>1</td>\n",
       "      <td>99.99</td>\n",
       "      <td>01/01/19 10:30</td>\n",
       "      <td>867 Willow St, Los Angeles, CA 90001</td>\n",
       "    </tr>\n",
       "    <tr>\n",
       "      <th>4</th>\n",
       "      <td>John Jacob</td>\n",
       "      <td>Wired Headphones</td>\n",
       "      <td>2</td>\n",
       "      <td>11.99</td>\n",
       "      <td>01/17/19 13:33</td>\n",
       "      <td>946 Walnut St, Boston, MA 02215</td>\n",
       "    </tr>\n",
       "  </tbody>\n",
       "</table>\n",
       "</div>"
      ],
      "text/plain": [
       "               Name                     Product  Quantity Ordered  Price Each  \\\n",
       "0      Julie Dsouza    Apple Airpods Headphones                 1      150.00   \n",
       "1   Kelly Sebastian    Apple Airpods Headphones                 1      150.00   \n",
       "2  Daniel Fernandez      27in 4K Gaming Monitor                 1      389.99   \n",
       "3      Julie Dsouza  Bose SoundSport Headphones                 1       99.99   \n",
       "4        John Jacob            Wired Headphones                 2       11.99   \n",
       "\n",
       "       Order Date                      Purchase Address  \n",
       "0  01/22/19 21:20  868 Willow St, Los Angeles, CA 90001  \n",
       "1   01/24/19 8:13      442 Cedar St, Portland, OR 97035  \n",
       "2  01/26/19 12:16    741 10th St, Los Angeles, CA 90001  \n",
       "3  01/01/19 10:30  867 Willow St, Los Angeles, CA 90001  \n",
       "4  01/17/19 13:33       946 Walnut St, Boston, MA 02215  "
      ]
     },
     "execution_count": 17,
     "metadata": {},
     "output_type": "execute_result"
    }
   ],
   "source": [
    "df"
   ]
  },
  {
   "cell_type": "code",
   "execution_count": 25,
   "id": "a140e357",
   "metadata": {},
   "outputs": [
    {
     "data": {
      "text/html": [
       "<div>\n",
       "<style scoped>\n",
       "    .dataframe tbody tr th:only-of-type {\n",
       "        vertical-align: middle;\n",
       "    }\n",
       "\n",
       "    .dataframe tbody tr th {\n",
       "        vertical-align: top;\n",
       "    }\n",
       "\n",
       "    .dataframe thead th {\n",
       "        text-align: right;\n",
       "    }\n",
       "</style>\n",
       "<table border=\"1\" class=\"dataframe\">\n",
       "  <thead>\n",
       "    <tr style=\"text-align: right;\">\n",
       "      <th></th>\n",
       "      <th>Name</th>\n",
       "      <th>Purchase Address</th>\n",
       "    </tr>\n",
       "  </thead>\n",
       "  <tbody>\n",
       "    <tr>\n",
       "      <th>0</th>\n",
       "      <td>Julie Dsouza</td>\n",
       "      <td>868 Willow St, Los Angeles, CA 90001</td>\n",
       "    </tr>\n",
       "    <tr>\n",
       "      <th>3</th>\n",
       "      <td>Julie Dsouza</td>\n",
       "      <td>867 Willow St, Los Angeles, CA 90001</td>\n",
       "    </tr>\n",
       "  </tbody>\n",
       "</table>\n",
       "</div>"
      ],
      "text/plain": [
       "           Name                      Purchase Address\n",
       "0  Julie Dsouza  868 Willow St, Los Angeles, CA 90001\n",
       "3  Julie Dsouza  867 Willow St, Los Angeles, CA 90001"
      ]
     },
     "execution_count": 25,
     "metadata": {},
     "output_type": "execute_result"
    }
   ],
   "source": [
    "def amazon(df, x, y):\n",
    "    ans = df.groupby('Name').filter(lambda t : (t['Quantity Ordered'].sum() > x) & (t['Price Each'].mean() > y))\n",
    "    return ans[['Name', 'Purchase Address']]\n",
    "amazon(df, 1, 100)"
   ]
  },
  {
   "cell_type": "code",
   "execution_count": 31,
   "id": "c6b32c2e",
   "metadata": {},
   "outputs": [],
   "source": [
    "ans  = list(df['Purchase Address'].str.split(','))   ### splitting address to get three new columns"
   ]
  },
  {
   "cell_type": "code",
   "execution_count": 41,
   "id": "97ba2f6c",
   "metadata": {},
   "outputs": [],
   "source": [
    "df['pincode'] = np.array(ans)[:, 2]"
   ]
  },
  {
   "cell_type": "code",
   "execution_count": 44,
   "id": "40db35ee",
   "metadata": {},
   "outputs": [],
   "source": [
    "df['city'] = np.array(ans)[:, 1]"
   ]
  },
  {
   "cell_type": "code",
   "execution_count": 47,
   "id": "56f7d742",
   "metadata": {},
   "outputs": [],
   "source": [
    "df['address'] = np.array(ans)[:, 0]"
   ]
  },
  {
   "cell_type": "code",
   "execution_count": 49,
   "id": "6e4c47e7",
   "metadata": {},
   "outputs": [],
   "source": [
    "df.drop('Purchase Address', axis=1, inplace = True)"
   ]
  },
  {
   "cell_type": "code",
   "execution_count": 50,
   "id": "72263a8f",
   "metadata": {},
   "outputs": [
    {
     "data": {
      "text/html": [
       "<div>\n",
       "<style scoped>\n",
       "    .dataframe tbody tr th:only-of-type {\n",
       "        vertical-align: middle;\n",
       "    }\n",
       "\n",
       "    .dataframe tbody tr th {\n",
       "        vertical-align: top;\n",
       "    }\n",
       "\n",
       "    .dataframe thead th {\n",
       "        text-align: right;\n",
       "    }\n",
       "</style>\n",
       "<table border=\"1\" class=\"dataframe\">\n",
       "  <thead>\n",
       "    <tr style=\"text-align: right;\">\n",
       "      <th></th>\n",
       "      <th>Name</th>\n",
       "      <th>Product</th>\n",
       "      <th>Quantity Ordered</th>\n",
       "      <th>Price Each</th>\n",
       "      <th>Order Date</th>\n",
       "      <th>pincode</th>\n",
       "      <th>city</th>\n",
       "      <th>address</th>\n",
       "    </tr>\n",
       "  </thead>\n",
       "  <tbody>\n",
       "    <tr>\n",
       "      <th>0</th>\n",
       "      <td>Julie Dsouza</td>\n",
       "      <td>Apple Airpods Headphones</td>\n",
       "      <td>1</td>\n",
       "      <td>150.00</td>\n",
       "      <td>01/22/19 21:20</td>\n",
       "      <td>CA 90001</td>\n",
       "      <td>Los Angeles</td>\n",
       "      <td>868 Willow St</td>\n",
       "    </tr>\n",
       "    <tr>\n",
       "      <th>1</th>\n",
       "      <td>Kelly Sebastian</td>\n",
       "      <td>Apple Airpods Headphones</td>\n",
       "      <td>1</td>\n",
       "      <td>150.00</td>\n",
       "      <td>01/24/19 8:13</td>\n",
       "      <td>OR 97035</td>\n",
       "      <td>Portland</td>\n",
       "      <td>442 Cedar St</td>\n",
       "    </tr>\n",
       "    <tr>\n",
       "      <th>2</th>\n",
       "      <td>Daniel Fernandez</td>\n",
       "      <td>27in 4K Gaming Monitor</td>\n",
       "      <td>1</td>\n",
       "      <td>389.99</td>\n",
       "      <td>01/26/19 12:16</td>\n",
       "      <td>CA 90001</td>\n",
       "      <td>Los Angeles</td>\n",
       "      <td>741 10th St</td>\n",
       "    </tr>\n",
       "    <tr>\n",
       "      <th>3</th>\n",
       "      <td>Julie Dsouza</td>\n",
       "      <td>Bose SoundSport Headphones</td>\n",
       "      <td>1</td>\n",
       "      <td>99.99</td>\n",
       "      <td>01/01/19 10:30</td>\n",
       "      <td>CA 90001</td>\n",
       "      <td>Los Angeles</td>\n",
       "      <td>867 Willow St</td>\n",
       "    </tr>\n",
       "    <tr>\n",
       "      <th>4</th>\n",
       "      <td>John Jacob</td>\n",
       "      <td>Wired Headphones</td>\n",
       "      <td>2</td>\n",
       "      <td>11.99</td>\n",
       "      <td>01/17/19 13:33</td>\n",
       "      <td>MA 02215</td>\n",
       "      <td>Boston</td>\n",
       "      <td>946 Walnut St</td>\n",
       "    </tr>\n",
       "  </tbody>\n",
       "</table>\n",
       "</div>"
      ],
      "text/plain": [
       "               Name                     Product  Quantity Ordered  Price Each  \\\n",
       "0      Julie Dsouza    Apple Airpods Headphones                 1      150.00   \n",
       "1   Kelly Sebastian    Apple Airpods Headphones                 1      150.00   \n",
       "2  Daniel Fernandez      27in 4K Gaming Monitor                 1      389.99   \n",
       "3      Julie Dsouza  Bose SoundSport Headphones                 1       99.99   \n",
       "4        John Jacob            Wired Headphones                 2       11.99   \n",
       "\n",
       "       Order Date    pincode          city        address  \n",
       "0  01/22/19 21:20   CA 90001   Los Angeles  868 Willow St  \n",
       "1   01/24/19 8:13   OR 97035      Portland   442 Cedar St  \n",
       "2  01/26/19 12:16   CA 90001   Los Angeles    741 10th St  \n",
       "3  01/01/19 10:30   CA 90001   Los Angeles  867 Willow St  \n",
       "4  01/17/19 13:33   MA 02215        Boston  946 Walnut St  "
      ]
     },
     "execution_count": 50,
     "metadata": {},
     "output_type": "execute_result"
    }
   ],
   "source": [
    "df"
   ]
  },
  {
   "cell_type": "code",
   "execution_count": 54,
   "id": "a0059396",
   "metadata": {},
   "outputs": [],
   "source": [
    "df = df[['Name', 'Product', 'Quantity Ordered', 'Price Each', 'Order Date', 'address', 'city', 'pincode']]  ## rearranging columns"
   ]
  },
  {
   "cell_type": "code",
   "execution_count": 55,
   "id": "99d47883",
   "metadata": {},
   "outputs": [
    {
     "data": {
      "text/html": [
       "<div>\n",
       "<style scoped>\n",
       "    .dataframe tbody tr th:only-of-type {\n",
       "        vertical-align: middle;\n",
       "    }\n",
       "\n",
       "    .dataframe tbody tr th {\n",
       "        vertical-align: top;\n",
       "    }\n",
       "\n",
       "    .dataframe thead th {\n",
       "        text-align: right;\n",
       "    }\n",
       "</style>\n",
       "<table border=\"1\" class=\"dataframe\">\n",
       "  <thead>\n",
       "    <tr style=\"text-align: right;\">\n",
       "      <th></th>\n",
       "      <th>Name</th>\n",
       "      <th>Product</th>\n",
       "      <th>Quantity Ordered</th>\n",
       "      <th>Price Each</th>\n",
       "      <th>Order Date</th>\n",
       "      <th>address</th>\n",
       "      <th>city</th>\n",
       "      <th>pincode</th>\n",
       "    </tr>\n",
       "  </thead>\n",
       "  <tbody>\n",
       "    <tr>\n",
       "      <th>0</th>\n",
       "      <td>Julie Dsouza</td>\n",
       "      <td>Apple Airpods Headphones</td>\n",
       "      <td>1</td>\n",
       "      <td>150.00</td>\n",
       "      <td>01/22/19 21:20</td>\n",
       "      <td>868 Willow St</td>\n",
       "      <td>Los Angeles</td>\n",
       "      <td>CA 90001</td>\n",
       "    </tr>\n",
       "    <tr>\n",
       "      <th>1</th>\n",
       "      <td>Kelly Sebastian</td>\n",
       "      <td>Apple Airpods Headphones</td>\n",
       "      <td>1</td>\n",
       "      <td>150.00</td>\n",
       "      <td>01/24/19 8:13</td>\n",
       "      <td>442 Cedar St</td>\n",
       "      <td>Portland</td>\n",
       "      <td>OR 97035</td>\n",
       "    </tr>\n",
       "    <tr>\n",
       "      <th>2</th>\n",
       "      <td>Daniel Fernandez</td>\n",
       "      <td>27in 4K Gaming Monitor</td>\n",
       "      <td>1</td>\n",
       "      <td>389.99</td>\n",
       "      <td>01/26/19 12:16</td>\n",
       "      <td>741 10th St</td>\n",
       "      <td>Los Angeles</td>\n",
       "      <td>CA 90001</td>\n",
       "    </tr>\n",
       "    <tr>\n",
       "      <th>3</th>\n",
       "      <td>Julie Dsouza</td>\n",
       "      <td>Bose SoundSport Headphones</td>\n",
       "      <td>1</td>\n",
       "      <td>99.99</td>\n",
       "      <td>01/01/19 10:30</td>\n",
       "      <td>867 Willow St</td>\n",
       "      <td>Los Angeles</td>\n",
       "      <td>CA 90001</td>\n",
       "    </tr>\n",
       "    <tr>\n",
       "      <th>4</th>\n",
       "      <td>John Jacob</td>\n",
       "      <td>Wired Headphones</td>\n",
       "      <td>2</td>\n",
       "      <td>11.99</td>\n",
       "      <td>01/17/19 13:33</td>\n",
       "      <td>946 Walnut St</td>\n",
       "      <td>Boston</td>\n",
       "      <td>MA 02215</td>\n",
       "    </tr>\n",
       "  </tbody>\n",
       "</table>\n",
       "</div>"
      ],
      "text/plain": [
       "               Name                     Product  Quantity Ordered  Price Each  \\\n",
       "0      Julie Dsouza    Apple Airpods Headphones                 1      150.00   \n",
       "1   Kelly Sebastian    Apple Airpods Headphones                 1      150.00   \n",
       "2  Daniel Fernandez      27in 4K Gaming Monitor                 1      389.99   \n",
       "3      Julie Dsouza  Bose SoundSport Headphones                 1       99.99   \n",
       "4        John Jacob            Wired Headphones                 2       11.99   \n",
       "\n",
       "       Order Date        address          city    pincode  \n",
       "0  01/22/19 21:20  868 Willow St   Los Angeles   CA 90001  \n",
       "1   01/24/19 8:13   442 Cedar St      Portland   OR 97035  \n",
       "2  01/26/19 12:16    741 10th St   Los Angeles   CA 90001  \n",
       "3  01/01/19 10:30  867 Willow St   Los Angeles   CA 90001  \n",
       "4  01/17/19 13:33  946 Walnut St        Boston   MA 02215  "
      ]
     },
     "execution_count": 55,
     "metadata": {},
     "output_type": "execute_result"
    }
   ],
   "source": [
    "df"
   ]
  },
  {
   "cell_type": "code",
   "execution_count": 59,
   "id": "b2daba5b",
   "metadata": {},
   "outputs": [
    {
     "name": "stderr",
     "output_type": "stream",
     "text": [
      "C:\\Users\\ROHAN\\AppData\\Local\\Temp\\ipykernel_14540\\1722919639.py:1: UserWarning: Could not infer format, so each element will be parsed individually, falling back to `dateutil`. To ensure parsing is consistent and as-expected, please specify a format.\n",
      "  df['Order Date']=pd.to_datetime(df['Order Date'])\n"
     ]
    }
   ],
   "source": [
    "df['Order Date']=pd.to_datetime(df['Order Date'])  # Converting to Datetime to get two columns - Date and time"
   ]
  },
  {
   "cell_type": "code",
   "execution_count": 61,
   "id": "16090b27",
   "metadata": {},
   "outputs": [
    {
     "data": {
      "text/html": [
       "<div>\n",
       "<style scoped>\n",
       "    .dataframe tbody tr th:only-of-type {\n",
       "        vertical-align: middle;\n",
       "    }\n",
       "\n",
       "    .dataframe tbody tr th {\n",
       "        vertical-align: top;\n",
       "    }\n",
       "\n",
       "    .dataframe thead th {\n",
       "        text-align: right;\n",
       "    }\n",
       "</style>\n",
       "<table border=\"1\" class=\"dataframe\">\n",
       "  <thead>\n",
       "    <tr style=\"text-align: right;\">\n",
       "      <th></th>\n",
       "      <th>Name</th>\n",
       "      <th>Product</th>\n",
       "      <th>Quantity Ordered</th>\n",
       "      <th>Price Each</th>\n",
       "      <th>Order Date</th>\n",
       "      <th>address</th>\n",
       "      <th>city</th>\n",
       "      <th>pincode</th>\n",
       "    </tr>\n",
       "  </thead>\n",
       "  <tbody>\n",
       "    <tr>\n",
       "      <th>0</th>\n",
       "      <td>Julie Dsouza</td>\n",
       "      <td>Apple Airpods Headphones</td>\n",
       "      <td>1</td>\n",
       "      <td>150.00</td>\n",
       "      <td>2019-01-22 21:20:00</td>\n",
       "      <td>868 Willow St</td>\n",
       "      <td>Los Angeles</td>\n",
       "      <td>CA 90001</td>\n",
       "    </tr>\n",
       "    <tr>\n",
       "      <th>1</th>\n",
       "      <td>Kelly Sebastian</td>\n",
       "      <td>Apple Airpods Headphones</td>\n",
       "      <td>1</td>\n",
       "      <td>150.00</td>\n",
       "      <td>2019-01-24 08:13:00</td>\n",
       "      <td>442 Cedar St</td>\n",
       "      <td>Portland</td>\n",
       "      <td>OR 97035</td>\n",
       "    </tr>\n",
       "    <tr>\n",
       "      <th>2</th>\n",
       "      <td>Daniel Fernandez</td>\n",
       "      <td>27in 4K Gaming Monitor</td>\n",
       "      <td>1</td>\n",
       "      <td>389.99</td>\n",
       "      <td>2019-01-26 12:16:00</td>\n",
       "      <td>741 10th St</td>\n",
       "      <td>Los Angeles</td>\n",
       "      <td>CA 90001</td>\n",
       "    </tr>\n",
       "    <tr>\n",
       "      <th>3</th>\n",
       "      <td>Julie Dsouza</td>\n",
       "      <td>Bose SoundSport Headphones</td>\n",
       "      <td>1</td>\n",
       "      <td>99.99</td>\n",
       "      <td>2019-01-01 10:30:00</td>\n",
       "      <td>867 Willow St</td>\n",
       "      <td>Los Angeles</td>\n",
       "      <td>CA 90001</td>\n",
       "    </tr>\n",
       "    <tr>\n",
       "      <th>4</th>\n",
       "      <td>John Jacob</td>\n",
       "      <td>Wired Headphones</td>\n",
       "      <td>2</td>\n",
       "      <td>11.99</td>\n",
       "      <td>2019-01-17 13:33:00</td>\n",
       "      <td>946 Walnut St</td>\n",
       "      <td>Boston</td>\n",
       "      <td>MA 02215</td>\n",
       "    </tr>\n",
       "  </tbody>\n",
       "</table>\n",
       "</div>"
      ],
      "text/plain": [
       "               Name                     Product  Quantity Ordered  Price Each  \\\n",
       "0      Julie Dsouza    Apple Airpods Headphones                 1      150.00   \n",
       "1   Kelly Sebastian    Apple Airpods Headphones                 1      150.00   \n",
       "2  Daniel Fernandez      27in 4K Gaming Monitor                 1      389.99   \n",
       "3      Julie Dsouza  Bose SoundSport Headphones                 1       99.99   \n",
       "4        John Jacob            Wired Headphones                 2       11.99   \n",
       "\n",
       "           Order Date        address          city    pincode  \n",
       "0 2019-01-22 21:20:00  868 Willow St   Los Angeles   CA 90001  \n",
       "1 2019-01-24 08:13:00   442 Cedar St      Portland   OR 97035  \n",
       "2 2019-01-26 12:16:00    741 10th St   Los Angeles   CA 90001  \n",
       "3 2019-01-01 10:30:00  867 Willow St   Los Angeles   CA 90001  \n",
       "4 2019-01-17 13:33:00  946 Walnut St        Boston   MA 02215  "
      ]
     },
     "execution_count": 61,
     "metadata": {},
     "output_type": "execute_result"
    }
   ],
   "source": [
    "df"
   ]
  },
  {
   "cell_type": "code",
   "execution_count": 62,
   "id": "4df52eae",
   "metadata": {},
   "outputs": [],
   "source": [
    "df['Date'] = df['Order Date'].dt.date"
   ]
  },
  {
   "cell_type": "code",
   "execution_count": 64,
   "id": "640149f4",
   "metadata": {},
   "outputs": [],
   "source": [
    "df['Time'] = df['Order Date'].dt.time"
   ]
  },
  {
   "cell_type": "code",
   "execution_count": 65,
   "id": "8dd3f306",
   "metadata": {},
   "outputs": [
    {
     "data": {
      "text/html": [
       "<div>\n",
       "<style scoped>\n",
       "    .dataframe tbody tr th:only-of-type {\n",
       "        vertical-align: middle;\n",
       "    }\n",
       "\n",
       "    .dataframe tbody tr th {\n",
       "        vertical-align: top;\n",
       "    }\n",
       "\n",
       "    .dataframe thead th {\n",
       "        text-align: right;\n",
       "    }\n",
       "</style>\n",
       "<table border=\"1\" class=\"dataframe\">\n",
       "  <thead>\n",
       "    <tr style=\"text-align: right;\">\n",
       "      <th></th>\n",
       "      <th>Name</th>\n",
       "      <th>Product</th>\n",
       "      <th>Quantity Ordered</th>\n",
       "      <th>Price Each</th>\n",
       "      <th>Order Date</th>\n",
       "      <th>address</th>\n",
       "      <th>city</th>\n",
       "      <th>pincode</th>\n",
       "      <th>Date</th>\n",
       "      <th>Time</th>\n",
       "    </tr>\n",
       "  </thead>\n",
       "  <tbody>\n",
       "    <tr>\n",
       "      <th>0</th>\n",
       "      <td>Julie Dsouza</td>\n",
       "      <td>Apple Airpods Headphones</td>\n",
       "      <td>1</td>\n",
       "      <td>150.00</td>\n",
       "      <td>2019-01-22 21:20:00</td>\n",
       "      <td>868 Willow St</td>\n",
       "      <td>Los Angeles</td>\n",
       "      <td>CA 90001</td>\n",
       "      <td>2019-01-22</td>\n",
       "      <td>21:20:00</td>\n",
       "    </tr>\n",
       "    <tr>\n",
       "      <th>1</th>\n",
       "      <td>Kelly Sebastian</td>\n",
       "      <td>Apple Airpods Headphones</td>\n",
       "      <td>1</td>\n",
       "      <td>150.00</td>\n",
       "      <td>2019-01-24 08:13:00</td>\n",
       "      <td>442 Cedar St</td>\n",
       "      <td>Portland</td>\n",
       "      <td>OR 97035</td>\n",
       "      <td>2019-01-24</td>\n",
       "      <td>08:13:00</td>\n",
       "    </tr>\n",
       "    <tr>\n",
       "      <th>2</th>\n",
       "      <td>Daniel Fernandez</td>\n",
       "      <td>27in 4K Gaming Monitor</td>\n",
       "      <td>1</td>\n",
       "      <td>389.99</td>\n",
       "      <td>2019-01-26 12:16:00</td>\n",
       "      <td>741 10th St</td>\n",
       "      <td>Los Angeles</td>\n",
       "      <td>CA 90001</td>\n",
       "      <td>2019-01-26</td>\n",
       "      <td>12:16:00</td>\n",
       "    </tr>\n",
       "    <tr>\n",
       "      <th>3</th>\n",
       "      <td>Julie Dsouza</td>\n",
       "      <td>Bose SoundSport Headphones</td>\n",
       "      <td>1</td>\n",
       "      <td>99.99</td>\n",
       "      <td>2019-01-01 10:30:00</td>\n",
       "      <td>867 Willow St</td>\n",
       "      <td>Los Angeles</td>\n",
       "      <td>CA 90001</td>\n",
       "      <td>2019-01-01</td>\n",
       "      <td>10:30:00</td>\n",
       "    </tr>\n",
       "    <tr>\n",
       "      <th>4</th>\n",
       "      <td>John Jacob</td>\n",
       "      <td>Wired Headphones</td>\n",
       "      <td>2</td>\n",
       "      <td>11.99</td>\n",
       "      <td>2019-01-17 13:33:00</td>\n",
       "      <td>946 Walnut St</td>\n",
       "      <td>Boston</td>\n",
       "      <td>MA 02215</td>\n",
       "      <td>2019-01-17</td>\n",
       "      <td>13:33:00</td>\n",
       "    </tr>\n",
       "  </tbody>\n",
       "</table>\n",
       "</div>"
      ],
      "text/plain": [
       "               Name                     Product  Quantity Ordered  Price Each  \\\n",
       "0      Julie Dsouza    Apple Airpods Headphones                 1      150.00   \n",
       "1   Kelly Sebastian    Apple Airpods Headphones                 1      150.00   \n",
       "2  Daniel Fernandez      27in 4K Gaming Monitor                 1      389.99   \n",
       "3      Julie Dsouza  Bose SoundSport Headphones                 1       99.99   \n",
       "4        John Jacob            Wired Headphones                 2       11.99   \n",
       "\n",
       "           Order Date        address          city    pincode        Date  \\\n",
       "0 2019-01-22 21:20:00  868 Willow St   Los Angeles   CA 90001  2019-01-22   \n",
       "1 2019-01-24 08:13:00   442 Cedar St      Portland   OR 97035  2019-01-24   \n",
       "2 2019-01-26 12:16:00    741 10th St   Los Angeles   CA 90001  2019-01-26   \n",
       "3 2019-01-01 10:30:00  867 Willow St   Los Angeles   CA 90001  2019-01-01   \n",
       "4 2019-01-17 13:33:00  946 Walnut St        Boston   MA 02215  2019-01-17   \n",
       "\n",
       "       Time  \n",
       "0  21:20:00  \n",
       "1  08:13:00  \n",
       "2  12:16:00  \n",
       "3  10:30:00  \n",
       "4  13:33:00  "
      ]
     },
     "execution_count": 65,
     "metadata": {},
     "output_type": "execute_result"
    }
   ],
   "source": [
    "df"
   ]
  },
  {
   "cell_type": "code",
   "execution_count": 66,
   "id": "b83efff1",
   "metadata": {},
   "outputs": [],
   "source": [
    "df = df[['Name', 'Product', 'Quantity Ordered', 'Price Each', 'Order Date','Date' ,'Time', 'address', 'city', 'pincode']]"
   ]
  },
  {
   "cell_type": "code",
   "execution_count": 68,
   "id": "66b7ae23",
   "metadata": {},
   "outputs": [
    {
     "name": "stderr",
     "output_type": "stream",
     "text": [
      "C:\\Users\\ROHAN\\AppData\\Local\\Temp\\ipykernel_14540\\1442821136.py:1: SettingWithCopyWarning: \n",
      "A value is trying to be set on a copy of a slice from a DataFrame\n",
      "\n",
      "See the caveats in the documentation: https://pandas.pydata.org/pandas-docs/stable/user_guide/indexing.html#returning-a-view-versus-a-copy\n",
      "  df.drop('Order Date', axis=1, inplace =True)\n"
     ]
    }
   ],
   "source": [
    "df.drop('Order Date', axis=1, inplace =True)"
   ]
  },
  {
   "cell_type": "code",
   "execution_count": 69,
   "id": "dfd792ca",
   "metadata": {},
   "outputs": [
    {
     "data": {
      "text/html": [
       "<div>\n",
       "<style scoped>\n",
       "    .dataframe tbody tr th:only-of-type {\n",
       "        vertical-align: middle;\n",
       "    }\n",
       "\n",
       "    .dataframe tbody tr th {\n",
       "        vertical-align: top;\n",
       "    }\n",
       "\n",
       "    .dataframe thead th {\n",
       "        text-align: right;\n",
       "    }\n",
       "</style>\n",
       "<table border=\"1\" class=\"dataframe\">\n",
       "  <thead>\n",
       "    <tr style=\"text-align: right;\">\n",
       "      <th></th>\n",
       "      <th>Name</th>\n",
       "      <th>Product</th>\n",
       "      <th>Quantity Ordered</th>\n",
       "      <th>Price Each</th>\n",
       "      <th>Date</th>\n",
       "      <th>Time</th>\n",
       "      <th>address</th>\n",
       "      <th>city</th>\n",
       "      <th>pincode</th>\n",
       "    </tr>\n",
       "  </thead>\n",
       "  <tbody>\n",
       "    <tr>\n",
       "      <th>0</th>\n",
       "      <td>Julie Dsouza</td>\n",
       "      <td>Apple Airpods Headphones</td>\n",
       "      <td>1</td>\n",
       "      <td>150.00</td>\n",
       "      <td>2019-01-22</td>\n",
       "      <td>21:20:00</td>\n",
       "      <td>868 Willow St</td>\n",
       "      <td>Los Angeles</td>\n",
       "      <td>CA 90001</td>\n",
       "    </tr>\n",
       "    <tr>\n",
       "      <th>1</th>\n",
       "      <td>Kelly Sebastian</td>\n",
       "      <td>Apple Airpods Headphones</td>\n",
       "      <td>1</td>\n",
       "      <td>150.00</td>\n",
       "      <td>2019-01-24</td>\n",
       "      <td>08:13:00</td>\n",
       "      <td>442 Cedar St</td>\n",
       "      <td>Portland</td>\n",
       "      <td>OR 97035</td>\n",
       "    </tr>\n",
       "    <tr>\n",
       "      <th>2</th>\n",
       "      <td>Daniel Fernandez</td>\n",
       "      <td>27in 4K Gaming Monitor</td>\n",
       "      <td>1</td>\n",
       "      <td>389.99</td>\n",
       "      <td>2019-01-26</td>\n",
       "      <td>12:16:00</td>\n",
       "      <td>741 10th St</td>\n",
       "      <td>Los Angeles</td>\n",
       "      <td>CA 90001</td>\n",
       "    </tr>\n",
       "    <tr>\n",
       "      <th>3</th>\n",
       "      <td>Julie Dsouza</td>\n",
       "      <td>Bose SoundSport Headphones</td>\n",
       "      <td>1</td>\n",
       "      <td>99.99</td>\n",
       "      <td>2019-01-01</td>\n",
       "      <td>10:30:00</td>\n",
       "      <td>867 Willow St</td>\n",
       "      <td>Los Angeles</td>\n",
       "      <td>CA 90001</td>\n",
       "    </tr>\n",
       "    <tr>\n",
       "      <th>4</th>\n",
       "      <td>John Jacob</td>\n",
       "      <td>Wired Headphones</td>\n",
       "      <td>2</td>\n",
       "      <td>11.99</td>\n",
       "      <td>2019-01-17</td>\n",
       "      <td>13:33:00</td>\n",
       "      <td>946 Walnut St</td>\n",
       "      <td>Boston</td>\n",
       "      <td>MA 02215</td>\n",
       "    </tr>\n",
       "  </tbody>\n",
       "</table>\n",
       "</div>"
      ],
      "text/plain": [
       "               Name                     Product  Quantity Ordered  Price Each  \\\n",
       "0      Julie Dsouza    Apple Airpods Headphones                 1      150.00   \n",
       "1   Kelly Sebastian    Apple Airpods Headphones                 1      150.00   \n",
       "2  Daniel Fernandez      27in 4K Gaming Monitor                 1      389.99   \n",
       "3      Julie Dsouza  Bose SoundSport Headphones                 1       99.99   \n",
       "4        John Jacob            Wired Headphones                 2       11.99   \n",
       "\n",
       "         Date      Time        address          city    pincode  \n",
       "0  2019-01-22  21:20:00  868 Willow St   Los Angeles   CA 90001  \n",
       "1  2019-01-24  08:13:00   442 Cedar St      Portland   OR 97035  \n",
       "2  2019-01-26  12:16:00    741 10th St   Los Angeles   CA 90001  \n",
       "3  2019-01-01  10:30:00  867 Willow St   Los Angeles   CA 90001  \n",
       "4  2019-01-17  13:33:00  946 Walnut St        Boston   MA 02215  "
      ]
     },
     "execution_count": 69,
     "metadata": {},
     "output_type": "execute_result"
    }
   ],
   "source": [
    "df"
   ]
  },
  {
   "cell_type": "code",
   "execution_count": 71,
   "id": "7fccd68d",
   "metadata": {},
   "outputs": [],
   "source": [
    "df['Price range'] = pd.cut(df['Price Each'], bins = [0, 100, 200, 300, 400, 500], \n",
    "       labels = ['0 to 100', '101 to 200', '201 to 300', '301 to 400', '401 to 500'])  ## pd.cut to get price range"
   ]
  },
  {
   "cell_type": "code",
   "execution_count": 94,
   "id": "f1e79b55",
   "metadata": {},
   "outputs": [
    {
     "data": {
      "text/html": [
       "<div>\n",
       "<style scoped>\n",
       "    .dataframe tbody tr th:only-of-type {\n",
       "        vertical-align: middle;\n",
       "    }\n",
       "\n",
       "    .dataframe tbody tr th {\n",
       "        vertical-align: top;\n",
       "    }\n",
       "\n",
       "    .dataframe thead th {\n",
       "        text-align: right;\n",
       "    }\n",
       "</style>\n",
       "<table border=\"1\" class=\"dataframe\">\n",
       "  <thead>\n",
       "    <tr style=\"text-align: right;\">\n",
       "      <th></th>\n",
       "      <th>Name</th>\n",
       "      <th>Product</th>\n",
       "      <th>Quantity Ordered</th>\n",
       "      <th>Price Each</th>\n",
       "      <th>Date</th>\n",
       "      <th>Time</th>\n",
       "      <th>address</th>\n",
       "      <th>city</th>\n",
       "      <th>pincode</th>\n",
       "      <th>Price range</th>\n",
       "    </tr>\n",
       "  </thead>\n",
       "  <tbody>\n",
       "    <tr>\n",
       "      <th>0</th>\n",
       "      <td>Julie Dsouza</td>\n",
       "      <td>Apple Airpods Headphones</td>\n",
       "      <td>1</td>\n",
       "      <td>150.00</td>\n",
       "      <td>2019-01-22</td>\n",
       "      <td>21:20:00</td>\n",
       "      <td>868 Willow St</td>\n",
       "      <td>Los Angeles</td>\n",
       "      <td>CA 90001</td>\n",
       "      <td>101 to 200</td>\n",
       "    </tr>\n",
       "    <tr>\n",
       "      <th>1</th>\n",
       "      <td>Kelly Sebastian</td>\n",
       "      <td>Apple Airpods Headphones</td>\n",
       "      <td>1</td>\n",
       "      <td>150.00</td>\n",
       "      <td>2019-01-24</td>\n",
       "      <td>08:13:00</td>\n",
       "      <td>442 Cedar St</td>\n",
       "      <td>Portland</td>\n",
       "      <td>OR 97035</td>\n",
       "      <td>101 to 200</td>\n",
       "    </tr>\n",
       "    <tr>\n",
       "      <th>2</th>\n",
       "      <td>Daniel Fernandez</td>\n",
       "      <td>27in 4K Gaming Monitor</td>\n",
       "      <td>1</td>\n",
       "      <td>389.99</td>\n",
       "      <td>2019-01-26</td>\n",
       "      <td>12:16:00</td>\n",
       "      <td>741 10th St</td>\n",
       "      <td>Los Angeles</td>\n",
       "      <td>CA 90001</td>\n",
       "      <td>301 to 400</td>\n",
       "    </tr>\n",
       "    <tr>\n",
       "      <th>3</th>\n",
       "      <td>Julie Dsouza</td>\n",
       "      <td>Bose SoundSport Headphones</td>\n",
       "      <td>1</td>\n",
       "      <td>99.99</td>\n",
       "      <td>2019-01-01</td>\n",
       "      <td>10:30:00</td>\n",
       "      <td>867 Willow St</td>\n",
       "      <td>Los Angeles</td>\n",
       "      <td>CA 90001</td>\n",
       "      <td>0 to 100</td>\n",
       "    </tr>\n",
       "    <tr>\n",
       "      <th>4</th>\n",
       "      <td>John Jacob</td>\n",
       "      <td>Wired Headphones</td>\n",
       "      <td>2</td>\n",
       "      <td>11.99</td>\n",
       "      <td>2019-01-17</td>\n",
       "      <td>13:33:00</td>\n",
       "      <td>946 Walnut St</td>\n",
       "      <td>Boston</td>\n",
       "      <td>MA 02215</td>\n",
       "      <td>0 to 100</td>\n",
       "    </tr>\n",
       "  </tbody>\n",
       "</table>\n",
       "</div>"
      ],
      "text/plain": [
       "               Name                     Product  Quantity Ordered  Price Each  \\\n",
       "0      Julie Dsouza    Apple Airpods Headphones                 1      150.00   \n",
       "1   Kelly Sebastian    Apple Airpods Headphones                 1      150.00   \n",
       "2  Daniel Fernandez      27in 4K Gaming Monitor                 1      389.99   \n",
       "3      Julie Dsouza  Bose SoundSport Headphones                 1       99.99   \n",
       "4        John Jacob            Wired Headphones                 2       11.99   \n",
       "\n",
       "         Date      Time        address          city    pincode Price range  \n",
       "0  2019-01-22  21:20:00  868 Willow St   Los Angeles   CA 90001  101 to 200  \n",
       "1  2019-01-24  08:13:00   442 Cedar St      Portland   OR 97035  101 to 200  \n",
       "2  2019-01-26  12:16:00    741 10th St   Los Angeles   CA 90001  301 to 400  \n",
       "3  2019-01-01  10:30:00  867 Willow St   Los Angeles   CA 90001    0 to 100  \n",
       "4  2019-01-17  13:33:00  946 Walnut St        Boston   MA 02215    0 to 100  "
      ]
     },
     "execution_count": 94,
     "metadata": {},
     "output_type": "execute_result"
    }
   ],
   "source": [
    "df"
   ]
  },
  {
   "cell_type": "code",
   "execution_count": 95,
   "id": "e80f29e7",
   "metadata": {},
   "outputs": [
    {
     "data": {
      "text/plain": [
       "'Question\\nGiven a dataframe containing the distance ran by track runner (in 15 sec) for various attempts.\\n\\nWe want to find\\n\\nfor each runner, count of attempts in which the distance covered by runner was greater than the his/her average distance.\\n'"
      ]
     },
     "execution_count": 95,
     "metadata": {},
     "output_type": "execute_result"
    }
   ],
   "source": [
    "'''Question\n",
    "Given a dataframe containing the distance ran by track runner (in 15 sec) for various attempts.\n",
    "\n",
    "We want to find\n",
    "\n",
    "for each runner, count of attempts in which the distance covered by runner was greater than the his/her average distance.\n",
    "'''"
   ]
  },
  {
   "cell_type": "code",
   "execution_count": 111,
   "id": "47d12925",
   "metadata": {},
   "outputs": [],
   "source": [
    "df = pd.DataFrame({'runner': [1,2,3,4,1,2,3,4,1,2,3,4], 'distance' : [82, 101, 84, 106, 93, 86, 87, 82, 92, 86, 98, 84]})"
   ]
  },
  {
   "cell_type": "code",
   "execution_count": 112,
   "id": "552aa7bb",
   "metadata": {},
   "outputs": [
    {
     "data": {
      "text/html": [
       "<div>\n",
       "<style scoped>\n",
       "    .dataframe tbody tr th:only-of-type {\n",
       "        vertical-align: middle;\n",
       "    }\n",
       "\n",
       "    .dataframe tbody tr th {\n",
       "        vertical-align: top;\n",
       "    }\n",
       "\n",
       "    .dataframe thead th {\n",
       "        text-align: right;\n",
       "    }\n",
       "</style>\n",
       "<table border=\"1\" class=\"dataframe\">\n",
       "  <thead>\n",
       "    <tr style=\"text-align: right;\">\n",
       "      <th></th>\n",
       "      <th>runner</th>\n",
       "      <th>distance</th>\n",
       "    </tr>\n",
       "  </thead>\n",
       "  <tbody>\n",
       "    <tr>\n",
       "      <th>0</th>\n",
       "      <td>1</td>\n",
       "      <td>82</td>\n",
       "    </tr>\n",
       "    <tr>\n",
       "      <th>1</th>\n",
       "      <td>2</td>\n",
       "      <td>101</td>\n",
       "    </tr>\n",
       "    <tr>\n",
       "      <th>2</th>\n",
       "      <td>3</td>\n",
       "      <td>84</td>\n",
       "    </tr>\n",
       "    <tr>\n",
       "      <th>3</th>\n",
       "      <td>4</td>\n",
       "      <td>106</td>\n",
       "    </tr>\n",
       "    <tr>\n",
       "      <th>4</th>\n",
       "      <td>1</td>\n",
       "      <td>93</td>\n",
       "    </tr>\n",
       "    <tr>\n",
       "      <th>5</th>\n",
       "      <td>2</td>\n",
       "      <td>86</td>\n",
       "    </tr>\n",
       "    <tr>\n",
       "      <th>6</th>\n",
       "      <td>3</td>\n",
       "      <td>87</td>\n",
       "    </tr>\n",
       "    <tr>\n",
       "      <th>7</th>\n",
       "      <td>4</td>\n",
       "      <td>82</td>\n",
       "    </tr>\n",
       "    <tr>\n",
       "      <th>8</th>\n",
       "      <td>1</td>\n",
       "      <td>92</td>\n",
       "    </tr>\n",
       "    <tr>\n",
       "      <th>9</th>\n",
       "      <td>2</td>\n",
       "      <td>86</td>\n",
       "    </tr>\n",
       "    <tr>\n",
       "      <th>10</th>\n",
       "      <td>3</td>\n",
       "      <td>98</td>\n",
       "    </tr>\n",
       "    <tr>\n",
       "      <th>11</th>\n",
       "      <td>4</td>\n",
       "      <td>84</td>\n",
       "    </tr>\n",
       "  </tbody>\n",
       "</table>\n",
       "</div>"
      ],
      "text/plain": [
       "    runner  distance\n",
       "0        1        82\n",
       "1        2       101\n",
       "2        3        84\n",
       "3        4       106\n",
       "4        1        93\n",
       "5        2        86\n",
       "6        3        87\n",
       "7        4        82\n",
       "8        1        92\n",
       "9        2        86\n",
       "10       3        98\n",
       "11       4        84"
      ]
     },
     "execution_count": 112,
     "metadata": {},
     "output_type": "execute_result"
    }
   ],
   "source": [
    "df"
   ]
  },
  {
   "cell_type": "code",
   "execution_count": 113,
   "id": "1abb0d96",
   "metadata": {},
   "outputs": [],
   "source": [
    "x = df.groupby('runner')[['distance']].mean().round(2)"
   ]
  },
  {
   "cell_type": "code",
   "execution_count": 115,
   "id": "95b7be6d",
   "metadata": {},
   "outputs": [],
   "source": [
    "df = df.merge(x, on = 'runner')"
   ]
  },
  {
   "cell_type": "code",
   "execution_count": 117,
   "id": "c5da0477",
   "metadata": {},
   "outputs": [],
   "source": [
    "df['greater'] = df['distance_y'] > df['distance_x']"
   ]
  },
  {
   "cell_type": "code",
   "execution_count": 122,
   "id": "ccf326af",
   "metadata": {},
   "outputs": [
    {
     "data": {
      "text/html": [
       "<div>\n",
       "<style scoped>\n",
       "    .dataframe tbody tr th:only-of-type {\n",
       "        vertical-align: middle;\n",
       "    }\n",
       "\n",
       "    .dataframe tbody tr th {\n",
       "        vertical-align: top;\n",
       "    }\n",
       "\n",
       "    .dataframe thead th {\n",
       "        text-align: right;\n",
       "    }\n",
       "</style>\n",
       "<table border=\"1\" class=\"dataframe\">\n",
       "  <thead>\n",
       "    <tr style=\"text-align: right;\">\n",
       "      <th></th>\n",
       "      <th>runner</th>\n",
       "      <th>distance_x</th>\n",
       "      <th>distance_y</th>\n",
       "      <th>greater</th>\n",
       "    </tr>\n",
       "  </thead>\n",
       "  <tbody>\n",
       "    <tr>\n",
       "      <th>0</th>\n",
       "      <td>1</td>\n",
       "      <td>82</td>\n",
       "      <td>89.00</td>\n",
       "      <td>True</td>\n",
       "    </tr>\n",
       "    <tr>\n",
       "      <th>1</th>\n",
       "      <td>1</td>\n",
       "      <td>93</td>\n",
       "      <td>89.00</td>\n",
       "      <td>False</td>\n",
       "    </tr>\n",
       "    <tr>\n",
       "      <th>2</th>\n",
       "      <td>1</td>\n",
       "      <td>92</td>\n",
       "      <td>89.00</td>\n",
       "      <td>False</td>\n",
       "    </tr>\n",
       "    <tr>\n",
       "      <th>3</th>\n",
       "      <td>2</td>\n",
       "      <td>101</td>\n",
       "      <td>91.00</td>\n",
       "      <td>False</td>\n",
       "    </tr>\n",
       "    <tr>\n",
       "      <th>4</th>\n",
       "      <td>2</td>\n",
       "      <td>86</td>\n",
       "      <td>91.00</td>\n",
       "      <td>True</td>\n",
       "    </tr>\n",
       "    <tr>\n",
       "      <th>5</th>\n",
       "      <td>2</td>\n",
       "      <td>86</td>\n",
       "      <td>91.00</td>\n",
       "      <td>True</td>\n",
       "    </tr>\n",
       "    <tr>\n",
       "      <th>6</th>\n",
       "      <td>3</td>\n",
       "      <td>84</td>\n",
       "      <td>89.67</td>\n",
       "      <td>True</td>\n",
       "    </tr>\n",
       "    <tr>\n",
       "      <th>7</th>\n",
       "      <td>3</td>\n",
       "      <td>87</td>\n",
       "      <td>89.67</td>\n",
       "      <td>True</td>\n",
       "    </tr>\n",
       "    <tr>\n",
       "      <th>8</th>\n",
       "      <td>3</td>\n",
       "      <td>98</td>\n",
       "      <td>89.67</td>\n",
       "      <td>False</td>\n",
       "    </tr>\n",
       "    <tr>\n",
       "      <th>9</th>\n",
       "      <td>4</td>\n",
       "      <td>106</td>\n",
       "      <td>90.67</td>\n",
       "      <td>False</td>\n",
       "    </tr>\n",
       "    <tr>\n",
       "      <th>10</th>\n",
       "      <td>4</td>\n",
       "      <td>82</td>\n",
       "      <td>90.67</td>\n",
       "      <td>True</td>\n",
       "    </tr>\n",
       "    <tr>\n",
       "      <th>11</th>\n",
       "      <td>4</td>\n",
       "      <td>84</td>\n",
       "      <td>90.67</td>\n",
       "      <td>True</td>\n",
       "    </tr>\n",
       "  </tbody>\n",
       "</table>\n",
       "</div>"
      ],
      "text/plain": [
       "    runner  distance_x  distance_y  greater\n",
       "0        1          82       89.00     True\n",
       "1        1          93       89.00    False\n",
       "2        1          92       89.00    False\n",
       "3        2         101       91.00    False\n",
       "4        2          86       91.00     True\n",
       "5        2          86       91.00     True\n",
       "6        3          84       89.67     True\n",
       "7        3          87       89.67     True\n",
       "8        3          98       89.67    False\n",
       "9        4         106       90.67    False\n",
       "10       4          82       90.67     True\n",
       "11       4          84       90.67     True"
      ]
     },
     "execution_count": 122,
     "metadata": {},
     "output_type": "execute_result"
    }
   ],
   "source": [
    "df"
   ]
  },
  {
   "cell_type": "code",
   "execution_count": 124,
   "id": "989e5ca2",
   "metadata": {},
   "outputs": [
    {
     "data": {
      "text/html": [
       "<div>\n",
       "<style scoped>\n",
       "    .dataframe tbody tr th:only-of-type {\n",
       "        vertical-align: middle;\n",
       "    }\n",
       "\n",
       "    .dataframe tbody tr th {\n",
       "        vertical-align: top;\n",
       "    }\n",
       "\n",
       "    .dataframe thead th {\n",
       "        text-align: right;\n",
       "    }\n",
       "</style>\n",
       "<table border=\"1\" class=\"dataframe\">\n",
       "  <thead>\n",
       "    <tr style=\"text-align: right;\">\n",
       "      <th></th>\n",
       "      <th>greater</th>\n",
       "    </tr>\n",
       "    <tr>\n",
       "      <th>runner</th>\n",
       "      <th></th>\n",
       "    </tr>\n",
       "  </thead>\n",
       "  <tbody>\n",
       "    <tr>\n",
       "      <th>1</th>\n",
       "      <td>1</td>\n",
       "    </tr>\n",
       "    <tr>\n",
       "      <th>2</th>\n",
       "      <td>2</td>\n",
       "    </tr>\n",
       "    <tr>\n",
       "      <th>3</th>\n",
       "      <td>2</td>\n",
       "    </tr>\n",
       "    <tr>\n",
       "      <th>4</th>\n",
       "      <td>2</td>\n",
       "    </tr>\n",
       "  </tbody>\n",
       "</table>\n",
       "</div>"
      ],
      "text/plain": [
       "        greater\n",
       "runner         \n",
       "1             1\n",
       "2             2\n",
       "3             2\n",
       "4             2"
      ]
     },
     "execution_count": 124,
     "metadata": {},
     "output_type": "execute_result"
    }
   ],
   "source": [
    "df.loc[df['greater'] == True].groupby('runner')[['greater']].agg('count')"
   ]
  },
  {
   "cell_type": "code",
   "execution_count": 125,
   "id": "b516b7dd",
   "metadata": {},
   "outputs": [
    {
     "data": {
      "text/plain": [
       "'Question\\nGiven a dataset about salesperson and customer orders, the task is to group the data as per salesman_id and customer_id, \\nand return a new dataframe with the ord_no count for each salesman_id and customer_id pair.\\n'"
      ]
     },
     "execution_count": 125,
     "metadata": {},
     "output_type": "execute_result"
    }
   ],
   "source": [
    "'''Question\n",
    "Given a dataset about salesperson and customer orders, the task is to group the data as per salesman_id and customer_id, \n",
    "and return a new dataframe with the ord_no count for each salesman_id and customer_id pair.\n",
    "'''"
   ]
  },
  {
   "cell_type": "code",
   "execution_count": 127,
   "id": "e703a59c",
   "metadata": {},
   "outputs": [],
   "source": [
    "data = {\n",
    "    'ord_no': [70001, 70009, 70002, 70004, 70007, 70005, 70008, 70010, 70003, 70012, 70011, 70013],\n",
    "    'purch_amt': [150.50, 270.65, 65.26, 110.50, 948.50, 2400.60, 5760.00, 1983.43, 2480.40, 250.45, 75.29, 3045.60],\n",
    "    'ord_date': ['2012-10-05', '2012-09-10', '2012-10-05', '2012-08-17', '2012-09-10', '2012-07-27', '2012-09-10', '2012-10-10', '2012-10-10', '2012-06-27', '2012-08-17', '2012-04-25'],\n",
    "    'customer_id': [3005, 3001, 3002, 3009, 3005, 3007, 3002, 3004, 3009, 3008, 3003, 3002],\n",
    "    'salesman_id': [5002, 5005, 5001, 5003, 5002, 5001, 5001, 5006, 5003, 5002, 5007, 5001]\n",
    "}\n",
    "\n",
    "df = pd.DataFrame(data)"
   ]
  },
  {
   "cell_type": "code",
   "execution_count": 128,
   "id": "1ee482df",
   "metadata": {},
   "outputs": [
    {
     "data": {
      "text/html": [
       "<div>\n",
       "<style scoped>\n",
       "    .dataframe tbody tr th:only-of-type {\n",
       "        vertical-align: middle;\n",
       "    }\n",
       "\n",
       "    .dataframe tbody tr th {\n",
       "        vertical-align: top;\n",
       "    }\n",
       "\n",
       "    .dataframe thead th {\n",
       "        text-align: right;\n",
       "    }\n",
       "</style>\n",
       "<table border=\"1\" class=\"dataframe\">\n",
       "  <thead>\n",
       "    <tr style=\"text-align: right;\">\n",
       "      <th></th>\n",
       "      <th>ord_no</th>\n",
       "      <th>purch_amt</th>\n",
       "      <th>ord_date</th>\n",
       "      <th>customer_id</th>\n",
       "      <th>salesman_id</th>\n",
       "    </tr>\n",
       "  </thead>\n",
       "  <tbody>\n",
       "    <tr>\n",
       "      <th>0</th>\n",
       "      <td>70001</td>\n",
       "      <td>150.50</td>\n",
       "      <td>2012-10-05</td>\n",
       "      <td>3005</td>\n",
       "      <td>5002</td>\n",
       "    </tr>\n",
       "    <tr>\n",
       "      <th>1</th>\n",
       "      <td>70009</td>\n",
       "      <td>270.65</td>\n",
       "      <td>2012-09-10</td>\n",
       "      <td>3001</td>\n",
       "      <td>5005</td>\n",
       "    </tr>\n",
       "    <tr>\n",
       "      <th>2</th>\n",
       "      <td>70002</td>\n",
       "      <td>65.26</td>\n",
       "      <td>2012-10-05</td>\n",
       "      <td>3002</td>\n",
       "      <td>5001</td>\n",
       "    </tr>\n",
       "    <tr>\n",
       "      <th>3</th>\n",
       "      <td>70004</td>\n",
       "      <td>110.50</td>\n",
       "      <td>2012-08-17</td>\n",
       "      <td>3009</td>\n",
       "      <td>5003</td>\n",
       "    </tr>\n",
       "    <tr>\n",
       "      <th>4</th>\n",
       "      <td>70007</td>\n",
       "      <td>948.50</td>\n",
       "      <td>2012-09-10</td>\n",
       "      <td>3005</td>\n",
       "      <td>5002</td>\n",
       "    </tr>\n",
       "    <tr>\n",
       "      <th>5</th>\n",
       "      <td>70005</td>\n",
       "      <td>2400.60</td>\n",
       "      <td>2012-07-27</td>\n",
       "      <td>3007</td>\n",
       "      <td>5001</td>\n",
       "    </tr>\n",
       "    <tr>\n",
       "      <th>6</th>\n",
       "      <td>70008</td>\n",
       "      <td>5760.00</td>\n",
       "      <td>2012-09-10</td>\n",
       "      <td>3002</td>\n",
       "      <td>5001</td>\n",
       "    </tr>\n",
       "    <tr>\n",
       "      <th>7</th>\n",
       "      <td>70010</td>\n",
       "      <td>1983.43</td>\n",
       "      <td>2012-10-10</td>\n",
       "      <td>3004</td>\n",
       "      <td>5006</td>\n",
       "    </tr>\n",
       "    <tr>\n",
       "      <th>8</th>\n",
       "      <td>70003</td>\n",
       "      <td>2480.40</td>\n",
       "      <td>2012-10-10</td>\n",
       "      <td>3009</td>\n",
       "      <td>5003</td>\n",
       "    </tr>\n",
       "    <tr>\n",
       "      <th>9</th>\n",
       "      <td>70012</td>\n",
       "      <td>250.45</td>\n",
       "      <td>2012-06-27</td>\n",
       "      <td>3008</td>\n",
       "      <td>5002</td>\n",
       "    </tr>\n",
       "    <tr>\n",
       "      <th>10</th>\n",
       "      <td>70011</td>\n",
       "      <td>75.29</td>\n",
       "      <td>2012-08-17</td>\n",
       "      <td>3003</td>\n",
       "      <td>5007</td>\n",
       "    </tr>\n",
       "    <tr>\n",
       "      <th>11</th>\n",
       "      <td>70013</td>\n",
       "      <td>3045.60</td>\n",
       "      <td>2012-04-25</td>\n",
       "      <td>3002</td>\n",
       "      <td>5001</td>\n",
       "    </tr>\n",
       "  </tbody>\n",
       "</table>\n",
       "</div>"
      ],
      "text/plain": [
       "    ord_no  purch_amt    ord_date  customer_id  salesman_id\n",
       "0    70001     150.50  2012-10-05         3005         5002\n",
       "1    70009     270.65  2012-09-10         3001         5005\n",
       "2    70002      65.26  2012-10-05         3002         5001\n",
       "3    70004     110.50  2012-08-17         3009         5003\n",
       "4    70007     948.50  2012-09-10         3005         5002\n",
       "5    70005    2400.60  2012-07-27         3007         5001\n",
       "6    70008    5760.00  2012-09-10         3002         5001\n",
       "7    70010    1983.43  2012-10-10         3004         5006\n",
       "8    70003    2480.40  2012-10-10         3009         5003\n",
       "9    70012     250.45  2012-06-27         3008         5002\n",
       "10   70011      75.29  2012-08-17         3003         5007\n",
       "11   70013    3045.60  2012-04-25         3002         5001"
      ]
     },
     "execution_count": 128,
     "metadata": {},
     "output_type": "execute_result"
    }
   ],
   "source": [
    "df"
   ]
  },
  {
   "cell_type": "code",
   "execution_count": 131,
   "id": "e7fd5c04",
   "metadata": {},
   "outputs": [
    {
     "data": {
      "text/html": [
       "<div>\n",
       "<style scoped>\n",
       "    .dataframe tbody tr th:only-of-type {\n",
       "        vertical-align: middle;\n",
       "    }\n",
       "\n",
       "    .dataframe tbody tr th {\n",
       "        vertical-align: top;\n",
       "    }\n",
       "\n",
       "    .dataframe thead th {\n",
       "        text-align: right;\n",
       "    }\n",
       "</style>\n",
       "<table border=\"1\" class=\"dataframe\">\n",
       "  <thead>\n",
       "    <tr style=\"text-align: right;\">\n",
       "      <th></th>\n",
       "      <th>salesman_id</th>\n",
       "      <th>customer_id</th>\n",
       "      <th>ord_no</th>\n",
       "    </tr>\n",
       "  </thead>\n",
       "  <tbody>\n",
       "    <tr>\n",
       "      <th>0</th>\n",
       "      <td>5001</td>\n",
       "      <td>3002</td>\n",
       "      <td>3</td>\n",
       "    </tr>\n",
       "    <tr>\n",
       "      <th>1</th>\n",
       "      <td>5001</td>\n",
       "      <td>3007</td>\n",
       "      <td>1</td>\n",
       "    </tr>\n",
       "    <tr>\n",
       "      <th>2</th>\n",
       "      <td>5002</td>\n",
       "      <td>3005</td>\n",
       "      <td>2</td>\n",
       "    </tr>\n",
       "    <tr>\n",
       "      <th>3</th>\n",
       "      <td>5002</td>\n",
       "      <td>3008</td>\n",
       "      <td>1</td>\n",
       "    </tr>\n",
       "    <tr>\n",
       "      <th>4</th>\n",
       "      <td>5003</td>\n",
       "      <td>3009</td>\n",
       "      <td>2</td>\n",
       "    </tr>\n",
       "    <tr>\n",
       "      <th>5</th>\n",
       "      <td>5005</td>\n",
       "      <td>3001</td>\n",
       "      <td>1</td>\n",
       "    </tr>\n",
       "    <tr>\n",
       "      <th>6</th>\n",
       "      <td>5006</td>\n",
       "      <td>3004</td>\n",
       "      <td>1</td>\n",
       "    </tr>\n",
       "    <tr>\n",
       "      <th>7</th>\n",
       "      <td>5007</td>\n",
       "      <td>3003</td>\n",
       "      <td>1</td>\n",
       "    </tr>\n",
       "  </tbody>\n",
       "</table>\n",
       "</div>"
      ],
      "text/plain": [
       "   salesman_id  customer_id  ord_no\n",
       "0         5001         3002       3\n",
       "1         5001         3007       1\n",
       "2         5002         3005       2\n",
       "3         5002         3008       1\n",
       "4         5003         3009       2\n",
       "5         5005         3001       1\n",
       "6         5006         3004       1\n",
       "7         5007         3003       1"
      ]
     },
     "execution_count": 131,
     "metadata": {},
     "output_type": "execute_result"
    }
   ],
   "source": [
    "df.groupby(['salesman_id', 'customer_id'])[['ord_no']].agg('count').reset_index()"
   ]
  },
  {
   "cell_type": "code",
   "execution_count": 132,
   "id": "8aa308e2",
   "metadata": {},
   "outputs": [
    {
     "data": {
      "text/plain": [
       "\"Question\\nGiven a dataframe containing student's marks for multiple subjects,\\n\\nReturn a dataframe which contains records of subject-wise highest marks along with their roll number.\\n\""
      ]
     },
     "execution_count": 132,
     "metadata": {},
     "output_type": "execute_result"
    }
   ],
   "source": [
    "'''Question\n",
    "Given a dataframe containing student's marks for multiple subjects,\n",
    "\n",
    "Return a dataframe which contains records of subject-wise highest marks along with their roll number.\n",
    "'''"
   ]
  },
  {
   "cell_type": "code",
   "execution_count": 133,
   "id": "4759107d",
   "metadata": {},
   "outputs": [],
   "source": [
    "data = {\n",
    "    'roll_no': [1, 2, 1, 3, 1, 3, 3, 3, 2, 2, 1, 2],\n",
    "    'subject': ['NN', 'DL', 'ML', 'Prob', 'DL', 'ML', 'DL', 'NN', 'NN', 'Prob', 'Prob', 'ML'],\n",
    "    'marks': [97, 63, 63, 71, 64, 90, 66, 46, 74, 62, 94, 67]\n",
    "}\n",
    "\n",
    "df = pd.DataFrame(data)"
   ]
  },
  {
   "cell_type": "code",
   "execution_count": 134,
   "id": "263c2a1e",
   "metadata": {},
   "outputs": [
    {
     "data": {
      "text/html": [
       "<div>\n",
       "<style scoped>\n",
       "    .dataframe tbody tr th:only-of-type {\n",
       "        vertical-align: middle;\n",
       "    }\n",
       "\n",
       "    .dataframe tbody tr th {\n",
       "        vertical-align: top;\n",
       "    }\n",
       "\n",
       "    .dataframe thead th {\n",
       "        text-align: right;\n",
       "    }\n",
       "</style>\n",
       "<table border=\"1\" class=\"dataframe\">\n",
       "  <thead>\n",
       "    <tr style=\"text-align: right;\">\n",
       "      <th></th>\n",
       "      <th>roll_no</th>\n",
       "      <th>subject</th>\n",
       "      <th>marks</th>\n",
       "    </tr>\n",
       "  </thead>\n",
       "  <tbody>\n",
       "    <tr>\n",
       "      <th>0</th>\n",
       "      <td>1</td>\n",
       "      <td>NN</td>\n",
       "      <td>97</td>\n",
       "    </tr>\n",
       "    <tr>\n",
       "      <th>1</th>\n",
       "      <td>2</td>\n",
       "      <td>DL</td>\n",
       "      <td>63</td>\n",
       "    </tr>\n",
       "    <tr>\n",
       "      <th>2</th>\n",
       "      <td>1</td>\n",
       "      <td>ML</td>\n",
       "      <td>63</td>\n",
       "    </tr>\n",
       "    <tr>\n",
       "      <th>3</th>\n",
       "      <td>3</td>\n",
       "      <td>Prob</td>\n",
       "      <td>71</td>\n",
       "    </tr>\n",
       "    <tr>\n",
       "      <th>4</th>\n",
       "      <td>1</td>\n",
       "      <td>DL</td>\n",
       "      <td>64</td>\n",
       "    </tr>\n",
       "    <tr>\n",
       "      <th>5</th>\n",
       "      <td>3</td>\n",
       "      <td>ML</td>\n",
       "      <td>90</td>\n",
       "    </tr>\n",
       "    <tr>\n",
       "      <th>6</th>\n",
       "      <td>3</td>\n",
       "      <td>DL</td>\n",
       "      <td>66</td>\n",
       "    </tr>\n",
       "    <tr>\n",
       "      <th>7</th>\n",
       "      <td>3</td>\n",
       "      <td>NN</td>\n",
       "      <td>46</td>\n",
       "    </tr>\n",
       "    <tr>\n",
       "      <th>8</th>\n",
       "      <td>2</td>\n",
       "      <td>NN</td>\n",
       "      <td>74</td>\n",
       "    </tr>\n",
       "    <tr>\n",
       "      <th>9</th>\n",
       "      <td>2</td>\n",
       "      <td>Prob</td>\n",
       "      <td>62</td>\n",
       "    </tr>\n",
       "    <tr>\n",
       "      <th>10</th>\n",
       "      <td>1</td>\n",
       "      <td>Prob</td>\n",
       "      <td>94</td>\n",
       "    </tr>\n",
       "    <tr>\n",
       "      <th>11</th>\n",
       "      <td>2</td>\n",
       "      <td>ML</td>\n",
       "      <td>67</td>\n",
       "    </tr>\n",
       "  </tbody>\n",
       "</table>\n",
       "</div>"
      ],
      "text/plain": [
       "    roll_no subject  marks\n",
       "0         1      NN     97\n",
       "1         2      DL     63\n",
       "2         1      ML     63\n",
       "3         3    Prob     71\n",
       "4         1      DL     64\n",
       "5         3      ML     90\n",
       "6         3      DL     66\n",
       "7         3      NN     46\n",
       "8         2      NN     74\n",
       "9         2    Prob     62\n",
       "10        1    Prob     94\n",
       "11        2      ML     67"
      ]
     },
     "execution_count": 134,
     "metadata": {},
     "output_type": "execute_result"
    }
   ],
   "source": [
    "df"
   ]
  },
  {
   "cell_type": "code",
   "execution_count": 143,
   "id": "1af30c19",
   "metadata": {},
   "outputs": [],
   "source": [
    "merged = df.groupby('subject')[['marks']].agg({'marks' : 'max'}).reset_index()"
   ]
  },
  {
   "cell_type": "code",
   "execution_count": 145,
   "id": "1591e22b",
   "metadata": {},
   "outputs": [],
   "source": [
    "res = merged.merge(df, on = ['subject', 'marks'], how = 'inner')"
   ]
  },
  {
   "cell_type": "code",
   "execution_count": 146,
   "id": "1b66ab16",
   "metadata": {},
   "outputs": [
    {
     "data": {
      "text/html": [
       "<div>\n",
       "<style scoped>\n",
       "    .dataframe tbody tr th:only-of-type {\n",
       "        vertical-align: middle;\n",
       "    }\n",
       "\n",
       "    .dataframe tbody tr th {\n",
       "        vertical-align: top;\n",
       "    }\n",
       "\n",
       "    .dataframe thead th {\n",
       "        text-align: right;\n",
       "    }\n",
       "</style>\n",
       "<table border=\"1\" class=\"dataframe\">\n",
       "  <thead>\n",
       "    <tr style=\"text-align: right;\">\n",
       "      <th></th>\n",
       "      <th>subject</th>\n",
       "      <th>marks</th>\n",
       "      <th>roll_no</th>\n",
       "    </tr>\n",
       "  </thead>\n",
       "  <tbody>\n",
       "    <tr>\n",
       "      <th>0</th>\n",
       "      <td>DL</td>\n",
       "      <td>66</td>\n",
       "      <td>3</td>\n",
       "    </tr>\n",
       "    <tr>\n",
       "      <th>1</th>\n",
       "      <td>ML</td>\n",
       "      <td>90</td>\n",
       "      <td>3</td>\n",
       "    </tr>\n",
       "    <tr>\n",
       "      <th>2</th>\n",
       "      <td>NN</td>\n",
       "      <td>97</td>\n",
       "      <td>1</td>\n",
       "    </tr>\n",
       "    <tr>\n",
       "      <th>3</th>\n",
       "      <td>Prob</td>\n",
       "      <td>94</td>\n",
       "      <td>1</td>\n",
       "    </tr>\n",
       "  </tbody>\n",
       "</table>\n",
       "</div>"
      ],
      "text/plain": [
       "  subject  marks  roll_no\n",
       "0      DL     66        3\n",
       "1      ML     90        3\n",
       "2      NN     97        1\n",
       "3    Prob     94        1"
      ]
     },
     "execution_count": 146,
     "metadata": {},
     "output_type": "execute_result"
    }
   ],
   "source": [
    "res"
   ]
  },
  {
   "cell_type": "code",
   "execution_count": 147,
   "id": "cd4efbb0",
   "metadata": {},
   "outputs": [
    {
     "data": {
      "text/plain": [
       "'Question\\nGiven a dataframe df as input, perform the following steps for preprocessing:\\n\\n1. Remove the row if all the columns have missing values.\\n2. Replace the missing values of Roll_ID column with 0 and Name column with \"Anonymous\".\\n3. Replace the missing values in Marks column with the median value of the column.\\n4. Change the numerical columns (Roll_ID and Marks) to int datatype in the output.\\n5. Reset the index of the dataframe returned as shown in the sample output.\\n\\nNote: Every column of the input dataframe df is currently of object type.\\n'"
      ]
     },
     "execution_count": 147,
     "metadata": {},
     "output_type": "execute_result"
    }
   ],
   "source": [
    "'''Question\n",
    "Given a dataframe df as input, perform the following steps for preprocessing:\n",
    "\n",
    "1. Remove the row if all the columns have missing values.\n",
    "2. Replace the missing values of Roll_ID column with 0 and Name column with \"Anonymous\".\n",
    "3. Replace the missing values in Marks column with the median value of the column.\n",
    "4. Change the numerical columns (Roll_ID and Marks) to int datatype in the output.\n",
    "5. Reset the index of the dataframe returned as shown in the sample output.\n",
    "\n",
    "Note: Every column of the input dataframe df is currently of object type.\n",
    "'''"
   ]
  },
  {
   "cell_type": "code",
   "execution_count": 148,
   "id": "519aeb7b",
   "metadata": {},
   "outputs": [],
   "source": [
    "data = {\n",
    "    'Roll_ID': ['412', np.nan, '456', np.nan, '434', '429', '418'],\n",
    "    'Name': ['John', 'Mitra', 'Ritz', np.nan, 'Anny', 'Hema', np.nan],\n",
    "    'Marks': [np.nan, '32', '25', np.nan, '35', '28', '38']\n",
    "}\n",
    "\n",
    "df = pd.DataFrame(data)"
   ]
  },
  {
   "cell_type": "code",
   "execution_count": 149,
   "id": "9049e476",
   "metadata": {},
   "outputs": [
    {
     "data": {
      "text/html": [
       "<div>\n",
       "<style scoped>\n",
       "    .dataframe tbody tr th:only-of-type {\n",
       "        vertical-align: middle;\n",
       "    }\n",
       "\n",
       "    .dataframe tbody tr th {\n",
       "        vertical-align: top;\n",
       "    }\n",
       "\n",
       "    .dataframe thead th {\n",
       "        text-align: right;\n",
       "    }\n",
       "</style>\n",
       "<table border=\"1\" class=\"dataframe\">\n",
       "  <thead>\n",
       "    <tr style=\"text-align: right;\">\n",
       "      <th></th>\n",
       "      <th>Roll_ID</th>\n",
       "      <th>Name</th>\n",
       "      <th>Marks</th>\n",
       "    </tr>\n",
       "  </thead>\n",
       "  <tbody>\n",
       "    <tr>\n",
       "      <th>0</th>\n",
       "      <td>412</td>\n",
       "      <td>John</td>\n",
       "      <td>NaN</td>\n",
       "    </tr>\n",
       "    <tr>\n",
       "      <th>1</th>\n",
       "      <td>NaN</td>\n",
       "      <td>Mitra</td>\n",
       "      <td>32</td>\n",
       "    </tr>\n",
       "    <tr>\n",
       "      <th>2</th>\n",
       "      <td>456</td>\n",
       "      <td>Ritz</td>\n",
       "      <td>25</td>\n",
       "    </tr>\n",
       "    <tr>\n",
       "      <th>3</th>\n",
       "      <td>NaN</td>\n",
       "      <td>NaN</td>\n",
       "      <td>NaN</td>\n",
       "    </tr>\n",
       "    <tr>\n",
       "      <th>4</th>\n",
       "      <td>434</td>\n",
       "      <td>Anny</td>\n",
       "      <td>35</td>\n",
       "    </tr>\n",
       "    <tr>\n",
       "      <th>5</th>\n",
       "      <td>429</td>\n",
       "      <td>Hema</td>\n",
       "      <td>28</td>\n",
       "    </tr>\n",
       "    <tr>\n",
       "      <th>6</th>\n",
       "      <td>418</td>\n",
       "      <td>NaN</td>\n",
       "      <td>38</td>\n",
       "    </tr>\n",
       "  </tbody>\n",
       "</table>\n",
       "</div>"
      ],
      "text/plain": [
       "  Roll_ID   Name Marks\n",
       "0     412   John   NaN\n",
       "1     NaN  Mitra    32\n",
       "2     456   Ritz    25\n",
       "3     NaN    NaN   NaN\n",
       "4     434   Anny    35\n",
       "5     429   Hema    28\n",
       "6     418    NaN    38"
      ]
     },
     "execution_count": 149,
     "metadata": {},
     "output_type": "execute_result"
    }
   ],
   "source": [
    "df"
   ]
  },
  {
   "cell_type": "code",
   "execution_count": 150,
   "id": "5469132c",
   "metadata": {},
   "outputs": [
    {
     "data": {
      "text/plain": [
       "0    1\n",
       "1    1\n",
       "2    0\n",
       "3    3\n",
       "4    0\n",
       "5    0\n",
       "6    1\n",
       "dtype: int64"
      ]
     },
     "execution_count": 150,
     "metadata": {},
     "output_type": "execute_result"
    }
   ],
   "source": [
    "def is_null(x):\n",
    "    return sum(x.isnull())\n",
    "df.apply(is_null, axis=1)"
   ]
  },
  {
   "cell_type": "code",
   "execution_count": 153,
   "id": "da47a85a",
   "metadata": {},
   "outputs": [],
   "source": [
    "df['Roll_ID'].fillna(0, inplace = True)"
   ]
  },
  {
   "cell_type": "code",
   "execution_count": 155,
   "id": "3ae4c46a",
   "metadata": {},
   "outputs": [],
   "source": [
    "df['Name'].fillna('Anonymous', inplace = True)"
   ]
  },
  {
   "cell_type": "code",
   "execution_count": 156,
   "id": "5c8ad080",
   "metadata": {},
   "outputs": [
    {
     "data": {
      "text/html": [
       "<div>\n",
       "<style scoped>\n",
       "    .dataframe tbody tr th:only-of-type {\n",
       "        vertical-align: middle;\n",
       "    }\n",
       "\n",
       "    .dataframe tbody tr th {\n",
       "        vertical-align: top;\n",
       "    }\n",
       "\n",
       "    .dataframe thead th {\n",
       "        text-align: right;\n",
       "    }\n",
       "</style>\n",
       "<table border=\"1\" class=\"dataframe\">\n",
       "  <thead>\n",
       "    <tr style=\"text-align: right;\">\n",
       "      <th></th>\n",
       "      <th>Roll_ID</th>\n",
       "      <th>Name</th>\n",
       "      <th>Marks</th>\n",
       "    </tr>\n",
       "  </thead>\n",
       "  <tbody>\n",
       "    <tr>\n",
       "      <th>0</th>\n",
       "      <td>412</td>\n",
       "      <td>John</td>\n",
       "      <td>NaN</td>\n",
       "    </tr>\n",
       "    <tr>\n",
       "      <th>1</th>\n",
       "      <td>0</td>\n",
       "      <td>Mitra</td>\n",
       "      <td>32</td>\n",
       "    </tr>\n",
       "    <tr>\n",
       "      <th>2</th>\n",
       "      <td>456</td>\n",
       "      <td>Ritz</td>\n",
       "      <td>25</td>\n",
       "    </tr>\n",
       "    <tr>\n",
       "      <th>3</th>\n",
       "      <td>0</td>\n",
       "      <td>Anonymous</td>\n",
       "      <td>NaN</td>\n",
       "    </tr>\n",
       "    <tr>\n",
       "      <th>4</th>\n",
       "      <td>434</td>\n",
       "      <td>Anny</td>\n",
       "      <td>35</td>\n",
       "    </tr>\n",
       "    <tr>\n",
       "      <th>5</th>\n",
       "      <td>429</td>\n",
       "      <td>Hema</td>\n",
       "      <td>28</td>\n",
       "    </tr>\n",
       "    <tr>\n",
       "      <th>6</th>\n",
       "      <td>418</td>\n",
       "      <td>Anonymous</td>\n",
       "      <td>38</td>\n",
       "    </tr>\n",
       "  </tbody>\n",
       "</table>\n",
       "</div>"
      ],
      "text/plain": [
       "  Roll_ID       Name Marks\n",
       "0     412       John   NaN\n",
       "1       0      Mitra    32\n",
       "2     456       Ritz    25\n",
       "3       0  Anonymous   NaN\n",
       "4     434       Anny    35\n",
       "5     429       Hema    28\n",
       "6     418  Anonymous    38"
      ]
     },
     "execution_count": 156,
     "metadata": {},
     "output_type": "execute_result"
    }
   ],
   "source": [
    "df"
   ]
  },
  {
   "cell_type": "code",
   "execution_count": 158,
   "id": "57807539",
   "metadata": {},
   "outputs": [],
   "source": [
    "df['Marks'].fillna(df['Marks'].median(), inplace = True)"
   ]
  },
  {
   "cell_type": "code",
   "execution_count": 159,
   "id": "88c0aec2",
   "metadata": {},
   "outputs": [
    {
     "data": {
      "text/html": [
       "<div>\n",
       "<style scoped>\n",
       "    .dataframe tbody tr th:only-of-type {\n",
       "        vertical-align: middle;\n",
       "    }\n",
       "\n",
       "    .dataframe tbody tr th {\n",
       "        vertical-align: top;\n",
       "    }\n",
       "\n",
       "    .dataframe thead th {\n",
       "        text-align: right;\n",
       "    }\n",
       "</style>\n",
       "<table border=\"1\" class=\"dataframe\">\n",
       "  <thead>\n",
       "    <tr style=\"text-align: right;\">\n",
       "      <th></th>\n",
       "      <th>Roll_ID</th>\n",
       "      <th>Name</th>\n",
       "      <th>Marks</th>\n",
       "    </tr>\n",
       "  </thead>\n",
       "  <tbody>\n",
       "    <tr>\n",
       "      <th>0</th>\n",
       "      <td>412</td>\n",
       "      <td>John</td>\n",
       "      <td>32.0</td>\n",
       "    </tr>\n",
       "    <tr>\n",
       "      <th>1</th>\n",
       "      <td>0</td>\n",
       "      <td>Mitra</td>\n",
       "      <td>32</td>\n",
       "    </tr>\n",
       "    <tr>\n",
       "      <th>2</th>\n",
       "      <td>456</td>\n",
       "      <td>Ritz</td>\n",
       "      <td>25</td>\n",
       "    </tr>\n",
       "    <tr>\n",
       "      <th>3</th>\n",
       "      <td>0</td>\n",
       "      <td>Anonymous</td>\n",
       "      <td>32.0</td>\n",
       "    </tr>\n",
       "    <tr>\n",
       "      <th>4</th>\n",
       "      <td>434</td>\n",
       "      <td>Anny</td>\n",
       "      <td>35</td>\n",
       "    </tr>\n",
       "    <tr>\n",
       "      <th>5</th>\n",
       "      <td>429</td>\n",
       "      <td>Hema</td>\n",
       "      <td>28</td>\n",
       "    </tr>\n",
       "    <tr>\n",
       "      <th>6</th>\n",
       "      <td>418</td>\n",
       "      <td>Anonymous</td>\n",
       "      <td>38</td>\n",
       "    </tr>\n",
       "  </tbody>\n",
       "</table>\n",
       "</div>"
      ],
      "text/plain": [
       "  Roll_ID       Name Marks\n",
       "0     412       John  32.0\n",
       "1       0      Mitra    32\n",
       "2     456       Ritz    25\n",
       "3       0  Anonymous  32.0\n",
       "4     434       Anny    35\n",
       "5     429       Hema    28\n",
       "6     418  Anonymous    38"
      ]
     },
     "execution_count": 159,
     "metadata": {},
     "output_type": "execute_result"
    }
   ],
   "source": [
    "df"
   ]
  },
  {
   "cell_type": "code",
   "execution_count": 160,
   "id": "33ab0d01",
   "metadata": {},
   "outputs": [],
   "source": [
    "df[['Roll_ID', 'Marks']] = df[['Roll_ID', 'Marks']].astype('int')"
   ]
  },
  {
   "cell_type": "code",
   "execution_count": 161,
   "id": "eddfd8c9",
   "metadata": {},
   "outputs": [
    {
     "data": {
      "text/plain": [
       "Roll_ID     int32\n",
       "Name       object\n",
       "Marks       int32\n",
       "dtype: object"
      ]
     },
     "execution_count": 161,
     "metadata": {},
     "output_type": "execute_result"
    }
   ],
   "source": [
    "df.dtypes"
   ]
  },
  {
   "cell_type": "code",
   "execution_count": 168,
   "id": "097db4bb",
   "metadata": {},
   "outputs": [
    {
     "data": {
      "text/html": [
       "<div>\n",
       "<style scoped>\n",
       "    .dataframe tbody tr th:only-of-type {\n",
       "        vertical-align: middle;\n",
       "    }\n",
       "\n",
       "    .dataframe tbody tr th {\n",
       "        vertical-align: top;\n",
       "    }\n",
       "\n",
       "    .dataframe thead th {\n",
       "        text-align: right;\n",
       "    }\n",
       "</style>\n",
       "<table border=\"1\" class=\"dataframe\">\n",
       "  <thead>\n",
       "    <tr style=\"text-align: right;\">\n",
       "      <th></th>\n",
       "      <th>Roll_ID</th>\n",
       "      <th>Name</th>\n",
       "      <th>Marks</th>\n",
       "    </tr>\n",
       "  </thead>\n",
       "  <tbody>\n",
       "    <tr>\n",
       "      <th>0</th>\n",
       "      <td>412</td>\n",
       "      <td>John</td>\n",
       "      <td>32</td>\n",
       "    </tr>\n",
       "    <tr>\n",
       "      <th>1</th>\n",
       "      <td>0</td>\n",
       "      <td>Mitra</td>\n",
       "      <td>32</td>\n",
       "    </tr>\n",
       "    <tr>\n",
       "      <th>2</th>\n",
       "      <td>456</td>\n",
       "      <td>Ritz</td>\n",
       "      <td>25</td>\n",
       "    </tr>\n",
       "    <tr>\n",
       "      <th>3</th>\n",
       "      <td>0</td>\n",
       "      <td>Anonymous</td>\n",
       "      <td>32</td>\n",
       "    </tr>\n",
       "    <tr>\n",
       "      <th>4</th>\n",
       "      <td>434</td>\n",
       "      <td>Anny</td>\n",
       "      <td>35</td>\n",
       "    </tr>\n",
       "    <tr>\n",
       "      <th>5</th>\n",
       "      <td>429</td>\n",
       "      <td>Hema</td>\n",
       "      <td>28</td>\n",
       "    </tr>\n",
       "    <tr>\n",
       "      <th>6</th>\n",
       "      <td>418</td>\n",
       "      <td>Anonymous</td>\n",
       "      <td>38</td>\n",
       "    </tr>\n",
       "  </tbody>\n",
       "</table>\n",
       "</div>"
      ],
      "text/plain": [
       "   Roll_ID       Name  Marks\n",
       "0      412       John     32\n",
       "1        0      Mitra     32\n",
       "2      456       Ritz     25\n",
       "3        0  Anonymous     32\n",
       "4      434       Anny     35\n",
       "5      429       Hema     28\n",
       "6      418  Anonymous     38"
      ]
     },
     "execution_count": 168,
     "metadata": {},
     "output_type": "execute_result"
    }
   ],
   "source": [
    "df.dropna(how = 'all', axis = 0)"
   ]
  },
  {
   "cell_type": "code",
   "execution_count": null,
   "id": "2860c71f",
   "metadata": {},
   "outputs": [],
   "source": []
  }
 ],
 "metadata": {
  "kernelspec": {
   "display_name": "Python 3 (ipykernel)",
   "language": "python",
   "name": "python3"
  },
  "language_info": {
   "codemirror_mode": {
    "name": "ipython",
    "version": 3
   },
   "file_extension": ".py",
   "mimetype": "text/x-python",
   "name": "python",
   "nbconvert_exporter": "python",
   "pygments_lexer": "ipython3",
   "version": "3.11.5"
  }
 },
 "nbformat": 4,
 "nbformat_minor": 5
}
